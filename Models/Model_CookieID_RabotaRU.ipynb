{
 "cells": [
  {
   "cell_type": "code",
   "execution_count": 9,
   "id": "8d49194d",
   "metadata": {},
   "outputs": [],
   "source": [
    "import numpy as np\n",
    "import pandas as pd\n",
    "\n",
    "import matplotlib.pyplot as plt\n",
    "%matplotlib inline"
   ]
  },
  {
   "cell_type": "code",
   "execution_count": 10,
   "id": "a482a812",
   "metadata": {},
   "outputs": [],
   "source": [
    "from surprise import Dataset, Reader\n",
    "from surprise import SVD, SVDpp, BaselineOnly\n",
    "\n",
    "from surprise.model_selection import train_test_split\n",
    "from surprise.model_selection import cross_validate"
   ]
  },
  {
   "cell_type": "code",
   "execution_count": 11,
   "id": "439de115",
   "metadata": {},
   "outputs": [],
   "source": [
    "from scipy.sparse import csr_matrix\n",
    "\n",
    "from implicit.als import AlternatingLeastSquares\n",
    "from implicit.lmf import LogisticMatrixFactorization"
   ]
  },
  {
   "cell_type": "code",
   "execution_count": 12,
   "id": "19ef8fa5",
   "metadata": {},
   "outputs": [],
   "source": [
    "pd.set_option('display.max_columns', None)\n",
    "pd.set_option('display.max_colwidth', None)\n",
    "pd.set_option('display.max_rows', 30)"
   ]
  },
  {
   "cell_type": "code",
   "execution_count": 13,
   "id": "74a8fea9",
   "metadata": {},
   "outputs": [],
   "source": [
    "random_state_value = 42\n",
    "\n",
    "rating_column_name = 'rating'"
   ]
  },
  {
   "cell_type": "markdown",
   "id": "3aa003de",
   "metadata": {},
   "source": [
    "**Загружаем датасет**"
   ]
  },
  {
   "cell_type": "code",
   "execution_count": 4,
   "id": "9f4bfb33",
   "metadata": {},
   "outputs": [
    {
     "ename": "ModuleNotFoundError",
     "evalue": "No module named 'google'",
     "output_type": "error",
     "traceback": [
      "\u001b[1;31m---------------------------------------------------------------------------\u001b[0m",
      "\u001b[1;31mModuleNotFoundError\u001b[0m                       Traceback (most recent call last)",
      "\u001b[1;32m~\\AppData\\Local\\Temp\\ipykernel_21852\\1408506528.py\u001b[0m in \u001b[0;36m<module>\u001b[1;34m\u001b[0m\n\u001b[1;32m----> 1\u001b[1;33m \u001b[1;32mfrom\u001b[0m \u001b[0mgoogle\u001b[0m\u001b[1;33m.\u001b[0m\u001b[0mcolab\u001b[0m \u001b[1;32mimport\u001b[0m \u001b[0mdrive\u001b[0m\u001b[1;33m\u001b[0m\u001b[1;33m\u001b[0m\u001b[0m\n\u001b[0m\u001b[0;32m      2\u001b[0m \u001b[0mdrive\u001b[0m\u001b[1;33m.\u001b[0m\u001b[0mmount\u001b[0m\u001b[1;33m(\u001b[0m\u001b[1;34m'/content/drive'\u001b[0m\u001b[1;33m)\u001b[0m\u001b[1;33m\u001b[0m\u001b[1;33m\u001b[0m\u001b[0m\n",
      "\u001b[1;31mModuleNotFoundError\u001b[0m: No module named 'google'"
     ]
    }
   ],
   "source": [
    "from google.colab import drive\n",
    "drive.mount('/content/drive')"
   ]
  },
  {
   "cell_type": "code",
   "execution_count": 14,
   "id": "fda003cf",
   "metadata": {},
   "outputs": [],
   "source": [
    "data_dir = 'Data_Rabota'"
   ]
  },
  {
   "cell_type": "code",
   "execution_count": 15,
   "id": "bed52879",
   "metadata": {},
   "outputs": [
    {
     "data": {
      "text/html": [
       "<div>\n",
       "<style scoped>\n",
       "    .dataframe tbody tr th:only-of-type {\n",
       "        vertical-align: middle;\n",
       "    }\n",
       "\n",
       "    .dataframe tbody tr th {\n",
       "        vertical-align: top;\n",
       "    }\n",
       "\n",
       "    .dataframe thead th {\n",
       "        text-align: right;\n",
       "    }\n",
       "</style>\n",
       "<table border=\"1\" class=\"dataframe\">\n",
       "  <thead>\n",
       "    <tr style=\"text-align: right;\">\n",
       "      <th></th>\n",
       "      <th>common_id</th>\n",
       "      <th>event_date</th>\n",
       "      <th>event_timestamp</th>\n",
       "      <th>action_time</th>\n",
       "      <th>vacancy_id_</th>\n",
       "      <th>cookie_id</th>\n",
       "      <th>user_id</th>\n",
       "      <th>event_type</th>\n",
       "    </tr>\n",
       "  </thead>\n",
       "  <tbody>\n",
       "    <tr>\n",
       "      <th>0</th>\n",
       "      <td>1</td>\n",
       "      <td>2022-08-30</td>\n",
       "      <td>1661866548</td>\n",
       "      <td>0.0</td>\n",
       "      <td>153975</td>\n",
       "      <td>0000c4548c3944c08972bbdc1fa4eb85</td>\n",
       "      <td>2eb30fab80244cdebbafd5ed096bc08f</td>\n",
       "      <td>preview_click_vacancy</td>\n",
       "    </tr>\n",
       "    <tr>\n",
       "      <th>1</th>\n",
       "      <td>1</td>\n",
       "      <td>2022-08-30</td>\n",
       "      <td>1661866548</td>\n",
       "      <td>11.0</td>\n",
       "      <td>153975</td>\n",
       "      <td>0000c4548c3944c08972bbdc1fa4eb85</td>\n",
       "      <td>2eb30fab80244cdebbafd5ed096bc08f</td>\n",
       "      <td>show_vacancy</td>\n",
       "    </tr>\n",
       "    <tr>\n",
       "      <th>2</th>\n",
       "      <td>1</td>\n",
       "      <td>2022-08-30</td>\n",
       "      <td>1661866559</td>\n",
       "      <td>0.0</td>\n",
       "      <td>182445</td>\n",
       "      <td>0000c4548c3944c08972bbdc1fa4eb85</td>\n",
       "      <td>2eb30fab80244cdebbafd5ed096bc08f</td>\n",
       "      <td>show_vacancy</td>\n",
       "    </tr>\n",
       "    <tr>\n",
       "      <th>3</th>\n",
       "      <td>1</td>\n",
       "      <td>2022-08-30</td>\n",
       "      <td>1661866559</td>\n",
       "      <td>5.0</td>\n",
       "      <td>182445</td>\n",
       "      <td>0000c4548c3944c08972bbdc1fa4eb85</td>\n",
       "      <td>2eb30fab80244cdebbafd5ed096bc08f</td>\n",
       "      <td>preview_click_vacancy</td>\n",
       "    </tr>\n",
       "    <tr>\n",
       "      <th>4</th>\n",
       "      <td>1</td>\n",
       "      <td>2022-08-30</td>\n",
       "      <td>1661866564</td>\n",
       "      <td>0.0</td>\n",
       "      <td>182445</td>\n",
       "      <td>0000c4548c3944c08972bbdc1fa4eb85</td>\n",
       "      <td>2eb30fab80244cdebbafd5ed096bc08f</td>\n",
       "      <td>show_vacancy</td>\n",
       "    </tr>\n",
       "    <tr>\n",
       "      <th>...</th>\n",
       "      <td>...</td>\n",
       "      <td>...</td>\n",
       "      <td>...</td>\n",
       "      <td>...</td>\n",
       "      <td>...</td>\n",
       "      <td>...</td>\n",
       "      <td>...</td>\n",
       "      <td>...</td>\n",
       "    </tr>\n",
       "    <tr>\n",
       "      <th>12292583</th>\n",
       "      <td>367641</td>\n",
       "      <td>2022-08-22</td>\n",
       "      <td>1661164755</td>\n",
       "      <td>0.0</td>\n",
       "      <td>160164</td>\n",
       "      <td>ffffdb17f45b4032b386d691d52e6c00</td>\n",
       "      <td>None</td>\n",
       "      <td>preview_click_vacancy</td>\n",
       "    </tr>\n",
       "    <tr>\n",
       "      <th>12292584</th>\n",
       "      <td>367641</td>\n",
       "      <td>2022-08-22</td>\n",
       "      <td>1661164755</td>\n",
       "      <td>791.0</td>\n",
       "      <td>160164</td>\n",
       "      <td>ffffdb17f45b4032b386d691d52e6c00</td>\n",
       "      <td>None</td>\n",
       "      <td>preview_click_contacts</td>\n",
       "    </tr>\n",
       "    <tr>\n",
       "      <th>12292585</th>\n",
       "      <td>367641</td>\n",
       "      <td>2022-08-22</td>\n",
       "      <td>1661165546</td>\n",
       "      <td>1.0</td>\n",
       "      <td>185412</td>\n",
       "      <td>ffffdb17f45b4032b386d691d52e6c00</td>\n",
       "      <td>None</td>\n",
       "      <td>preview_click_vacancy</td>\n",
       "    </tr>\n",
       "    <tr>\n",
       "      <th>12292586</th>\n",
       "      <td>367641</td>\n",
       "      <td>2022-08-22</td>\n",
       "      <td>1661165547</td>\n",
       "      <td>5.0</td>\n",
       "      <td>185412</td>\n",
       "      <td>ffffdb17f45b4032b386d691d52e6c00</td>\n",
       "      <td>None</td>\n",
       "      <td>show_vacancy</td>\n",
       "    </tr>\n",
       "    <tr>\n",
       "      <th>12292587</th>\n",
       "      <td>367641</td>\n",
       "      <td>2022-08-22</td>\n",
       "      <td>1661165552</td>\n",
       "      <td>0.0</td>\n",
       "      <td>185412</td>\n",
       "      <td>ffffdb17f45b4032b386d691d52e6c00</td>\n",
       "      <td>None</td>\n",
       "      <td>click_contacts</td>\n",
       "    </tr>\n",
       "  </tbody>\n",
       "</table>\n",
       "<p>12292588 rows × 8 columns</p>\n",
       "</div>"
      ],
      "text/plain": [
       "          common_id  event_date  event_timestamp  action_time  vacancy_id_  \\\n",
       "0                 1  2022-08-30       1661866548          0.0       153975   \n",
       "1                 1  2022-08-30       1661866548         11.0       153975   \n",
       "2                 1  2022-08-30       1661866559          0.0       182445   \n",
       "3                 1  2022-08-30       1661866559          5.0       182445   \n",
       "4                 1  2022-08-30       1661866564          0.0       182445   \n",
       "...             ...         ...              ...          ...          ...   \n",
       "12292583     367641  2022-08-22       1661164755          0.0       160164   \n",
       "12292584     367641  2022-08-22       1661164755        791.0       160164   \n",
       "12292585     367641  2022-08-22       1661165546          1.0       185412   \n",
       "12292586     367641  2022-08-22       1661165547          5.0       185412   \n",
       "12292587     367641  2022-08-22       1661165552          0.0       185412   \n",
       "\n",
       "                                 cookie_id                           user_id  \\\n",
       "0         0000c4548c3944c08972bbdc1fa4eb85  2eb30fab80244cdebbafd5ed096bc08f   \n",
       "1         0000c4548c3944c08972bbdc1fa4eb85  2eb30fab80244cdebbafd5ed096bc08f   \n",
       "2         0000c4548c3944c08972bbdc1fa4eb85  2eb30fab80244cdebbafd5ed096bc08f   \n",
       "3         0000c4548c3944c08972bbdc1fa4eb85  2eb30fab80244cdebbafd5ed096bc08f   \n",
       "4         0000c4548c3944c08972bbdc1fa4eb85  2eb30fab80244cdebbafd5ed096bc08f   \n",
       "...                                    ...                               ...   \n",
       "12292583  ffffdb17f45b4032b386d691d52e6c00                              None   \n",
       "12292584  ffffdb17f45b4032b386d691d52e6c00                              None   \n",
       "12292585  ffffdb17f45b4032b386d691d52e6c00                              None   \n",
       "12292586  ffffdb17f45b4032b386d691d52e6c00                              None   \n",
       "12292587  ffffdb17f45b4032b386d691d52e6c00                              None   \n",
       "\n",
       "                      event_type  \n",
       "0          preview_click_vacancy  \n",
       "1                   show_vacancy  \n",
       "2                   show_vacancy  \n",
       "3          preview_click_vacancy  \n",
       "4                   show_vacancy  \n",
       "...                          ...  \n",
       "12292583   preview_click_vacancy  \n",
       "12292584  preview_click_contacts  \n",
       "12292585   preview_click_vacancy  \n",
       "12292586            show_vacancy  \n",
       "12292587          click_contacts  \n",
       "\n",
       "[12292588 rows x 8 columns]"
      ]
     },
     "execution_count": 15,
     "metadata": {},
     "output_type": "execute_result"
    }
   ],
   "source": [
    "train_df = pd.read_parquet(f\"{data_dir}/Processed_dataset.parquet\")\n",
    "train_df"
   ]
  },
  {
   "cell_type": "code",
   "execution_count": 16,
   "id": "ca2650eb",
   "metadata": {},
   "outputs": [
    {
     "data": {
      "text/html": [
       "<div>\n",
       "<style scoped>\n",
       "    .dataframe tbody tr th:only-of-type {\n",
       "        vertical-align: middle;\n",
       "    }\n",
       "\n",
       "    .dataframe tbody tr th {\n",
       "        vertical-align: top;\n",
       "    }\n",
       "\n",
       "    .dataframe thead th {\n",
       "        text-align: right;\n",
       "    }\n",
       "</style>\n",
       "<table border=\"1\" class=\"dataframe\">\n",
       "  <thead>\n",
       "    <tr style=\"text-align: right;\">\n",
       "      <th></th>\n",
       "      <th>cookie_id</th>\n",
       "      <th>vacancy_id_</th>\n",
       "    </tr>\n",
       "  </thead>\n",
       "  <tbody>\n",
       "    <tr>\n",
       "      <th>0</th>\n",
       "      <td>000cd76cd33f43d4a1ac1d16d10f8bf7</td>\n",
       "      <td>[222177, 222173, 222163, 238874, 238878, 228125, 225604, 235544, 119314]</td>\n",
       "    </tr>\n",
       "    <tr>\n",
       "      <th>1</th>\n",
       "      <td>0034bc7f404341ba8412665453e7825a</td>\n",
       "      <td>[102794, 137587, 257319, 237756, 240744, 113482, 240245, 221376, 242642, 235561, 191512, 222762, 231446, 109269, 205578]</td>\n",
       "    </tr>\n",
       "    <tr>\n",
       "      <th>2</th>\n",
       "      <td>00a6c5a64a274c55a836402bdeb3b2c4</td>\n",
       "      <td>[254292, 164602, 116438, 228634, 218819, 240655, 240659, 237341, 176563, 255299, 245637, 109275, 111505, 212953, 217549, 207108, 200475, 211355, 211449, 108956, 111071, 253239, 109649, 221735, 222030, 222174, 231207, 231022, 234380, 106944, 203948, 175325, 193534, 197505, 234769, 238933, 225709, 184466, 242642, 203015]</td>\n",
       "    </tr>\n",
       "    <tr>\n",
       "      <th>3</th>\n",
       "      <td>015937a125b14e74bdff1cddc49f9172</td>\n",
       "      <td>[246685, 138123, 115420, 210628, 212325, 235196]</td>\n",
       "    </tr>\n",
       "    <tr>\n",
       "      <th>4</th>\n",
       "      <td>01de50c280794cec8804f16f45f847b7</td>\n",
       "      <td>[219070, 251469, 166899, 212703, 214561]</td>\n",
       "    </tr>\n",
       "    <tr>\n",
       "      <th>...</th>\n",
       "      <td>...</td>\n",
       "      <td>...</td>\n",
       "    </tr>\n",
       "    <tr>\n",
       "      <th>767</th>\n",
       "      <td>fdbcda17f22f406486837059e76c7fed</td>\n",
       "      <td>[207851, 254989, 213344, 214180, 222146]</td>\n",
       "    </tr>\n",
       "    <tr>\n",
       "      <th>768</th>\n",
       "      <td>fe6193ab26494ace9be5aae36e507618</td>\n",
       "      <td>[115352, 230546, 225527, 120188, 109360, 232128, 237590, 259570, 244126, 229677, 135447]</td>\n",
       "    </tr>\n",
       "    <tr>\n",
       "      <th>769</th>\n",
       "      <td>fe95b2826ee1452b81201ed3f4c3294d</td>\n",
       "      <td>[240362, 114852, 253946, 251081, 127546, 244688]</td>\n",
       "    </tr>\n",
       "    <tr>\n",
       "      <th>770</th>\n",
       "      <td>ff1aef256a49481698bb2e938510ff36</td>\n",
       "      <td>[231194, 236363, 220747, 244688, 100094, 240521, 179568, 184858, 100103]</td>\n",
       "    </tr>\n",
       "    <tr>\n",
       "      <th>771</th>\n",
       "      <td>ff40591f76e34013a61b8af400002a07</td>\n",
       "      <td>[100336, 116442, 244721, 256719, 230803]</td>\n",
       "    </tr>\n",
       "  </tbody>\n",
       "</table>\n",
       "<p>772 rows × 2 columns</p>\n",
       "</div>"
      ],
      "text/plain": [
       "                            cookie_id  \\\n",
       "0    000cd76cd33f43d4a1ac1d16d10f8bf7   \n",
       "1    0034bc7f404341ba8412665453e7825a   \n",
       "2    00a6c5a64a274c55a836402bdeb3b2c4   \n",
       "3    015937a125b14e74bdff1cddc49f9172   \n",
       "4    01de50c280794cec8804f16f45f847b7   \n",
       "..                                ...   \n",
       "767  fdbcda17f22f406486837059e76c7fed   \n",
       "768  fe6193ab26494ace9be5aae36e507618   \n",
       "769  fe95b2826ee1452b81201ed3f4c3294d   \n",
       "770  ff1aef256a49481698bb2e938510ff36   \n",
       "771  ff40591f76e34013a61b8af400002a07   \n",
       "\n",
       "                                                                                                                                                                                                                                                                                                                          vacancy_id_  \n",
       "0                                                                                                                                                                                                                                                            [222177, 222173, 222163, 238874, 238878, 228125, 225604, 235544, 119314]  \n",
       "1                                                                                                                                                                                                            [102794, 137587, 257319, 237756, 240744, 113482, 240245, 221376, 242642, 235561, 191512, 222762, 231446, 109269, 205578]  \n",
       "2    [254292, 164602, 116438, 228634, 218819, 240655, 240659, 237341, 176563, 255299, 245637, 109275, 111505, 212953, 217549, 207108, 200475, 211355, 211449, 108956, 111071, 253239, 109649, 221735, 222030, 222174, 231207, 231022, 234380, 106944, 203948, 175325, 193534, 197505, 234769, 238933, 225709, 184466, 242642, 203015]  \n",
       "3                                                                                                                                                                                                                                                                                    [246685, 138123, 115420, 210628, 212325, 235196]  \n",
       "4                                                                                                                                                                                                                                                                                            [219070, 251469, 166899, 212703, 214561]  \n",
       "..                                                                                                                                                                                                                                                                                                                                ...  \n",
       "767                                                                                                                                                                                                                                                                                          [207851, 254989, 213344, 214180, 222146]  \n",
       "768                                                                                                                                                                                                                                          [115352, 230546, 225527, 120188, 109360, 232128, 237590, 259570, 244126, 229677, 135447]  \n",
       "769                                                                                                                                                                                                                                                                                  [240362, 114852, 253946, 251081, 127546, 244688]  \n",
       "770                                                                                                                                                                                                                                                          [231194, 236363, 220747, 244688, 100094, 240521, 179568, 184858, 100103]  \n",
       "771                                                                                                                                                                                                                                                                                          [100336, 116442, 244721, 256719, 230803]  \n",
       "\n",
       "[772 rows x 2 columns]"
      ]
     },
     "execution_count": 16,
     "metadata": {},
     "output_type": "execute_result"
    }
   ],
   "source": [
    "test_df = pd.read_parquet(f\"{data_dir}/test_public_mfti.parquet\")\n",
    "test_df  "
   ]
  },
  {
   "cell_type": "code",
   "execution_count": null,
   "id": "2dcc5f0a",
   "metadata": {},
   "outputs": [],
   "source": []
  },
  {
   "cell_type": "code",
   "execution_count": 17,
   "id": "6c4f1a94",
   "metadata": {},
   "outputs": [],
   "source": [
    "nonrel_act_list = ['show_vacancy',\n",
    "                'preview_click_vacancy',\n",
    "                'click_favorite',\n",
    "                'preview_click_favorite']\n",
    "\n",
    "rel_act_list = ['click_response',\n",
    "                'preview_click_response',\n",
    "                'click_contacts',\n",
    "                'preview_click_contacts',\n",
    "                'click_phone',\n",
    "                'preview_click_phone']"
   ]
  },
  {
   "cell_type": "code",
   "execution_count": 18,
   "id": "8e36fdf0",
   "metadata": {},
   "outputs": [],
   "source": [
    "def get_top_n_vacancies(rating_act_list, pos_vacancies_start=0, pos_vacancies_end=100):\n",
    "    show_act = train_df[train_df['event_type'].isin(rating_act_list)].groupby('vacancy_id_')['event_type'].count()\n",
    "    top_n_with_event_quant = show_act.sort_values(ascending=False).iloc[pos_vacancies_start:pos_vacancies_end].to_frame().reset_index()\n",
    "    return top_n_with_event_quant['vacancy_id_'].unique()"
   ]
  },
  {
   "cell_type": "code",
   "execution_count": null,
   "id": "c64799ba",
   "metadata": {},
   "outputs": [],
   "source": []
  },
  {
   "cell_type": "code",
   "execution_count": 19,
   "id": "dddc15ff",
   "metadata": {},
   "outputs": [
    {
     "data": {
      "text/plain": [
       "array([260154, 198114, 203404, 202608, 116823, 164602, 207423, 148714,\n",
       "       111505, 182870, 250327, 111867, 110421, 108242, 242642, 217683,\n",
       "       258441, 158242, 162187, 174953, 176141, 207108, 247535, 110792,\n",
       "       237341, 113305, 240744, 149024, 244077, 113482, 180382, 114583,\n",
       "       182100, 113707, 105907, 210628, 227708, 110793, 247276, 181745,\n",
       "       164481, 193331, 246509, 243868, 190030, 153245, 138634, 169194,\n",
       "       115924, 126251], dtype=int64)"
      ]
     },
     "execution_count": 19,
     "metadata": {},
     "output_type": "execute_result"
    }
   ],
   "source": [
    "# ТОП-50 для рейтинга по просмотрам\n",
    "\n",
    "vac_start = 0\n",
    "vac_end = 50\n",
    "rating_act = ['show_vacancy']\n",
    "\n",
    "top50vac = get_top_n_vacancies(rating_act,\n",
    "                               pos_vacancies_start=vac_start,\n",
    "                               pos_vacancies_end=vac_end)\n",
    "top50vac"
   ]
  },
  {
   "cell_type": "code",
   "execution_count": 20,
   "id": "ec9e642a",
   "metadata": {},
   "outputs": [
    {
     "data": {
      "text/plain": [
       "array([260154, 198114, 203404, 202608, 116823, 164602, 207423, 148714,\n",
       "       111505, 182870, 250327, 111867, 110421, 108242, 242642, 217683,\n",
       "       258441, 158242, 162187, 174953, 176141, 207108, 247535, 110792,\n",
       "       237341, 113305, 240744, 149024, 244077, 113482, 180382, 114583,\n",
       "       182100, 113707, 105907, 210628, 227708, 110793, 247276, 181745,\n",
       "       164481, 193331, 246509, 243868, 190030, 153245, 138634, 169194,\n",
       "       115924, 126251, 164588, 154411, 155539, 120252, 230707, 127352,\n",
       "       214513, 182084, 249571, 207156, 168935, 239021, 184440, 106944,\n",
       "       187360, 206350, 117525, 111592, 150283, 253678, 112506, 117532,\n",
       "       220718, 151616, 109079, 111837, 136266, 164246, 182439, 111890],\n",
       "      dtype=int64)"
      ]
     },
     "execution_count": 20,
     "metadata": {},
     "output_type": "execute_result"
    }
   ],
   "source": [
    "# ТОП-80 для рейтинга по просмотрам\n",
    "\n",
    "vac_start = 0\n",
    "vac_end = 80\n",
    "rating_act = ['show_vacancy']\n",
    "\n",
    "top80vac = get_top_n_vacancies(rating_act,\n",
    "                               pos_vacancies_start=vac_start,\n",
    "                               pos_vacancies_end=vac_end)\n",
    "top80vac"
   ]
  },
  {
   "cell_type": "code",
   "execution_count": null,
   "id": "d337877c",
   "metadata": {},
   "outputs": [],
   "source": []
  },
  {
   "cell_type": "code",
   "execution_count": 21,
   "id": "8d46677d",
   "metadata": {},
   "outputs": [
    {
     "data": {
      "text/plain": [
       "array([260154, 198114, 203404, 202608, 116823, 164602, 207423, 148714,\n",
       "       111505, 182870, 250327, 111867, 110421, 108242, 242642, 217683,\n",
       "       258441, 158242, 162187, 174953, 176141, 207108, 247535, 110792,\n",
       "       237341, 113305, 240744, 149024, 244077, 113482, 180382, 114583,\n",
       "       182100, 113707, 105907, 210628, 227708, 110793, 247276, 181745,\n",
       "       164481, 193331, 246509, 243868, 190030, 153245, 138634, 169194,\n",
       "       115924, 126251, 164588, 154411, 155539, 120252, 230707, 127352,\n",
       "       214513, 182084, 249571, 207156, 168935, 239021, 184440, 106944,\n",
       "       187360, 206350, 117525, 111592, 150283, 253678, 112506, 117532,\n",
       "       220718, 151616, 109079, 111837, 136266, 164246, 182439, 111890,\n",
       "       257631, 143721, 248852, 171332, 128183, 140917, 111941, 212141,\n",
       "       102794, 212325, 229689, 258378, 106293, 176171, 129787, 181275,\n",
       "       190928, 242560, 195702, 191512, 144113, 209568, 219681, 197930,\n",
       "       239624, 128278, 230322, 221108, 171602, 154423, 205606, 209422,\n",
       "       248720, 173337, 114328, 187662, 201312, 198348, 200506, 121184,\n",
       "       115977, 176131, 173648, 242814, 153970, 192565, 221349, 179082,\n",
       "       207211, 221419, 253833, 154568, 196428, 162851, 246570, 228572,\n",
       "       206544, 117897, 132005, 178135, 103881, 168781, 106943, 195403,\n",
       "       109685, 176046, 141487, 142619, 244994, 125867, 153944, 230326,\n",
       "       193250, 152046, 149354, 232857, 119337, 239318, 186617, 221920,\n",
       "       103713, 101396, 138123, 134147, 257871, 182289, 106626, 127052,\n",
       "       101194, 212027, 113018, 252289, 104276, 241134, 109157, 212953,\n",
       "       247299, 230467, 219770, 164236, 161649, 137659, 173350, 140813,\n",
       "       182173, 192562, 124853, 101410, 107882, 133079, 210503, 212987,\n",
       "       140184, 173659, 242145, 184628, 176285, 240663, 150516, 207302],\n",
       "      dtype=int64)"
      ]
     },
     "execution_count": 21,
     "metadata": {},
     "output_type": "execute_result"
    }
   ],
   "source": [
    "# ТОП-200 для рейтинга по просмотрам\n",
    "\n",
    "vac_start = 0\n",
    "vac_end = 200\n",
    "rating_act = ['show_vacancy']\n",
    "\n",
    "top200vac = get_top_n_vacancies(rating_act,\n",
    "                                pos_vacancies_start=vac_start,\n",
    "                                pos_vacancies_end=vac_end)\n",
    "top200vac"
   ]
  },
  {
   "cell_type": "code",
   "execution_count": null,
   "id": "4bf9315f",
   "metadata": {},
   "outputs": [],
   "source": []
  },
  {
   "cell_type": "code",
   "execution_count": 22,
   "id": "4e16d9d4",
   "metadata": {},
   "outputs": [
    {
     "data": {
      "text/plain": [
       "array([250327, 111867, 110421, 108242, 242642, 217683, 258441, 158242,\n",
       "       162187, 174953, 176141, 207108, 247535, 110792, 237341, 113305,\n",
       "       240744, 149024, 244077, 113482, 180382, 114583, 182100, 113707,\n",
       "       105907, 210628, 227708, 110793, 247276, 181745, 164481, 193331,\n",
       "       246509, 243868, 190030, 153245, 138634, 169194, 115924, 126251,\n",
       "       164588, 154411, 155539, 120252, 230707, 127352, 214513, 182084,\n",
       "       249571, 207156, 168935, 239021, 184440, 106944, 187360, 206350,\n",
       "       117525, 111592, 150283, 253678, 112506, 117532, 220718, 151616,\n",
       "       109079, 111837, 136266, 164246, 182439, 111890, 257631, 143721,\n",
       "       248852, 171332, 128183, 140917, 111941, 212141, 102794, 212325,\n",
       "       229689, 258378, 106293, 176171, 129787], dtype=int64)"
      ]
     },
     "execution_count": 22,
     "metadata": {},
     "output_type": "execute_result"
    }
   ],
   "source": [
    "# Топ вакансий с 10 до 95\n",
    "\n",
    "vac_start = 10\n",
    "vac_end = 95\n",
    "rating_act = ['show_vacancy']\n",
    "\n",
    "top95vac_from10 = get_top_n_vacancies(rating_act,\n",
    "                                                      pos_vacancies_start=vac_start,\n",
    "                                                      pos_vacancies_end=vac_end)\n",
    "top95vac_from10"
   ]
  },
  {
   "cell_type": "code",
   "execution_count": null,
   "id": "77140bbd",
   "metadata": {},
   "outputs": [],
   "source": []
  },
  {
   "cell_type": "code",
   "execution_count": 23,
   "id": "ec88cf2a",
   "metadata": {},
   "outputs": [
    {
     "data": {
      "text/html": [
       "<div>\n",
       "<style scoped>\n",
       "    .dataframe tbody tr th:only-of-type {\n",
       "        vertical-align: middle;\n",
       "    }\n",
       "\n",
       "    .dataframe tbody tr th {\n",
       "        vertical-align: top;\n",
       "    }\n",
       "\n",
       "    .dataframe thead th {\n",
       "        text-align: right;\n",
       "    }\n",
       "</style>\n",
       "<table border=\"1\" class=\"dataframe\">\n",
       "  <thead>\n",
       "    <tr style=\"text-align: right;\">\n",
       "      <th></th>\n",
       "      <th>common_id</th>\n",
       "      <th>event_date</th>\n",
       "      <th>event_timestamp</th>\n",
       "      <th>action_time</th>\n",
       "      <th>vacancy_id_</th>\n",
       "      <th>cookie_id</th>\n",
       "      <th>user_id</th>\n",
       "      <th>event_type</th>\n",
       "      <th>rating</th>\n",
       "    </tr>\n",
       "  </thead>\n",
       "  <tbody>\n",
       "    <tr>\n",
       "      <th>0</th>\n",
       "      <td>1</td>\n",
       "      <td>2022-08-30</td>\n",
       "      <td>1661866548</td>\n",
       "      <td>0.0</td>\n",
       "      <td>153975</td>\n",
       "      <td>0000c4548c3944c08972bbdc1fa4eb85</td>\n",
       "      <td>2eb30fab80244cdebbafd5ed096bc08f</td>\n",
       "      <td>preview_click_vacancy</td>\n",
       "      <td>0</td>\n",
       "    </tr>\n",
       "    <tr>\n",
       "      <th>1</th>\n",
       "      <td>1</td>\n",
       "      <td>2022-08-30</td>\n",
       "      <td>1661866548</td>\n",
       "      <td>11.0</td>\n",
       "      <td>153975</td>\n",
       "      <td>0000c4548c3944c08972bbdc1fa4eb85</td>\n",
       "      <td>2eb30fab80244cdebbafd5ed096bc08f</td>\n",
       "      <td>show_vacancy</td>\n",
       "      <td>0</td>\n",
       "    </tr>\n",
       "    <tr>\n",
       "      <th>2</th>\n",
       "      <td>1</td>\n",
       "      <td>2022-08-30</td>\n",
       "      <td>1661866559</td>\n",
       "      <td>0.0</td>\n",
       "      <td>182445</td>\n",
       "      <td>0000c4548c3944c08972bbdc1fa4eb85</td>\n",
       "      <td>2eb30fab80244cdebbafd5ed096bc08f</td>\n",
       "      <td>show_vacancy</td>\n",
       "      <td>0</td>\n",
       "    </tr>\n",
       "    <tr>\n",
       "      <th>3</th>\n",
       "      <td>1</td>\n",
       "      <td>2022-08-30</td>\n",
       "      <td>1661866559</td>\n",
       "      <td>5.0</td>\n",
       "      <td>182445</td>\n",
       "      <td>0000c4548c3944c08972bbdc1fa4eb85</td>\n",
       "      <td>2eb30fab80244cdebbafd5ed096bc08f</td>\n",
       "      <td>preview_click_vacancy</td>\n",
       "      <td>0</td>\n",
       "    </tr>\n",
       "    <tr>\n",
       "      <th>4</th>\n",
       "      <td>1</td>\n",
       "      <td>2022-08-30</td>\n",
       "      <td>1661866564</td>\n",
       "      <td>0.0</td>\n",
       "      <td>182445</td>\n",
       "      <td>0000c4548c3944c08972bbdc1fa4eb85</td>\n",
       "      <td>2eb30fab80244cdebbafd5ed096bc08f</td>\n",
       "      <td>show_vacancy</td>\n",
       "      <td>0</td>\n",
       "    </tr>\n",
       "    <tr>\n",
       "      <th>...</th>\n",
       "      <td>...</td>\n",
       "      <td>...</td>\n",
       "      <td>...</td>\n",
       "      <td>...</td>\n",
       "      <td>...</td>\n",
       "      <td>...</td>\n",
       "      <td>...</td>\n",
       "      <td>...</td>\n",
       "      <td>...</td>\n",
       "    </tr>\n",
       "    <tr>\n",
       "      <th>12292583</th>\n",
       "      <td>367641</td>\n",
       "      <td>2022-08-22</td>\n",
       "      <td>1661164755</td>\n",
       "      <td>0.0</td>\n",
       "      <td>160164</td>\n",
       "      <td>ffffdb17f45b4032b386d691d52e6c00</td>\n",
       "      <td>None</td>\n",
       "      <td>preview_click_vacancy</td>\n",
       "      <td>0</td>\n",
       "    </tr>\n",
       "    <tr>\n",
       "      <th>12292584</th>\n",
       "      <td>367641</td>\n",
       "      <td>2022-08-22</td>\n",
       "      <td>1661164755</td>\n",
       "      <td>791.0</td>\n",
       "      <td>160164</td>\n",
       "      <td>ffffdb17f45b4032b386d691d52e6c00</td>\n",
       "      <td>None</td>\n",
       "      <td>preview_click_contacts</td>\n",
       "      <td>1</td>\n",
       "    </tr>\n",
       "    <tr>\n",
       "      <th>12292585</th>\n",
       "      <td>367641</td>\n",
       "      <td>2022-08-22</td>\n",
       "      <td>1661165546</td>\n",
       "      <td>1.0</td>\n",
       "      <td>185412</td>\n",
       "      <td>ffffdb17f45b4032b386d691d52e6c00</td>\n",
       "      <td>None</td>\n",
       "      <td>preview_click_vacancy</td>\n",
       "      <td>0</td>\n",
       "    </tr>\n",
       "    <tr>\n",
       "      <th>12292586</th>\n",
       "      <td>367641</td>\n",
       "      <td>2022-08-22</td>\n",
       "      <td>1661165547</td>\n",
       "      <td>5.0</td>\n",
       "      <td>185412</td>\n",
       "      <td>ffffdb17f45b4032b386d691d52e6c00</td>\n",
       "      <td>None</td>\n",
       "      <td>show_vacancy</td>\n",
       "      <td>0</td>\n",
       "    </tr>\n",
       "    <tr>\n",
       "      <th>12292587</th>\n",
       "      <td>367641</td>\n",
       "      <td>2022-08-22</td>\n",
       "      <td>1661165552</td>\n",
       "      <td>0.0</td>\n",
       "      <td>185412</td>\n",
       "      <td>ffffdb17f45b4032b386d691d52e6c00</td>\n",
       "      <td>None</td>\n",
       "      <td>click_contacts</td>\n",
       "      <td>1</td>\n",
       "    </tr>\n",
       "  </tbody>\n",
       "</table>\n",
       "<p>12292588 rows × 9 columns</p>\n",
       "</div>"
      ],
      "text/plain": [
       "          common_id  event_date  event_timestamp  action_time  vacancy_id_  \\\n",
       "0                 1  2022-08-30       1661866548          0.0       153975   \n",
       "1                 1  2022-08-30       1661866548         11.0       153975   \n",
       "2                 1  2022-08-30       1661866559          0.0       182445   \n",
       "3                 1  2022-08-30       1661866559          5.0       182445   \n",
       "4                 1  2022-08-30       1661866564          0.0       182445   \n",
       "...             ...         ...              ...          ...          ...   \n",
       "12292583     367641  2022-08-22       1661164755          0.0       160164   \n",
       "12292584     367641  2022-08-22       1661164755        791.0       160164   \n",
       "12292585     367641  2022-08-22       1661165546          1.0       185412   \n",
       "12292586     367641  2022-08-22       1661165547          5.0       185412   \n",
       "12292587     367641  2022-08-22       1661165552          0.0       185412   \n",
       "\n",
       "                                 cookie_id                           user_id  \\\n",
       "0         0000c4548c3944c08972bbdc1fa4eb85  2eb30fab80244cdebbafd5ed096bc08f   \n",
       "1         0000c4548c3944c08972bbdc1fa4eb85  2eb30fab80244cdebbafd5ed096bc08f   \n",
       "2         0000c4548c3944c08972bbdc1fa4eb85  2eb30fab80244cdebbafd5ed096bc08f   \n",
       "3         0000c4548c3944c08972bbdc1fa4eb85  2eb30fab80244cdebbafd5ed096bc08f   \n",
       "4         0000c4548c3944c08972bbdc1fa4eb85  2eb30fab80244cdebbafd5ed096bc08f   \n",
       "...                                    ...                               ...   \n",
       "12292583  ffffdb17f45b4032b386d691d52e6c00                              None   \n",
       "12292584  ffffdb17f45b4032b386d691d52e6c00                              None   \n",
       "12292585  ffffdb17f45b4032b386d691d52e6c00                              None   \n",
       "12292586  ffffdb17f45b4032b386d691d52e6c00                              None   \n",
       "12292587  ffffdb17f45b4032b386d691d52e6c00                              None   \n",
       "\n",
       "                      event_type  rating  \n",
       "0          preview_click_vacancy       0  \n",
       "1                   show_vacancy       0  \n",
       "2                   show_vacancy       0  \n",
       "3          preview_click_vacancy       0  \n",
       "4                   show_vacancy       0  \n",
       "...                          ...     ...  \n",
       "12292583   preview_click_vacancy       0  \n",
       "12292584  preview_click_contacts       1  \n",
       "12292585   preview_click_vacancy       0  \n",
       "12292586            show_vacancy       0  \n",
       "12292587          click_contacts       1  \n",
       "\n",
       "[12292588 rows x 9 columns]"
      ]
     },
     "execution_count": 23,
     "metadata": {},
     "output_type": "execute_result"
    }
   ],
   "source": [
    "# Создаем колонку с типом действия для рейтинга\n",
    "# 1 - целевое действие, 0 - остальные действия\n",
    "\n",
    "def check_is_purpose(event):\n",
    "    if event in rel_act_list:\n",
    "        return 1\n",
    "    else:\n",
    "        return 0\n",
    "\n",
    "train_df[rating_column_name] = train_df['event_type'].apply(check_is_purpose)\n",
    "train_df"
   ]
  },
  {
   "cell_type": "code",
   "execution_count": 24,
   "id": "b32b8168",
   "metadata": {},
   "outputs": [
    {
     "data": {
      "text/html": [
       "<div>\n",
       "<style scoped>\n",
       "    .dataframe tbody tr th:only-of-type {\n",
       "        vertical-align: middle;\n",
       "    }\n",
       "\n",
       "    .dataframe tbody tr th {\n",
       "        vertical-align: top;\n",
       "    }\n",
       "\n",
       "    .dataframe thead th {\n",
       "        text-align: right;\n",
       "    }\n",
       "</style>\n",
       "<table border=\"1\" class=\"dataframe\">\n",
       "  <thead>\n",
       "    <tr style=\"text-align: right;\">\n",
       "      <th></th>\n",
       "      <th>cookie_id</th>\n",
       "      <th>vacancy_id_</th>\n",
       "      <th>rating</th>\n",
       "    </tr>\n",
       "  </thead>\n",
       "  <tbody>\n",
       "    <tr>\n",
       "      <th>0</th>\n",
       "      <td>0000c4548c3944c08972bbdc1fa4eb85</td>\n",
       "      <td>137659</td>\n",
       "      <td>0</td>\n",
       "    </tr>\n",
       "    <tr>\n",
       "      <th>1</th>\n",
       "      <td>0000c4548c3944c08972bbdc1fa4eb85</td>\n",
       "      <td>153975</td>\n",
       "      <td>0</td>\n",
       "    </tr>\n",
       "    <tr>\n",
       "      <th>2</th>\n",
       "      <td>0000c4548c3944c08972bbdc1fa4eb85</td>\n",
       "      <td>174953</td>\n",
       "      <td>0</td>\n",
       "    </tr>\n",
       "    <tr>\n",
       "      <th>3</th>\n",
       "      <td>0000c4548c3944c08972bbdc1fa4eb85</td>\n",
       "      <td>176171</td>\n",
       "      <td>0</td>\n",
       "    </tr>\n",
       "    <tr>\n",
       "      <th>4</th>\n",
       "      <td>0000c4548c3944c08972bbdc1fa4eb85</td>\n",
       "      <td>182445</td>\n",
       "      <td>0</td>\n",
       "    </tr>\n",
       "    <tr>\n",
       "      <th>...</th>\n",
       "      <td>...</td>\n",
       "      <td>...</td>\n",
       "      <td>...</td>\n",
       "    </tr>\n",
       "    <tr>\n",
       "      <th>4678580</th>\n",
       "      <td>ffffdb17f45b4032b386d691d52e6c00</td>\n",
       "      <td>107125</td>\n",
       "      <td>1</td>\n",
       "    </tr>\n",
       "    <tr>\n",
       "      <th>4678581</th>\n",
       "      <td>ffffdb17f45b4032b386d691d52e6c00</td>\n",
       "      <td>107893</td>\n",
       "      <td>1</td>\n",
       "    </tr>\n",
       "    <tr>\n",
       "      <th>4678582</th>\n",
       "      <td>ffffdb17f45b4032b386d691d52e6c00</td>\n",
       "      <td>150843</td>\n",
       "      <td>1</td>\n",
       "    </tr>\n",
       "    <tr>\n",
       "      <th>4678583</th>\n",
       "      <td>ffffdb17f45b4032b386d691d52e6c00</td>\n",
       "      <td>160164</td>\n",
       "      <td>1</td>\n",
       "    </tr>\n",
       "    <tr>\n",
       "      <th>4678584</th>\n",
       "      <td>ffffdb17f45b4032b386d691d52e6c00</td>\n",
       "      <td>185412</td>\n",
       "      <td>1</td>\n",
       "    </tr>\n",
       "  </tbody>\n",
       "</table>\n",
       "<p>4678585 rows × 3 columns</p>\n",
       "</div>"
      ],
      "text/plain": [
       "                                cookie_id  vacancy_id_  rating\n",
       "0        0000c4548c3944c08972bbdc1fa4eb85       137659       0\n",
       "1        0000c4548c3944c08972bbdc1fa4eb85       153975       0\n",
       "2        0000c4548c3944c08972bbdc1fa4eb85       174953       0\n",
       "3        0000c4548c3944c08972bbdc1fa4eb85       176171       0\n",
       "4        0000c4548c3944c08972bbdc1fa4eb85       182445       0\n",
       "...                                   ...          ...     ...\n",
       "4678580  ffffdb17f45b4032b386d691d52e6c00       107125       1\n",
       "4678581  ffffdb17f45b4032b386d691d52e6c00       107893       1\n",
       "4678582  ffffdb17f45b4032b386d691d52e6c00       150843       1\n",
       "4678583  ffffdb17f45b4032b386d691d52e6c00       160164       1\n",
       "4678584  ffffdb17f45b4032b386d691d52e6c00       185412       1\n",
       "\n",
       "[4678585 rows x 3 columns]"
      ]
     },
     "execution_count": 24,
     "metadata": {},
     "output_type": "execute_result"
    }
   ],
   "source": [
    "# Готовим датафрейм для обучения модели:\n",
    "\n",
    "train_matrix = train_df.groupby(['cookie_id', 'vacancy_id_'], as_index=False)[rating_column_name].sum()\n",
    "train_matrix"
   ]
  },
  {
   "cell_type": "code",
   "execution_count": 25,
   "id": "48b8ba48",
   "metadata": {},
   "outputs": [],
   "source": [
    "# Функция для создания рейтинга на основе порогового значения для целевых действий\n",
    "\n",
    "def create_rating(input_rating, thresholds):\n",
    "    rating = input_rating\n",
    "    if rating >= max(rating_thresholds):\n",
    "        rating = thresholds[max(rating_thresholds)]\n",
    "    else:\n",
    "        rating = thresholds[rating_thresholds[rating]]\n",
    "    return rating"
   ]
  },
  {
   "cell_type": "code",
   "execution_count": 26,
   "id": "e2151eec",
   "metadata": {},
   "outputs": [
    {
     "data": {
      "text/plain": [
       "array([0, 1], dtype=int64)"
      ]
     },
     "execution_count": 26,
     "metadata": {},
     "output_type": "execute_result"
    }
   ],
   "source": [
    "# Создаем рейтинг\n",
    "# Принципы построения\n",
    "# 1. rating >= 1 - rating = 1\n",
    "# 2. rating = 0 - оставляем без изменения\n",
    "\n",
    "rating_thresholds = {0: 0, 1: 1}\n",
    "\n",
    "train_matrix_0_1 = train_matrix.copy()\n",
    "train_matrix_0_1[rating_column_name] = train_matrix_0_1[rating_column_name].apply(create_rating, thresholds = rating_thresholds)\n",
    "train_matrix_0_1\n",
    "train_matrix_0_1[rating_column_name].unique()"
   ]
  },
  {
   "cell_type": "code",
   "execution_count": 28,
   "id": "a376ee28",
   "metadata": {},
   "outputs": [
    {
     "data": {
      "text/plain": [
       "array([0, 1, 2], dtype=int64)"
      ]
     },
     "execution_count": 28,
     "metadata": {},
     "output_type": "execute_result"
    }
   ],
   "source": [
    "# Создаем рейтинг\n",
    "# Принципы построения\n",
    "# 1. rating >= 2 (2 и больше целевых действия у пользователя) - rating = 2\n",
    "# 2. rating = 1 и rating = 0 - оставляем без изменения\n",
    "\n",
    "rating_thresholds = {0: 0, 1: 1, 2: 2}\n",
    "\n",
    "train_matrix_0_2 = train_matrix.copy()\n",
    "train_matrix_0_2[rating_column_name] = train_matrix_0_2[rating_column_name].apply(create_rating, thresholds = rating_thresholds)\n",
    "train_matrix_0_2\n",
    "train_matrix_0_2[rating_column_name].unique()"
   ]
  },
  {
   "cell_type": "code",
   "execution_count": 29,
   "id": "1b44e905",
   "metadata": {},
   "outputs": [
    {
     "data": {
      "text/plain": [
       "array([0. , 1. , 1.5])"
      ]
     },
     "execution_count": 29,
     "metadata": {},
     "output_type": "execute_result"
    }
   ],
   "source": [
    "# Создаем рейтинг\n",
    "# Принципы построения\n",
    "# 1. rating >= 2 (2 и больше целевых действия у пользователя) - rating = 1.5\n",
    "# 2. rating = 1 и rating = 0 - оставляем без изменения\n",
    "\n",
    "rating_thresholds = {0: 0, 1: 1, 2: 1.5}\n",
    "\n",
    "train_matrix_0_15 = train_matrix.copy()\n",
    "train_matrix_0_15[rating_column_name] = train_matrix_0_15[rating_column_name].apply(create_rating, thresholds = rating_thresholds)\n",
    "train_matrix_0_15\n",
    "train_matrix_0_15[rating_column_name].unique()"
   ]
  },
  {
   "cell_type": "code",
   "execution_count": 46,
   "id": "762ee238",
   "metadata": {},
   "outputs": [],
   "source": [
    "norm_rating_column_name = rating_column_name + '_norm'\n",
    "\n",
    "train_matrix_0_2[norm_rating_column_name] = (train_matrix_0_2[rating_column_name] - train_matrix_0_2[rating_column_name].min()) / (train_matrix_0_2[rating_column_name].max() - train_matrix_0_2[rating_column_name].min())    \n",
    "train_matrix_0_15[norm_rating_column_name] = (train_matrix_0_15[rating_column_name] - train_matrix_0_15[rating_column_name].min()) / (train_matrix_0_15[rating_column_name].max() - train_matrix_0_15[rating_column_name].min())    "
   ]
  },
  {
   "cell_type": "code",
   "execution_count": 47,
   "id": "ecb85044",
   "metadata": {},
   "outputs": [
    {
     "data": {
      "text/plain": [
       "array([0. , 0.5, 1. ])"
      ]
     },
     "execution_count": 47,
     "metadata": {},
     "output_type": "execute_result"
    }
   ],
   "source": [
    "train_matrix_0_2[norm_rating_column_name].unique()"
   ]
  },
  {
   "cell_type": "code",
   "execution_count": 48,
   "id": "73dce103",
   "metadata": {},
   "outputs": [
    {
     "data": {
      "text/plain": [
       "array([0.        , 0.66666667, 1.        ])"
      ]
     },
     "execution_count": 48,
     "metadata": {},
     "output_type": "execute_result"
    }
   ],
   "source": [
    "train_matrix_0_15[norm_rating_column_name].unique()"
   ]
  },
  {
   "cell_type": "code",
   "execution_count": null,
   "id": "89d3317b",
   "metadata": {},
   "outputs": [],
   "source": []
  },
  {
   "cell_type": "code",
   "execution_count": 50,
   "id": "73142954",
   "metadata": {},
   "outputs": [],
   "source": [
    "# Готовим данные для обучения модели\n",
    "\n",
    "reader = Reader(rating_scale=(0, 1))\n",
    "train_data_0_1 = Dataset.load_from_df(train_matrix_0_1[['cookie_id', 'vacancy_id_', rating_column_name]], reader)\n",
    "\n",
    "reader = Reader(rating_scale=(0, 2))\n",
    "train_data_0_2 = Dataset.load_from_df(train_matrix_0_2[['cookie_id', 'vacancy_id_', rating_column_name]], reader)\n",
    "\n",
    "reader = Reader(rating_scale=(0, 1))\n",
    "train_data_0_2_norm = Dataset.load_from_df(train_matrix_0_2[['cookie_id', 'vacancy_id_', norm_rating_column_name]], reader)\n",
    "\n",
    "reader = Reader(rating_scale=(0, 1.5))\n",
    "train_data_0_15 = Dataset.load_from_df(train_matrix_0_15[['cookie_id', 'vacancy_id_', rating_column_name]], reader)\n",
    "\n",
    "reader = Reader(rating_scale=(0, 1))\n",
    "train_data_0_15_norm = Dataset.load_from_df(train_matrix_0_15[['cookie_id', 'vacancy_id_', norm_rating_column_name]], reader)"
   ]
  },
  {
   "cell_type": "code",
   "execution_count": 51,
   "id": "644eb625",
   "metadata": {},
   "outputs": [
    {
     "name": "stdout",
     "output_type": "stream",
     "text": [
      "Processing epoch 0\n",
      "Processing epoch 1\n",
      "Processing epoch 2\n",
      "Processing epoch 3\n",
      "Processing epoch 4\n",
      "Processing epoch 5\n",
      "Processing epoch 6\n",
      "Processing epoch 7\n",
      "Processing epoch 8\n",
      "Processing epoch 9\n",
      "Processing epoch 10\n",
      "Processing epoch 11\n",
      "Processing epoch 12\n",
      "Processing epoch 13\n",
      "Processing epoch 14\n",
      "Processing epoch 15\n",
      "Processing epoch 16\n",
      "Processing epoch 17\n",
      "Processing epoch 18\n",
      "Processing epoch 19\n"
     ]
    },
    {
     "data": {
      "text/plain": [
       "<surprise.prediction_algorithms.matrix_factorization.SVD at 0x1e36e941f70>"
      ]
     },
     "execution_count": 51,
     "metadata": {},
     "output_type": "execute_result"
    }
   ],
   "source": [
    "# Обучаем модель для датасета с рейтингом 0 или 1\n",
    "\n",
    "svd_20epochs_0_1 = SVD(verbose=True, n_epochs=20)\n",
    "trainset_0_1 = train_data_0_1.build_full_trainset()\n",
    "svd_20epochs_0_1.fit(trainset_0_1)"
   ]
  },
  {
   "cell_type": "code",
   "execution_count": 52,
   "id": "b7aa8c1c",
   "metadata": {},
   "outputs": [
    {
     "name": "stdout",
     "output_type": "stream",
     "text": [
      "Processing epoch 0\n",
      "Processing epoch 1\n",
      "Processing epoch 2\n",
      "Processing epoch 3\n",
      "Processing epoch 4\n",
      "Processing epoch 5\n",
      "Processing epoch 6\n",
      "Processing epoch 7\n",
      "Processing epoch 8\n",
      "Processing epoch 9\n",
      "Processing epoch 10\n",
      "Processing epoch 11\n",
      "Processing epoch 12\n",
      "Processing epoch 13\n",
      "Processing epoch 14\n",
      "Processing epoch 15\n",
      "Processing epoch 16\n",
      "Processing epoch 17\n",
      "Processing epoch 18\n",
      "Processing epoch 19\n"
     ]
    },
    {
     "data": {
      "text/plain": [
       "<surprise.prediction_algorithms.matrix_factorization.SVD at 0x1e37ec0beb0>"
      ]
     },
     "execution_count": 52,
     "metadata": {},
     "output_type": "execute_result"
    }
   ],
   "source": [
    "# Обучаем модель для датасета с рейтингом 0, 1 или 2\n",
    "\n",
    "svd_20epochs_0_2 = SVD(verbose=True, n_epochs=20)\n",
    "trainset_0_2 = train_data_0_2.build_full_trainset()\n",
    "svd_20epochs_0_2.fit(trainset_0_2)"
   ]
  },
  {
   "cell_type": "code",
   "execution_count": 53,
   "id": "35d42a7e",
   "metadata": {},
   "outputs": [
    {
     "name": "stdout",
     "output_type": "stream",
     "text": [
      "Processing epoch 0\n",
      "Processing epoch 1\n",
      "Processing epoch 2\n",
      "Processing epoch 3\n",
      "Processing epoch 4\n",
      "Processing epoch 5\n",
      "Processing epoch 6\n",
      "Processing epoch 7\n",
      "Processing epoch 8\n",
      "Processing epoch 9\n",
      "Processing epoch 10\n",
      "Processing epoch 11\n",
      "Processing epoch 12\n",
      "Processing epoch 13\n",
      "Processing epoch 14\n",
      "Processing epoch 15\n",
      "Processing epoch 16\n",
      "Processing epoch 17\n",
      "Processing epoch 18\n",
      "Processing epoch 19\n"
     ]
    },
    {
     "data": {
      "text/plain": [
       "<surprise.prediction_algorithms.matrix_factorization.SVD at 0x1e37ec0b520>"
      ]
     },
     "execution_count": 53,
     "metadata": {},
     "output_type": "execute_result"
    }
   ],
   "source": [
    "# Обучаем модель для датасета с нормализованным рейтингом 0, 1 или 2\n",
    "\n",
    "svd_20epochs_0_2_norm = SVD(verbose=True, n_epochs=20)\n",
    "trainset_0_2_norm = train_data_0_2_norm.build_full_trainset()\n",
    "svd_20epochs_0_2_norm.fit(trainset_0_2_norm)"
   ]
  },
  {
   "cell_type": "code",
   "execution_count": 54,
   "id": "d845efb4",
   "metadata": {},
   "outputs": [
    {
     "name": "stdout",
     "output_type": "stream",
     "text": [
      "Processing epoch 0\n",
      "Processing epoch 1\n",
      "Processing epoch 2\n",
      "Processing epoch 3\n",
      "Processing epoch 4\n",
      "Processing epoch 5\n",
      "Processing epoch 6\n",
      "Processing epoch 7\n",
      "Processing epoch 8\n",
      "Processing epoch 9\n",
      "Processing epoch 10\n",
      "Processing epoch 11\n",
      "Processing epoch 12\n",
      "Processing epoch 13\n",
      "Processing epoch 14\n",
      "Processing epoch 15\n",
      "Processing epoch 16\n",
      "Processing epoch 17\n",
      "Processing epoch 18\n",
      "Processing epoch 19\n"
     ]
    },
    {
     "data": {
      "text/plain": [
       "<surprise.prediction_algorithms.matrix_factorization.SVD at 0x1e36e941460>"
      ]
     },
     "execution_count": 54,
     "metadata": {},
     "output_type": "execute_result"
    }
   ],
   "source": [
    "# Обучаем модель для датасета с рейтингом 0, 1 или 1.5\n",
    "\n",
    "svd_20epochs_0_15 = SVD(verbose=True, n_epochs=20)\n",
    "trainset_0_15 = train_data_0_15.build_full_trainset()\n",
    "svd_20epochs_0_15.fit(trainset_0_15)"
   ]
  },
  {
   "cell_type": "code",
   "execution_count": 55,
   "id": "2e7b5abf",
   "metadata": {},
   "outputs": [
    {
     "name": "stdout",
     "output_type": "stream",
     "text": [
      "Processing epoch 0\n",
      "Processing epoch 1\n",
      "Processing epoch 2\n",
      "Processing epoch 3\n",
      "Processing epoch 4\n",
      "Processing epoch 5\n",
      "Processing epoch 6\n",
      "Processing epoch 7\n",
      "Processing epoch 8\n",
      "Processing epoch 9\n",
      "Processing epoch 10\n",
      "Processing epoch 11\n",
      "Processing epoch 12\n",
      "Processing epoch 13\n",
      "Processing epoch 14\n",
      "Processing epoch 15\n",
      "Processing epoch 16\n",
      "Processing epoch 17\n",
      "Processing epoch 18\n",
      "Processing epoch 19\n"
     ]
    },
    {
     "data": {
      "text/plain": [
       "<surprise.prediction_algorithms.matrix_factorization.SVD at 0x1e36e941820>"
      ]
     },
     "execution_count": 55,
     "metadata": {},
     "output_type": "execute_result"
    }
   ],
   "source": [
    "# Обучаем модель для датасета с нормализованным рейтингом 0, 1 или 1.5\n",
    "\n",
    "svd_20epochs_0_15_norm = SVD(verbose=True, n_epochs=20)\n",
    "trainset_0_15_norm = train_data_0_15_norm.build_full_trainset()\n",
    "svd_20epochs_0_15_norm.fit(trainset_0_15_norm)"
   ]
  },
  {
   "cell_type": "code",
   "execution_count": null,
   "id": "6f18328c",
   "metadata": {},
   "outputs": [],
   "source": []
  },
  {
   "cell_type": "code",
   "execution_count": null,
   "id": "f0647218",
   "metadata": {},
   "outputs": [],
   "source": []
  },
  {
   "cell_type": "code",
   "execution_count": 58,
   "id": "ed84b8ec",
   "metadata": {},
   "outputs": [],
   "source": [
    "col_names ={\n",
    "    'id_col_name': 'cookie_id',\n",
    "    'vac_col_name': 'vacancy_id_',\n",
    "    'rating_col_name': rating_column_name\n",
    "}"
   ]
  },
  {
   "cell_type": "code",
   "execution_count": 59,
   "id": "263533fe",
   "metadata": {},
   "outputs": [],
   "source": [
    "norm_col_names ={\n",
    "    'id_col_name': 'cookie_id',\n",
    "    'vac_col_name': 'vacancy_id_',\n",
    "    'rating_col_name': norm_rating_column_name\n",
    "}"
   ]
  },
  {
   "cell_type": "code",
   "execution_count": 60,
   "id": "1a37b804",
   "metadata": {},
   "outputs": [],
   "source": [
    "def transform_into_sparse_matrix(input_df, col_names):\n",
    "    input_df_fixed = input_df.copy()\n",
    "    input_df_fixed[col_names['id_col_name']] = input_df_fixed[col_names['id_col_name']].astype('category')\n",
    "    input_df_fixed[col_names['vac_col_name']] = input_df_fixed[col_names['vac_col_name']].astype('category')\n",
    "    input_df_fixed[col_names['rating_col_name']] = input_df_fixed[col_names['rating_col_name']].astype('uint8')\n",
    "    user_item_matrix = csr_matrix((input_df_fixed[col_names['rating_col_name']], \n",
    "                                (input_df_fixed[col_names['id_col_name']].cat.codes, \n",
    "                                 input_df_fixed[col_names['vac_col_name']].cat.codes)))\n",
    "    id_cat_codes = dict(zip(input_df_fixed[col_names['id_col_name']], input_df_fixed[col_names['id_col_name']].cat.codes))\n",
    "    vac_cat_codes = dict(zip(input_df_fixed[col_names['vac_col_name']], input_df_fixed[col_names['vac_col_name']].cat.codes))\n",
    "    cat_vac_codes = dict(zip(input_df_fixed[col_names['vac_col_name']].cat.codes, input_df_fixed[col_names['vac_col_name']]))\n",
    "    return (user_item_matrix, id_cat_codes, vac_cat_codes, cat_vac_codes)\n"
   ]
  },
  {
   "cell_type": "code",
   "execution_count": 61,
   "id": "6a933dad",
   "metadata": {},
   "outputs": [],
   "source": [
    "Impl_0_1_set = transform_into_sparse_matrix(train_matrix_0_1, col_names)"
   ]
  },
  {
   "cell_type": "code",
   "execution_count": 62,
   "id": "6b019617",
   "metadata": {},
   "outputs": [
    {
     "data": {
      "application/vnd.jupyter.widget-view+json": {
       "model_id": "6e77fdcedc96483b94d5ad4f6731c2bd",
       "version_major": 2,
       "version_minor": 0
      },
      "text/plain": [
       "  0%|          | 0/15 [00:00<?, ?it/s]"
      ]
     },
     "metadata": {},
     "output_type": "display_data"
    }
   ],
   "source": [
    "Impl_ALS_0_1 = AlternatingLeastSquares(factors=100,\n",
    "                                       regularization=0.05,\n",
    "                                       calculate_training_loss=True,\n",
    "                                       random_state=random_state_value) # , alpha=3.0\n",
    "Impl_ALS_0_1.fit(Impl_0_1_set[0])"
   ]
  },
  {
   "cell_type": "code",
   "execution_count": 63,
   "id": "3b43a77f",
   "metadata": {},
   "outputs": [],
   "source": [
    "Impl_0_2_set = transform_into_sparse_matrix(train_matrix_0_2, col_names)"
   ]
  },
  {
   "cell_type": "code",
   "execution_count": 64,
   "id": "a916eb66",
   "metadata": {},
   "outputs": [
    {
     "data": {
      "application/vnd.jupyter.widget-view+json": {
       "model_id": "3f3f06926ed14288958500fbf4d9226b",
       "version_major": 2,
       "version_minor": 0
      },
      "text/plain": [
       "  0%|          | 0/15 [00:00<?, ?it/s]"
      ]
     },
     "metadata": {},
     "output_type": "display_data"
    }
   ],
   "source": [
    "Impl_ALS_0_2 = AlternatingLeastSquares(factors=100,\n",
    "                                       regularization=0.05,\n",
    "                                       calculate_training_loss=True,\n",
    "                                       random_state=random_state_value) # , alpha=3.0\n",
    "Impl_ALS_0_2.fit(Impl_0_2_set[0])"
   ]
  },
  {
   "cell_type": "code",
   "execution_count": 65,
   "id": "c123ec3a",
   "metadata": {},
   "outputs": [],
   "source": [
    "Impl_0_2_norm_set = transform_into_sparse_matrix(train_matrix_0_2, norm_col_names)"
   ]
  },
  {
   "cell_type": "code",
   "execution_count": 66,
   "id": "1cce7261",
   "metadata": {},
   "outputs": [
    {
     "data": {
      "application/vnd.jupyter.widget-view+json": {
       "model_id": "aeaefbfdc9fb41c581ca547d2d678236",
       "version_major": 2,
       "version_minor": 0
      },
      "text/plain": [
       "  0%|          | 0/15 [00:00<?, ?it/s]"
      ]
     },
     "metadata": {},
     "output_type": "display_data"
    }
   ],
   "source": [
    "Impl_ALS_0_2_norm = AlternatingLeastSquares(factors=100,\n",
    "                                       regularization=0.05,\n",
    "                                       calculate_training_loss=True,\n",
    "                                       random_state=random_state_value) # , alpha=3.0\n",
    "Impl_ALS_0_2_norm.fit(Impl_0_2_norm_set[0])"
   ]
  },
  {
   "cell_type": "code",
   "execution_count": null,
   "id": "b9bd6ee1",
   "metadata": {},
   "outputs": [],
   "source": []
  },
  {
   "cell_type": "code",
   "execution_count": 67,
   "id": "3a883db5",
   "metadata": {},
   "outputs": [],
   "source": [
    "Impl_0_15_set = transform_into_sparse_matrix(train_matrix_0_15, col_names)"
   ]
  },
  {
   "cell_type": "code",
   "execution_count": 68,
   "id": "de00e931",
   "metadata": {},
   "outputs": [
    {
     "data": {
      "application/vnd.jupyter.widget-view+json": {
       "model_id": "f416e9b1f20a4945ad0bdaff737c0bcb",
       "version_major": 2,
       "version_minor": 0
      },
      "text/plain": [
       "  0%|          | 0/15 [00:00<?, ?it/s]"
      ]
     },
     "metadata": {},
     "output_type": "display_data"
    }
   ],
   "source": [
    "Impl_ALS_0_15 = AlternatingLeastSquares(factors=100,\n",
    "                                       regularization=0.05,\n",
    "                                       calculate_training_loss=True,\n",
    "                                       random_state=random_state_value) # , alpha=3.0\n",
    "Impl_ALS_0_15.fit(Impl_0_15_set[0])"
   ]
  },
  {
   "cell_type": "code",
   "execution_count": 69,
   "id": "969d6aae",
   "metadata": {},
   "outputs": [],
   "source": [
    "Impl_0_15_norm_set = transform_into_sparse_matrix(train_matrix_0_15, norm_col_names)"
   ]
  },
  {
   "cell_type": "code",
   "execution_count": 70,
   "id": "d81fc494",
   "metadata": {},
   "outputs": [
    {
     "data": {
      "application/vnd.jupyter.widget-view+json": {
       "model_id": "ccb2578b502740c9aa75b99d4e04a9cf",
       "version_major": 2,
       "version_minor": 0
      },
      "text/plain": [
       "  0%|          | 0/15 [00:00<?, ?it/s]"
      ]
     },
     "metadata": {},
     "output_type": "display_data"
    }
   ],
   "source": [
    "Impl_ALS_0_15_norm = AlternatingLeastSquares(factors=100,\n",
    "                                       regularization=0.05,\n",
    "                                       calculate_training_loss=True,\n",
    "                                       random_state=random_state_value) # , alpha=3.0\n",
    "Impl_ALS_0_15_norm.fit(Impl_0_15_norm_set[0])"
   ]
  },
  {
   "cell_type": "code",
   "execution_count": null,
   "id": "616b022c",
   "metadata": {},
   "outputs": [],
   "source": []
  },
  {
   "cell_type": "code",
   "execution_count": 71,
   "id": "3673b90b",
   "metadata": {},
   "outputs": [],
   "source": [
    "# Вспомогательные функции\n",
    "\n",
    "def get_predictions(cookie_id, model_info, initial_set, n_predict = 5):\n",
    "    # Получим все вакансии с которыми взаимодействовал cookie_id:\n",
    "    interacted_items = train_matrix[train_matrix['cookie_id'] == cookie_id]['vacancy_id_'].unique()\n",
    "    \n",
    "    # Удалим из этого перечня вакансии с которыми контактировал юзер:\n",
    "    items_to_predict = np.setdiff1d(initial_set, interacted_items)\n",
    "    \n",
    "    # Создадим тест датасет для данного юзера:\n",
    "    test_set = [[cookie_id, item, 4.] for item in items_to_predict]    \n",
    "    \n",
    "    model = model_info[0]\n",
    "    model_type = model_info[1]  \n",
    "    \n",
    "    # получим топ-n вакансий для данного юзера:\n",
    "    if model_type == 'surprise':\n",
    "        top_n_vacancies = get_predictions_surprise(cookie_id, model, test_set, n_predict)\n",
    "    \n",
    "    if model_type == 'implicit':\n",
    "        top_n_vacancies = get_predictions_implicit(cookie_id, model, items_to_predict, model_info[2], n_predict)\n",
    "    \n",
    "    return top_n_vacancies\n",
    "\n",
    "def get_predictions_surprise(cookie_id, model, test_set, n_predict = 5):\n",
    "    predictions = model.test(test_set)\n",
    "    top_n = sorted(predictions, key=lambda x: x.est, reverse=True)[:n_predict]\n",
    "    return [pred.iid for pred in top_n]\n",
    "\n",
    "def get_predictions_implicit(cookie_id, model, test_set, impl_set, n_predict = 5):\n",
    "    user_item = impl_set[0]\n",
    "    id_cat_code = impl_set[1][cookie_id]\n",
    "    vac_cat_codes = impl_set[2]\n",
    "    cat_vac_codes = impl_set[3]\n",
    "    filter_items = np.array([vac_cat_codes[i] for i in test_set])\n",
    "    ids, scores = model.recommend(id_cat_code,\n",
    "                                  user_item[id_cat_code],\n",
    "                                  N=n_predict,\n",
    "                                  filter_items=filter_items,\n",
    "                                  filter_already_liked_items=True)\n",
    "    return [cat_vac_codes[i] for i in ids]    \n",
    "\n",
    "def calc_correct_recomend_number(predict_col, vac_col):\n",
    "    \"\"\"Функция для определения количества совпадающих вакансий в двух списках\"\"\"\n",
    "    return len(set(predict_col) & set(vac_col))\n",
    "\n",
    "\n",
    "def get_prec_n(res_df, num_corr_column, n_predict = 5):\n",
    "    \"\"\"Функция для расчета precision@n метрики\"\"\"\n",
    "    corr_recommend = res_df[num_corr_column].sum()\n",
    "    prec_5 = corr_recommend / (n_predict * res_df.shape[0])\n",
    "    return {'num_corr_recomend': corr_recommend, f'precision@{n_predict}': prec_5}"
   ]
  },
  {
   "cell_type": "code",
   "execution_count": 72,
   "id": "8f901dab",
   "metadata": {},
   "outputs": [],
   "source": [
    "# Копируем датасет чтобы не менять изначальный\n",
    "\n",
    "test_df_with_pred = test_df.copy()"
   ]
  },
  {
   "cell_type": "code",
   "execution_count": 74,
   "id": "384eafb4",
   "metadata": {},
   "outputs": [],
   "source": [
    "# Задаем словари с моделями и датасетами чтобы перебрать их все\n",
    "\n",
    "models_dict = {\n",
    "    'SVD_20ep_rat0-1': [svd_20epochs_0_1, 'surprise'],\n",
    "    'SVD_20ep_rat0-1-2': [svd_20epochs_0_2, 'surprise'],\n",
    "    'SVD_20ep_rat0-1-2_norm': [svd_20epochs_0_2_norm, 'surprise'],\n",
    "    'SVD_20ep_rat0-1-1.5': [svd_20epochs_0_15, 'surprise'],\n",
    "    'SVD_20ep_rat0-1-1.5_norm': [svd_20epochs_0_15_norm, 'surprise'],\n",
    "    'Impl_ALS_rat0-1': [Impl_ALS_0_1, 'implicit', Impl_0_1_set],\n",
    "    'Impl_ALS_rat0-1-2': [Impl_ALS_0_2, 'implicit', Impl_0_2_set],\n",
    "    'Impl_ALS_rat0-1-2_norm': [Impl_ALS_0_2_norm, 'implicit', Impl_0_2_norm_set],\n",
    "    'Impl_ALS_rat0-1-1.5': [Impl_ALS_0_15, 'implicit', Impl_0_15_set],\n",
    "    'Impl_ALS_rat0-1-1.5_norm': [Impl_ALS_0_15_norm, 'implicit', Impl_0_15_norm_set]\n",
    "}\n",
    "\n",
    "set_dict = {\n",
    "    'top50': top50vac,\n",
    "    'top80': top80vac,\n",
    "    'top200': top200vac,\n",
    "    'top95_10': top95vac_from10\n",
    "}"
   ]
  },
  {
   "cell_type": "code",
   "execution_count": 75,
   "id": "75b36c11",
   "metadata": {},
   "outputs": [],
   "source": [
    "# Импортируем tqdm для progress bar\n",
    "from tqdm.auto import tqdm\n",
    "\n",
    "def get_res_df(models_dict, set_dict, n_predict = 5):\n",
    "    res_dict = {}\n",
    "    for model_name in tqdm(models_dict):        \n",
    "        for set_name in tqdm(set_dict):        \n",
    "            # Создаем столбец с предсказаниями\n",
    "            predict_col_name = f'predict_id_{model_name}_{set_name}_n_{n_pred}'            \n",
    "            test_df_with_pred[predict_col_name] = test_df_with_pred['cookie_id'].apply(get_predictions,\n",
    "                                                                                       model_info = models_dict[model_name],\n",
    "                                                                                       initial_set = set_dict[set_name],\n",
    "                                                                                       n_predict = n_pred)                  \n",
    "            \n",
    "            # Создаем столбец с количеством правильных предсказаний для каждого id\n",
    "            num_corr_col_name = f'num_corr_{model_name}_{set_name}_n_{n_pred}'        \n",
    "            test_df_with_pred[num_corr_col_name] = test_df_with_pred.apply(\n",
    "                lambda x: calc_correct_recomend_number(x[predict_col_name], x['vacancy_id_']), axis=1\n",
    "            )\n",
    "            \n",
    "            # Считаем precision@n метрику\n",
    "            res_dict[model_name+'_'+set_name] = get_prec_n(test_df_with_pred,\n",
    "                                                           num_corr_column = num_corr_col_name,\n",
    "                                                           n_predict = n_pred)\n",
    "    return pd.DataFrame.from_dict(res_dict, orient='index')"
   ]
  },
  {
   "cell_type": "code",
   "execution_count": 76,
   "id": "4bb62016",
   "metadata": {},
   "outputs": [
    {
     "data": {
      "application/vnd.jupyter.widget-view+json": {
       "model_id": "428b90f491814f418daeb6d1285c8c3b",
       "version_major": 2,
       "version_minor": 0
      },
      "text/plain": [
       "  0%|          | 0/10 [00:00<?, ?it/s]"
      ]
     },
     "metadata": {},
     "output_type": "display_data"
    },
    {
     "data": {
      "application/vnd.jupyter.widget-view+json": {
       "model_id": "b72dbd6e19d5422a8d424b68f1a10e9b",
       "version_major": 2,
       "version_minor": 0
      },
      "text/plain": [
       "  0%|          | 0/4 [00:00<?, ?it/s]"
      ]
     },
     "metadata": {},
     "output_type": "display_data"
    },
    {
     "data": {
      "application/vnd.jupyter.widget-view+json": {
       "model_id": "0939d0374fd24c589b42c38f63b829c7",
       "version_major": 2,
       "version_minor": 0
      },
      "text/plain": [
       "  0%|          | 0/4 [00:00<?, ?it/s]"
      ]
     },
     "metadata": {},
     "output_type": "display_data"
    },
    {
     "data": {
      "application/vnd.jupyter.widget-view+json": {
       "model_id": "518ae24f31244f2c9d7ab8080bec7cb1",
       "version_major": 2,
       "version_minor": 0
      },
      "text/plain": [
       "  0%|          | 0/4 [00:00<?, ?it/s]"
      ]
     },
     "metadata": {},
     "output_type": "display_data"
    },
    {
     "data": {
      "application/vnd.jupyter.widget-view+json": {
       "model_id": "7a4caf9a419144c29a28dab2d1f981ca",
       "version_major": 2,
       "version_minor": 0
      },
      "text/plain": [
       "  0%|          | 0/4 [00:00<?, ?it/s]"
      ]
     },
     "metadata": {},
     "output_type": "display_data"
    },
    {
     "data": {
      "application/vnd.jupyter.widget-view+json": {
       "model_id": "f9b743da81764a109206d9abf696c816",
       "version_major": 2,
       "version_minor": 0
      },
      "text/plain": [
       "  0%|          | 0/4 [00:00<?, ?it/s]"
      ]
     },
     "metadata": {},
     "output_type": "display_data"
    },
    {
     "data": {
      "application/vnd.jupyter.widget-view+json": {
       "model_id": "dfb6bae12eac450fbf0276b8aec44b98",
       "version_major": 2,
       "version_minor": 0
      },
      "text/plain": [
       "  0%|          | 0/4 [00:00<?, ?it/s]"
      ]
     },
     "metadata": {},
     "output_type": "display_data"
    },
    {
     "data": {
      "application/vnd.jupyter.widget-view+json": {
       "model_id": "7f050fee9a974c0d87b12b65e59c4591",
       "version_major": 2,
       "version_minor": 0
      },
      "text/plain": [
       "  0%|          | 0/4 [00:00<?, ?it/s]"
      ]
     },
     "metadata": {},
     "output_type": "display_data"
    },
    {
     "data": {
      "application/vnd.jupyter.widget-view+json": {
       "model_id": "f605e4d5447a46308e4d1a122624e896",
       "version_major": 2,
       "version_minor": 0
      },
      "text/plain": [
       "  0%|          | 0/4 [00:00<?, ?it/s]"
      ]
     },
     "metadata": {},
     "output_type": "display_data"
    },
    {
     "data": {
      "application/vnd.jupyter.widget-view+json": {
       "model_id": "0de08e1e4e0f4d8c888057096faa0455",
       "version_major": 2,
       "version_minor": 0
      },
      "text/plain": [
       "  0%|          | 0/4 [00:00<?, ?it/s]"
      ]
     },
     "metadata": {},
     "output_type": "display_data"
    },
    {
     "data": {
      "application/vnd.jupyter.widget-view+json": {
       "model_id": "77e36d10998a41c99894b4987ccb3551",
       "version_major": 2,
       "version_minor": 0
      },
      "text/plain": [
       "  0%|          | 0/4 [00:00<?, ?it/s]"
      ]
     },
     "metadata": {},
     "output_type": "display_data"
    },
    {
     "data": {
      "text/html": [
       "<div>\n",
       "<style scoped>\n",
       "    .dataframe tbody tr th:only-of-type {\n",
       "        vertical-align: middle;\n",
       "    }\n",
       "\n",
       "    .dataframe tbody tr th {\n",
       "        vertical-align: top;\n",
       "    }\n",
       "\n",
       "    .dataframe thead th {\n",
       "        text-align: right;\n",
       "    }\n",
       "</style>\n",
       "<table border=\"1\" class=\"dataframe\">\n",
       "  <thead>\n",
       "    <tr style=\"text-align: right;\">\n",
       "      <th></th>\n",
       "      <th>num_corr_recomend</th>\n",
       "      <th>precision@5</th>\n",
       "    </tr>\n",
       "  </thead>\n",
       "  <tbody>\n",
       "    <tr>\n",
       "      <th>SVD_20ep_rat0-1_top50</th>\n",
       "      <td>46</td>\n",
       "      <td>0.011917</td>\n",
       "    </tr>\n",
       "    <tr>\n",
       "      <th>SVD_20ep_rat0-1_top80</th>\n",
       "      <td>82</td>\n",
       "      <td>0.021244</td>\n",
       "    </tr>\n",
       "    <tr>\n",
       "      <th>SVD_20ep_rat0-1_top200</th>\n",
       "      <td>39</td>\n",
       "      <td>0.010104</td>\n",
       "    </tr>\n",
       "    <tr>\n",
       "      <th>SVD_20ep_rat0-1_top95_10</th>\n",
       "      <td>120</td>\n",
       "      <td>0.031088</td>\n",
       "    </tr>\n",
       "    <tr>\n",
       "      <th>SVD_20ep_rat0-1-2_top50</th>\n",
       "      <td>46</td>\n",
       "      <td>0.011917</td>\n",
       "    </tr>\n",
       "    <tr>\n",
       "      <th>...</th>\n",
       "      <td>...</td>\n",
       "      <td>...</td>\n",
       "    </tr>\n",
       "    <tr>\n",
       "      <th>Impl_ALS_rat0-1-1.5_top95_10</th>\n",
       "      <td>83</td>\n",
       "      <td>0.021503</td>\n",
       "    </tr>\n",
       "    <tr>\n",
       "      <th>Impl_ALS_rat0-1-1.5_norm_top50</th>\n",
       "      <td>53</td>\n",
       "      <td>0.013731</td>\n",
       "    </tr>\n",
       "    <tr>\n",
       "      <th>Impl_ALS_rat0-1-1.5_norm_top80</th>\n",
       "      <td>36</td>\n",
       "      <td>0.009326</td>\n",
       "    </tr>\n",
       "    <tr>\n",
       "      <th>Impl_ALS_rat0-1-1.5_norm_top200</th>\n",
       "      <td>37</td>\n",
       "      <td>0.009585</td>\n",
       "    </tr>\n",
       "    <tr>\n",
       "      <th>Impl_ALS_rat0-1-1.5_norm_top95_10</th>\n",
       "      <td>46</td>\n",
       "      <td>0.011917</td>\n",
       "    </tr>\n",
       "  </tbody>\n",
       "</table>\n",
       "<p>40 rows × 2 columns</p>\n",
       "</div>"
      ],
      "text/plain": [
       "                                   num_corr_recomend  precision@5\n",
       "SVD_20ep_rat0-1_top50                             46     0.011917\n",
       "SVD_20ep_rat0-1_top80                             82     0.021244\n",
       "SVD_20ep_rat0-1_top200                            39     0.010104\n",
       "SVD_20ep_rat0-1_top95_10                         120     0.031088\n",
       "SVD_20ep_rat0-1-2_top50                           46     0.011917\n",
       "...                                              ...          ...\n",
       "Impl_ALS_rat0-1-1.5_top95_10                      83     0.021503\n",
       "Impl_ALS_rat0-1-1.5_norm_top50                    53     0.013731\n",
       "Impl_ALS_rat0-1-1.5_norm_top80                    36     0.009326\n",
       "Impl_ALS_rat0-1-1.5_norm_top200                   37     0.009585\n",
       "Impl_ALS_rat0-1-1.5_norm_top95_10                 46     0.011917\n",
       "\n",
       "[40 rows x 2 columns]"
      ]
     },
     "execution_count": 76,
     "metadata": {},
     "output_type": "execute_result"
    }
   ],
   "source": [
    "n_pred = 5\n",
    "\n",
    "res_df = get_res_df(models_dict, set_dict, n_predict = n_pred)\n",
    "res_df"
   ]
  },
  {
   "cell_type": "code",
   "execution_count": 78,
   "id": "2f586737",
   "metadata": {},
   "outputs": [
    {
     "data": {
      "text/html": [
       "<div>\n",
       "<style scoped>\n",
       "    .dataframe tbody tr th:only-of-type {\n",
       "        vertical-align: middle;\n",
       "    }\n",
       "\n",
       "    .dataframe tbody tr th {\n",
       "        vertical-align: top;\n",
       "    }\n",
       "\n",
       "    .dataframe thead th {\n",
       "        text-align: right;\n",
       "    }\n",
       "</style>\n",
       "<table border=\"1\" class=\"dataframe\">\n",
       "  <thead>\n",
       "    <tr style=\"text-align: right;\">\n",
       "      <th></th>\n",
       "      <th>num_corr_recomend</th>\n",
       "      <th>precision@5</th>\n",
       "    </tr>\n",
       "  </thead>\n",
       "  <tbody>\n",
       "    <tr>\n",
       "      <th>SVD_20ep_rat0-1_top50</th>\n",
       "      <td>46</td>\n",
       "      <td>0.011917</td>\n",
       "    </tr>\n",
       "    <tr>\n",
       "      <th>SVD_20ep_rat0-1_top80</th>\n",
       "      <td>82</td>\n",
       "      <td>0.021244</td>\n",
       "    </tr>\n",
       "    <tr>\n",
       "      <th>SVD_20ep_rat0-1_top200</th>\n",
       "      <td>39</td>\n",
       "      <td>0.010104</td>\n",
       "    </tr>\n",
       "    <tr>\n",
       "      <th>SVD_20ep_rat0-1_top95_10</th>\n",
       "      <td>120</td>\n",
       "      <td>0.031088</td>\n",
       "    </tr>\n",
       "    <tr>\n",
       "      <th>SVD_20ep_rat0-1-2_top50</th>\n",
       "      <td>46</td>\n",
       "      <td>0.011917</td>\n",
       "    </tr>\n",
       "    <tr>\n",
       "      <th>SVD_20ep_rat0-1-2_top80</th>\n",
       "      <td>74</td>\n",
       "      <td>0.019171</td>\n",
       "    </tr>\n",
       "    <tr>\n",
       "      <th>SVD_20ep_rat0-1-2_top200</th>\n",
       "      <td>37</td>\n",
       "      <td>0.009585</td>\n",
       "    </tr>\n",
       "    <tr>\n",
       "      <th>SVD_20ep_rat0-1-2_top95_10</th>\n",
       "      <td>98</td>\n",
       "      <td>0.025389</td>\n",
       "    </tr>\n",
       "    <tr>\n",
       "      <th>SVD_20ep_rat0-1-2_norm_top50</th>\n",
       "      <td>53</td>\n",
       "      <td>0.013731</td>\n",
       "    </tr>\n",
       "    <tr>\n",
       "      <th>SVD_20ep_rat0-1-2_norm_top80</th>\n",
       "      <td>74</td>\n",
       "      <td>0.019171</td>\n",
       "    </tr>\n",
       "    <tr>\n",
       "      <th>SVD_20ep_rat0-1-2_norm_top200</th>\n",
       "      <td>34</td>\n",
       "      <td>0.008808</td>\n",
       "    </tr>\n",
       "    <tr>\n",
       "      <th>SVD_20ep_rat0-1-2_norm_top95_10</th>\n",
       "      <td>118</td>\n",
       "      <td>0.030570</td>\n",
       "    </tr>\n",
       "    <tr>\n",
       "      <th>SVD_20ep_rat0-1-1.5_top50</th>\n",
       "      <td>48</td>\n",
       "      <td>0.012435</td>\n",
       "    </tr>\n",
       "    <tr>\n",
       "      <th>SVD_20ep_rat0-1-1.5_top80</th>\n",
       "      <td>73</td>\n",
       "      <td>0.018912</td>\n",
       "    </tr>\n",
       "    <tr>\n",
       "      <th>SVD_20ep_rat0-1-1.5_top200</th>\n",
       "      <td>37</td>\n",
       "      <td>0.009585</td>\n",
       "    </tr>\n",
       "    <tr>\n",
       "      <th>SVD_20ep_rat0-1-1.5_top95_10</th>\n",
       "      <td>113</td>\n",
       "      <td>0.029275</td>\n",
       "    </tr>\n",
       "    <tr>\n",
       "      <th>SVD_20ep_rat0-1-1.5_norm_top50</th>\n",
       "      <td>54</td>\n",
       "      <td>0.013990</td>\n",
       "    </tr>\n",
       "    <tr>\n",
       "      <th>SVD_20ep_rat0-1-1.5_norm_top80</th>\n",
       "      <td>82</td>\n",
       "      <td>0.021244</td>\n",
       "    </tr>\n",
       "    <tr>\n",
       "      <th>SVD_20ep_rat0-1-1.5_norm_top200</th>\n",
       "      <td>37</td>\n",
       "      <td>0.009585</td>\n",
       "    </tr>\n",
       "    <tr>\n",
       "      <th>SVD_20ep_rat0-1-1.5_norm_top95_10</th>\n",
       "      <td>117</td>\n",
       "      <td>0.030311</td>\n",
       "    </tr>\n",
       "    <tr>\n",
       "      <th>Impl_ALS_rat0-1_top50</th>\n",
       "      <td>88</td>\n",
       "      <td>0.022798</td>\n",
       "    </tr>\n",
       "    <tr>\n",
       "      <th>Impl_ALS_rat0-1_top80</th>\n",
       "      <td>80</td>\n",
       "      <td>0.020725</td>\n",
       "    </tr>\n",
       "    <tr>\n",
       "      <th>Impl_ALS_rat0-1_top200</th>\n",
       "      <td>76</td>\n",
       "      <td>0.019689</td>\n",
       "    </tr>\n",
       "    <tr>\n",
       "      <th>Impl_ALS_rat0-1_top95_10</th>\n",
       "      <td>83</td>\n",
       "      <td>0.021503</td>\n",
       "    </tr>\n",
       "    <tr>\n",
       "      <th>Impl_ALS_rat0-1-2_top50</th>\n",
       "      <td>104</td>\n",
       "      <td>0.026943</td>\n",
       "    </tr>\n",
       "    <tr>\n",
       "      <th>Impl_ALS_rat0-1-2_top80</th>\n",
       "      <td>75</td>\n",
       "      <td>0.019430</td>\n",
       "    </tr>\n",
       "    <tr>\n",
       "      <th>Impl_ALS_rat0-1-2_top200</th>\n",
       "      <td>66</td>\n",
       "      <td>0.017098</td>\n",
       "    </tr>\n",
       "    <tr>\n",
       "      <th>Impl_ALS_rat0-1-2_top95_10</th>\n",
       "      <td>80</td>\n",
       "      <td>0.020725</td>\n",
       "    </tr>\n",
       "    <tr>\n",
       "      <th>Impl_ALS_rat0-1-2_norm_top50</th>\n",
       "      <td>53</td>\n",
       "      <td>0.013731</td>\n",
       "    </tr>\n",
       "    <tr>\n",
       "      <th>Impl_ALS_rat0-1-2_norm_top80</th>\n",
       "      <td>36</td>\n",
       "      <td>0.009326</td>\n",
       "    </tr>\n",
       "    <tr>\n",
       "      <th>Impl_ALS_rat0-1-2_norm_top200</th>\n",
       "      <td>37</td>\n",
       "      <td>0.009585</td>\n",
       "    </tr>\n",
       "    <tr>\n",
       "      <th>Impl_ALS_rat0-1-2_norm_top95_10</th>\n",
       "      <td>46</td>\n",
       "      <td>0.011917</td>\n",
       "    </tr>\n",
       "    <tr>\n",
       "      <th>Impl_ALS_rat0-1-1.5_top50</th>\n",
       "      <td>88</td>\n",
       "      <td>0.022798</td>\n",
       "    </tr>\n",
       "    <tr>\n",
       "      <th>Impl_ALS_rat0-1-1.5_top80</th>\n",
       "      <td>80</td>\n",
       "      <td>0.020725</td>\n",
       "    </tr>\n",
       "    <tr>\n",
       "      <th>Impl_ALS_rat0-1-1.5_top200</th>\n",
       "      <td>76</td>\n",
       "      <td>0.019689</td>\n",
       "    </tr>\n",
       "    <tr>\n",
       "      <th>Impl_ALS_rat0-1-1.5_top95_10</th>\n",
       "      <td>83</td>\n",
       "      <td>0.021503</td>\n",
       "    </tr>\n",
       "    <tr>\n",
       "      <th>Impl_ALS_rat0-1-1.5_norm_top50</th>\n",
       "      <td>53</td>\n",
       "      <td>0.013731</td>\n",
       "    </tr>\n",
       "    <tr>\n",
       "      <th>Impl_ALS_rat0-1-1.5_norm_top80</th>\n",
       "      <td>36</td>\n",
       "      <td>0.009326</td>\n",
       "    </tr>\n",
       "    <tr>\n",
       "      <th>Impl_ALS_rat0-1-1.5_norm_top200</th>\n",
       "      <td>37</td>\n",
       "      <td>0.009585</td>\n",
       "    </tr>\n",
       "    <tr>\n",
       "      <th>Impl_ALS_rat0-1-1.5_norm_top95_10</th>\n",
       "      <td>46</td>\n",
       "      <td>0.011917</td>\n",
       "    </tr>\n",
       "  </tbody>\n",
       "</table>\n",
       "</div>"
      ],
      "text/plain": [
       "                                   num_corr_recomend  precision@5\n",
       "SVD_20ep_rat0-1_top50                             46     0.011917\n",
       "SVD_20ep_rat0-1_top80                             82     0.021244\n",
       "SVD_20ep_rat0-1_top200                            39     0.010104\n",
       "SVD_20ep_rat0-1_top95_10                         120     0.031088\n",
       "SVD_20ep_rat0-1-2_top50                           46     0.011917\n",
       "SVD_20ep_rat0-1-2_top80                           74     0.019171\n",
       "SVD_20ep_rat0-1-2_top200                          37     0.009585\n",
       "SVD_20ep_rat0-1-2_top95_10                        98     0.025389\n",
       "SVD_20ep_rat0-1-2_norm_top50                      53     0.013731\n",
       "SVD_20ep_rat0-1-2_norm_top80                      74     0.019171\n",
       "SVD_20ep_rat0-1-2_norm_top200                     34     0.008808\n",
       "SVD_20ep_rat0-1-2_norm_top95_10                  118     0.030570\n",
       "SVD_20ep_rat0-1-1.5_top50                         48     0.012435\n",
       "SVD_20ep_rat0-1-1.5_top80                         73     0.018912\n",
       "SVD_20ep_rat0-1-1.5_top200                        37     0.009585\n",
       "SVD_20ep_rat0-1-1.5_top95_10                     113     0.029275\n",
       "SVD_20ep_rat0-1-1.5_norm_top50                    54     0.013990\n",
       "SVD_20ep_rat0-1-1.5_norm_top80                    82     0.021244\n",
       "SVD_20ep_rat0-1-1.5_norm_top200                   37     0.009585\n",
       "SVD_20ep_rat0-1-1.5_norm_top95_10                117     0.030311\n",
       "Impl_ALS_rat0-1_top50                             88     0.022798\n",
       "Impl_ALS_rat0-1_top80                             80     0.020725\n",
       "Impl_ALS_rat0-1_top200                            76     0.019689\n",
       "Impl_ALS_rat0-1_top95_10                          83     0.021503\n",
       "Impl_ALS_rat0-1-2_top50                          104     0.026943\n",
       "Impl_ALS_rat0-1-2_top80                           75     0.019430\n",
       "Impl_ALS_rat0-1-2_top200                          66     0.017098\n",
       "Impl_ALS_rat0-1-2_top95_10                        80     0.020725\n",
       "Impl_ALS_rat0-1-2_norm_top50                      53     0.013731\n",
       "Impl_ALS_rat0-1-2_norm_top80                      36     0.009326\n",
       "Impl_ALS_rat0-1-2_norm_top200                     37     0.009585\n",
       "Impl_ALS_rat0-1-2_norm_top95_10                   46     0.011917\n",
       "Impl_ALS_rat0-1-1.5_top50                         88     0.022798\n",
       "Impl_ALS_rat0-1-1.5_top80                         80     0.020725\n",
       "Impl_ALS_rat0-1-1.5_top200                        76     0.019689\n",
       "Impl_ALS_rat0-1-1.5_top95_10                      83     0.021503\n",
       "Impl_ALS_rat0-1-1.5_norm_top50                    53     0.013731\n",
       "Impl_ALS_rat0-1-1.5_norm_top80                    36     0.009326\n",
       "Impl_ALS_rat0-1-1.5_norm_top200                   37     0.009585\n",
       "Impl_ALS_rat0-1-1.5_norm_top95_10                 46     0.011917"
      ]
     },
     "execution_count": 78,
     "metadata": {},
     "output_type": "execute_result"
    }
   ],
   "source": [
    "pd.set_option('display.max_rows', None)\n",
    "res_df"
   ]
  },
  {
   "cell_type": "code",
   "execution_count": null,
   "id": "4ee16bcf",
   "metadata": {},
   "outputs": [],
   "source": []
  },
  {
   "cell_type": "code",
   "execution_count": null,
   "id": "b3dc1f05",
   "metadata": {},
   "outputs": [],
   "source": []
  },
  {
   "cell_type": "code",
   "execution_count": null,
   "id": "ebe02d27",
   "metadata": {},
   "outputs": [],
   "source": []
  },
  {
   "cell_type": "code",
   "execution_count": null,
   "id": "d8fd54dd",
   "metadata": {},
   "outputs": [],
   "source": []
  },
  {
   "cell_type": "code",
   "execution_count": null,
   "id": "9481aecf",
   "metadata": {},
   "outputs": [],
   "source": []
  }
 ],
 "metadata": {
  "kernelspec": {
   "display_name": "Python 3",
   "language": "python",
   "name": "python3"
  },
  "language_info": {
   "codemirror_mode": {
    "name": "ipython",
    "version": 3
   },
   "file_extension": ".py",
   "mimetype": "text/x-python",
   "name": "python",
   "nbconvert_exporter": "python",
   "pygments_lexer": "ipython3",
   "version": "3.9.16"
  }
 },
 "nbformat": 4,
 "nbformat_minor": 5
}
