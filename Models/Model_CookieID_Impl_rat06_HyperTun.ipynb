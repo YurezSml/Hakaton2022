{
 "cells": [
  {
   "cell_type": "code",
   "execution_count": 23,
   "id": "8d49194d",
   "metadata": {
    "id": "8d49194d"
   },
   "outputs": [],
   "source": [
    "import numpy as np\n",
    "import pandas as pd\n",
    "\n",
    "import matplotlib.pyplot as plt\n",
    "%matplotlib inline"
   ]
  },
  {
   "cell_type": "code",
   "execution_count": 24,
   "id": "439de115",
   "metadata": {
    "id": "439de115"
   },
   "outputs": [],
   "source": [
    "from scipy.sparse import csr_matrix\n",
    "\n",
    "from implicit.als import AlternatingLeastSquares\n",
    "from implicit.lmf import LogisticMatrixFactorization"
   ]
  },
  {
   "cell_type": "code",
   "execution_count": 25,
   "id": "19ef8fa5",
   "metadata": {
    "id": "19ef8fa5"
   },
   "outputs": [],
   "source": [
    "pd.set_option('display.max_columns', None)\n",
    "pd.set_option('display.max_colwidth', None)\n",
    "pd.set_option('display.max_rows', 30)"
   ]
  },
  {
   "cell_type": "code",
   "execution_count": 26,
   "id": "74a8fea9",
   "metadata": {
    "id": "74a8fea9"
   },
   "outputs": [],
   "source": [
    "random_state_value = 42\n",
    "\n",
    "id_column_name = 'cookie_id'"
   ]
  },
  {
   "cell_type": "code",
   "execution_count": null,
   "id": "dbfc99d7",
   "metadata": {},
   "outputs": [],
   "source": []
  },
  {
   "cell_type": "markdown",
   "id": "3aa003de",
   "metadata": {
    "id": "3aa003de"
   },
   "source": [
    "**Загружаем датасет**"
   ]
  },
  {
   "cell_type": "code",
   "execution_count": 7,
   "id": "9f4bfb33",
   "metadata": {
    "colab": {
     "base_uri": "https://localhost:8080/"
    },
    "id": "9f4bfb33",
    "outputId": "8678db46-00e7-4776-b5ce-997eb2af95ac"
   },
   "outputs": [
    {
     "ename": "ModuleNotFoundError",
     "evalue": "No module named 'google.colab'",
     "output_type": "error",
     "traceback": [
      "\u001b[1;31m---------------------------------------------------------------------------\u001b[0m",
      "\u001b[1;31mModuleNotFoundError\u001b[0m                       Traceback (most recent call last)",
      "Input \u001b[1;32mIn [7]\u001b[0m, in \u001b[0;36m<cell line: 1>\u001b[1;34m()\u001b[0m\n\u001b[1;32m----> 1\u001b[0m \u001b[38;5;28;01mfrom\u001b[39;00m \u001b[38;5;21;01mgoogle\u001b[39;00m\u001b[38;5;21;01m.\u001b[39;00m\u001b[38;5;21;01mcolab\u001b[39;00m \u001b[38;5;28;01mimport\u001b[39;00m drive\n\u001b[0;32m      2\u001b[0m drive\u001b[38;5;241m.\u001b[39mmount(\u001b[38;5;124m'\u001b[39m\u001b[38;5;124m/content/drive\u001b[39m\u001b[38;5;124m'\u001b[39m)\n",
      "\u001b[1;31mModuleNotFoundError\u001b[0m: No module named 'google.colab'"
     ]
    }
   ],
   "source": [
    "from google.colab import drive\n",
    "drive.mount('/content/drive')"
   ]
  },
  {
   "cell_type": "code",
   "execution_count": 27,
   "id": "fda003cf",
   "metadata": {
    "id": "fda003cf"
   },
   "outputs": [],
   "source": [
    "data_dir = 'Data_Rabota'"
   ]
  },
  {
   "cell_type": "code",
   "execution_count": 28,
   "id": "bed52879",
   "metadata": {
    "colab": {
     "base_uri": "https://localhost:8080/",
     "height": 487
    },
    "id": "bed52879",
    "outputId": "10f2ff7f-3f10-4484-c93f-87d2adc0d815"
   },
   "outputs": [
    {
     "data": {
      "text/html": [
       "<div>\n",
       "<style scoped>\n",
       "    .dataframe tbody tr th:only-of-type {\n",
       "        vertical-align: middle;\n",
       "    }\n",
       "\n",
       "    .dataframe tbody tr th {\n",
       "        vertical-align: top;\n",
       "    }\n",
       "\n",
       "    .dataframe thead th {\n",
       "        text-align: right;\n",
       "    }\n",
       "</style>\n",
       "<table border=\"1\" class=\"dataframe\">\n",
       "  <thead>\n",
       "    <tr style=\"text-align: right;\">\n",
       "      <th></th>\n",
       "      <th>common_id</th>\n",
       "      <th>event_date</th>\n",
       "      <th>event_timestamp</th>\n",
       "      <th>action_time</th>\n",
       "      <th>vacancy_id_</th>\n",
       "      <th>cookie_id</th>\n",
       "      <th>user_id</th>\n",
       "      <th>event_type</th>\n",
       "      <th>common_id_2</th>\n",
       "    </tr>\n",
       "  </thead>\n",
       "  <tbody>\n",
       "    <tr>\n",
       "      <th>15</th>\n",
       "      <td>2</td>\n",
       "      <td>2022-09-05</td>\n",
       "      <td>1662374899</td>\n",
       "      <td>0.0</td>\n",
       "      <td>192850</td>\n",
       "      <td>0000d7508334414ca792c5ff66eb8c14</td>\n",
       "      <td>None</td>\n",
       "      <td>preview_click_vacancy</td>\n",
       "      <td>0000d7508334414ca792c5ff66eb8c14</td>\n",
       "    </tr>\n",
       "    <tr>\n",
       "      <th>16</th>\n",
       "      <td>2</td>\n",
       "      <td>2022-09-05</td>\n",
       "      <td>1662374899</td>\n",
       "      <td>498.0</td>\n",
       "      <td>192850</td>\n",
       "      <td>0000d7508334414ca792c5ff66eb8c14</td>\n",
       "      <td>None</td>\n",
       "      <td>show_vacancy</td>\n",
       "      <td>0000d7508334414ca792c5ff66eb8c14</td>\n",
       "    </tr>\n",
       "    <tr>\n",
       "      <th>17</th>\n",
       "      <td>2</td>\n",
       "      <td>2022-09-05</td>\n",
       "      <td>1662375397</td>\n",
       "      <td>1.0</td>\n",
       "      <td>230581</td>\n",
       "      <td>0000d7508334414ca792c5ff66eb8c14</td>\n",
       "      <td>None</td>\n",
       "      <td>preview_click_vacancy</td>\n",
       "      <td>0000d7508334414ca792c5ff66eb8c14</td>\n",
       "    </tr>\n",
       "    <tr>\n",
       "      <th>18</th>\n",
       "      <td>2</td>\n",
       "      <td>2022-09-05</td>\n",
       "      <td>1662375398</td>\n",
       "      <td>205.0</td>\n",
       "      <td>230581</td>\n",
       "      <td>0000d7508334414ca792c5ff66eb8c14</td>\n",
       "      <td>None</td>\n",
       "      <td>show_vacancy</td>\n",
       "      <td>0000d7508334414ca792c5ff66eb8c14</td>\n",
       "    </tr>\n",
       "    <tr>\n",
       "      <th>19</th>\n",
       "      <td>2</td>\n",
       "      <td>2022-09-05</td>\n",
       "      <td>1662375603</td>\n",
       "      <td>1.0</td>\n",
       "      <td>250327</td>\n",
       "      <td>0000d7508334414ca792c5ff66eb8c14</td>\n",
       "      <td>None</td>\n",
       "      <td>preview_click_vacancy</td>\n",
       "      <td>0000d7508334414ca792c5ff66eb8c14</td>\n",
       "    </tr>\n",
       "    <tr>\n",
       "      <th>...</th>\n",
       "      <td>...</td>\n",
       "      <td>...</td>\n",
       "      <td>...</td>\n",
       "      <td>...</td>\n",
       "      <td>...</td>\n",
       "      <td>...</td>\n",
       "      <td>...</td>\n",
       "      <td>...</td>\n",
       "      <td>...</td>\n",
       "    </tr>\n",
       "    <tr>\n",
       "      <th>12292571</th>\n",
       "      <td>367640</td>\n",
       "      <td>2022-09-26</td>\n",
       "      <td>1664169217</td>\n",
       "      <td>1.0</td>\n",
       "      <td>197828</td>\n",
       "      <td>ffffd6d4f2134dd6aa80ff71e942b508</td>\n",
       "      <td>82a5e80f91b144f596496d6d831b49d3</td>\n",
       "      <td>preview_click_vacancy</td>\n",
       "      <td>82a5e80f91b144f596496d6d831b49d3</td>\n",
       "    </tr>\n",
       "    <tr>\n",
       "      <th>12292572</th>\n",
       "      <td>367640</td>\n",
       "      <td>2022-09-26</td>\n",
       "      <td>1664169218</td>\n",
       "      <td>90.0</td>\n",
       "      <td>197828</td>\n",
       "      <td>ffffd6d4f2134dd6aa80ff71e942b508</td>\n",
       "      <td>82a5e80f91b144f596496d6d831b49d3</td>\n",
       "      <td>show_vacancy</td>\n",
       "      <td>82a5e80f91b144f596496d6d831b49d3</td>\n",
       "    </tr>\n",
       "    <tr>\n",
       "      <th>12292573</th>\n",
       "      <td>367640</td>\n",
       "      <td>2022-09-26</td>\n",
       "      <td>1664169308</td>\n",
       "      <td>210911.0</td>\n",
       "      <td>197828</td>\n",
       "      <td>ffffd6d4f2134dd6aa80ff71e942b508</td>\n",
       "      <td>82a5e80f91b144f596496d6d831b49d3</td>\n",
       "      <td>click_contacts</td>\n",
       "      <td>82a5e80f91b144f596496d6d831b49d3</td>\n",
       "    </tr>\n",
       "    <tr>\n",
       "      <th>12292574</th>\n",
       "      <td>367640</td>\n",
       "      <td>2022-09-28</td>\n",
       "      <td>1664380219</td>\n",
       "      <td>132.0</td>\n",
       "      <td>233452</td>\n",
       "      <td>ffffd6d4f2134dd6aa80ff71e942b508</td>\n",
       "      <td>82a5e80f91b144f596496d6d831b49d3</td>\n",
       "      <td>click_contacts</td>\n",
       "      <td>82a5e80f91b144f596496d6d831b49d3</td>\n",
       "    </tr>\n",
       "    <tr>\n",
       "      <th>12292575</th>\n",
       "      <td>367640</td>\n",
       "      <td>2022-09-28</td>\n",
       "      <td>1664380351</td>\n",
       "      <td>0.0</td>\n",
       "      <td>230870</td>\n",
       "      <td>ffffd6d4f2134dd6aa80ff71e942b508</td>\n",
       "      <td>82a5e80f91b144f596496d6d831b49d3</td>\n",
       "      <td>click_contacts</td>\n",
       "      <td>82a5e80f91b144f596496d6d831b49d3</td>\n",
       "    </tr>\n",
       "  </tbody>\n",
       "</table>\n",
       "<p>12292588 rows × 9 columns</p>\n",
       "</div>"
      ],
      "text/plain": [
       "          common_id  event_date  event_timestamp  action_time  vacancy_id_  \\\n",
       "15                2  2022-09-05       1662374899          0.0       192850   \n",
       "16                2  2022-09-05       1662374899        498.0       192850   \n",
       "17                2  2022-09-05       1662375397          1.0       230581   \n",
       "18                2  2022-09-05       1662375398        205.0       230581   \n",
       "19                2  2022-09-05       1662375603          1.0       250327   \n",
       "...             ...         ...              ...          ...          ...   \n",
       "12292571     367640  2022-09-26       1664169217          1.0       197828   \n",
       "12292572     367640  2022-09-26       1664169218         90.0       197828   \n",
       "12292573     367640  2022-09-26       1664169308     210911.0       197828   \n",
       "12292574     367640  2022-09-28       1664380219        132.0       233452   \n",
       "12292575     367640  2022-09-28       1664380351          0.0       230870   \n",
       "\n",
       "                                 cookie_id                           user_id  \\\n",
       "15        0000d7508334414ca792c5ff66eb8c14                              None   \n",
       "16        0000d7508334414ca792c5ff66eb8c14                              None   \n",
       "17        0000d7508334414ca792c5ff66eb8c14                              None   \n",
       "18        0000d7508334414ca792c5ff66eb8c14                              None   \n",
       "19        0000d7508334414ca792c5ff66eb8c14                              None   \n",
       "...                                    ...                               ...   \n",
       "12292571  ffffd6d4f2134dd6aa80ff71e942b508  82a5e80f91b144f596496d6d831b49d3   \n",
       "12292572  ffffd6d4f2134dd6aa80ff71e942b508  82a5e80f91b144f596496d6d831b49d3   \n",
       "12292573  ffffd6d4f2134dd6aa80ff71e942b508  82a5e80f91b144f596496d6d831b49d3   \n",
       "12292574  ffffd6d4f2134dd6aa80ff71e942b508  82a5e80f91b144f596496d6d831b49d3   \n",
       "12292575  ffffd6d4f2134dd6aa80ff71e942b508  82a5e80f91b144f596496d6d831b49d3   \n",
       "\n",
       "                     event_type                       common_id_2  \n",
       "15        preview_click_vacancy  0000d7508334414ca792c5ff66eb8c14  \n",
       "16                 show_vacancy  0000d7508334414ca792c5ff66eb8c14  \n",
       "17        preview_click_vacancy  0000d7508334414ca792c5ff66eb8c14  \n",
       "18                 show_vacancy  0000d7508334414ca792c5ff66eb8c14  \n",
       "19        preview_click_vacancy  0000d7508334414ca792c5ff66eb8c14  \n",
       "...                         ...                               ...  \n",
       "12292571  preview_click_vacancy  82a5e80f91b144f596496d6d831b49d3  \n",
       "12292572           show_vacancy  82a5e80f91b144f596496d6d831b49d3  \n",
       "12292573         click_contacts  82a5e80f91b144f596496d6d831b49d3  \n",
       "12292574         click_contacts  82a5e80f91b144f596496d6d831b49d3  \n",
       "12292575         click_contacts  82a5e80f91b144f596496d6d831b49d3  \n",
       "\n",
       "[12292588 rows x 9 columns]"
      ]
     },
     "execution_count": 28,
     "metadata": {},
     "output_type": "execute_result"
    }
   ],
   "source": [
    "train_df = pd.read_parquet(f\"{data_dir}/Processed_dataset.parquet\")\n",
    "train_df"
   ]
  },
  {
   "cell_type": "code",
   "execution_count": 29,
   "id": "ca2650eb",
   "metadata": {
    "colab": {
     "base_uri": "https://localhost:8080/",
     "height": 502
    },
    "id": "ca2650eb",
    "outputId": "4872ffa3-f796-4851-ef95-78afdd64484e"
   },
   "outputs": [
    {
     "data": {
      "text/html": [
       "<div>\n",
       "<style scoped>\n",
       "    .dataframe tbody tr th:only-of-type {\n",
       "        vertical-align: middle;\n",
       "    }\n",
       "\n",
       "    .dataframe tbody tr th {\n",
       "        vertical-align: top;\n",
       "    }\n",
       "\n",
       "    .dataframe thead th {\n",
       "        text-align: right;\n",
       "    }\n",
       "</style>\n",
       "<table border=\"1\" class=\"dataframe\">\n",
       "  <thead>\n",
       "    <tr style=\"text-align: right;\">\n",
       "      <th></th>\n",
       "      <th>cookie_id</th>\n",
       "      <th>vacancy_id_</th>\n",
       "    </tr>\n",
       "  </thead>\n",
       "  <tbody>\n",
       "    <tr>\n",
       "      <th>0</th>\n",
       "      <td>000cd76cd33f43d4a1ac1d16d10f8bf7</td>\n",
       "      <td>[222177, 222173, 222163, 238874, 238878, 228125, 225604, 235544, 119314]</td>\n",
       "    </tr>\n",
       "    <tr>\n",
       "      <th>1</th>\n",
       "      <td>0034bc7f404341ba8412665453e7825a</td>\n",
       "      <td>[102794, 137587, 257319, 237756, 240744, 113482, 240245, 221376, 242642, 235561, 191512, 222762, 231446, 109269, 205578]</td>\n",
       "    </tr>\n",
       "    <tr>\n",
       "      <th>2</th>\n",
       "      <td>00a6c5a64a274c55a836402bdeb3b2c4</td>\n",
       "      <td>[254292, 164602, 116438, 228634, 218819, 240655, 240659, 237341, 176563, 255299, 245637, 109275, 111505, 212953, 217549, 207108, 200475, 211355, 211449, 108956, 111071, 253239, 109649, 221735, 222030, 222174, 231207, 231022, 234380, 106944, 203948, 175325, 193534, 197505, 234769, 238933, 225709, 184466, 242642, 203015]</td>\n",
       "    </tr>\n",
       "    <tr>\n",
       "      <th>3</th>\n",
       "      <td>015937a125b14e74bdff1cddc49f9172</td>\n",
       "      <td>[246685, 138123, 115420, 210628, 212325, 235196]</td>\n",
       "    </tr>\n",
       "    <tr>\n",
       "      <th>4</th>\n",
       "      <td>01de50c280794cec8804f16f45f847b7</td>\n",
       "      <td>[219070, 251469, 166899, 212703, 214561]</td>\n",
       "    </tr>\n",
       "    <tr>\n",
       "      <th>...</th>\n",
       "      <td>...</td>\n",
       "      <td>...</td>\n",
       "    </tr>\n",
       "    <tr>\n",
       "      <th>767</th>\n",
       "      <td>fdbcda17f22f406486837059e76c7fed</td>\n",
       "      <td>[207851, 254989, 213344, 214180, 222146]</td>\n",
       "    </tr>\n",
       "    <tr>\n",
       "      <th>768</th>\n",
       "      <td>fe6193ab26494ace9be5aae36e507618</td>\n",
       "      <td>[115352, 230546, 225527, 120188, 109360, 232128, 237590, 259570, 244126, 229677, 135447]</td>\n",
       "    </tr>\n",
       "    <tr>\n",
       "      <th>769</th>\n",
       "      <td>fe95b2826ee1452b81201ed3f4c3294d</td>\n",
       "      <td>[240362, 114852, 253946, 251081, 127546, 244688]</td>\n",
       "    </tr>\n",
       "    <tr>\n",
       "      <th>770</th>\n",
       "      <td>ff1aef256a49481698bb2e938510ff36</td>\n",
       "      <td>[231194, 236363, 220747, 244688, 100094, 240521, 179568, 184858, 100103]</td>\n",
       "    </tr>\n",
       "    <tr>\n",
       "      <th>771</th>\n",
       "      <td>ff40591f76e34013a61b8af400002a07</td>\n",
       "      <td>[100336, 116442, 244721, 256719, 230803]</td>\n",
       "    </tr>\n",
       "  </tbody>\n",
       "</table>\n",
       "<p>772 rows × 2 columns</p>\n",
       "</div>"
      ],
      "text/plain": [
       "                            cookie_id  \\\n",
       "0    000cd76cd33f43d4a1ac1d16d10f8bf7   \n",
       "1    0034bc7f404341ba8412665453e7825a   \n",
       "2    00a6c5a64a274c55a836402bdeb3b2c4   \n",
       "3    015937a125b14e74bdff1cddc49f9172   \n",
       "4    01de50c280794cec8804f16f45f847b7   \n",
       "..                                ...   \n",
       "767  fdbcda17f22f406486837059e76c7fed   \n",
       "768  fe6193ab26494ace9be5aae36e507618   \n",
       "769  fe95b2826ee1452b81201ed3f4c3294d   \n",
       "770  ff1aef256a49481698bb2e938510ff36   \n",
       "771  ff40591f76e34013a61b8af400002a07   \n",
       "\n",
       "                                                                                                                                                                                                                                                                                                                          vacancy_id_  \n",
       "0                                                                                                                                                                                                                                                            [222177, 222173, 222163, 238874, 238878, 228125, 225604, 235544, 119314]  \n",
       "1                                                                                                                                                                                                            [102794, 137587, 257319, 237756, 240744, 113482, 240245, 221376, 242642, 235561, 191512, 222762, 231446, 109269, 205578]  \n",
       "2    [254292, 164602, 116438, 228634, 218819, 240655, 240659, 237341, 176563, 255299, 245637, 109275, 111505, 212953, 217549, 207108, 200475, 211355, 211449, 108956, 111071, 253239, 109649, 221735, 222030, 222174, 231207, 231022, 234380, 106944, 203948, 175325, 193534, 197505, 234769, 238933, 225709, 184466, 242642, 203015]  \n",
       "3                                                                                                                                                                                                                                                                                    [246685, 138123, 115420, 210628, 212325, 235196]  \n",
       "4                                                                                                                                                                                                                                                                                            [219070, 251469, 166899, 212703, 214561]  \n",
       "..                                                                                                                                                                                                                                                                                                                                ...  \n",
       "767                                                                                                                                                                                                                                                                                          [207851, 254989, 213344, 214180, 222146]  \n",
       "768                                                                                                                                                                                                                                          [115352, 230546, 225527, 120188, 109360, 232128, 237590, 259570, 244126, 229677, 135447]  \n",
       "769                                                                                                                                                                                                                                                                                  [240362, 114852, 253946, 251081, 127546, 244688]  \n",
       "770                                                                                                                                                                                                                                                          [231194, 236363, 220747, 244688, 100094, 240521, 179568, 184858, 100103]  \n",
       "771                                                                                                                                                                                                                                                                                          [100336, 116442, 244721, 256719, 230803]  \n",
       "\n",
       "[772 rows x 2 columns]"
      ]
     },
     "execution_count": 29,
     "metadata": {},
     "output_type": "execute_result"
    }
   ],
   "source": [
    "test_df = pd.read_parquet(f\"{data_dir}/test_public_mfti.parquet\")\n",
    "test_df  "
   ]
  },
  {
   "cell_type": "code",
   "execution_count": null,
   "id": "AF3bvY1hRxn5",
   "metadata": {
    "id": "AF3bvY1hRxn5"
   },
   "outputs": [],
   "source": []
  },
  {
   "cell_type": "code",
   "execution_count": 30,
   "id": "6c4f1a94",
   "metadata": {
    "id": "6c4f1a94"
   },
   "outputs": [],
   "source": [
    "nonrel_act_list = ['show_vacancy',\n",
    "                'preview_click_vacancy',\n",
    "                'click_favorite',\n",
    "                'preview_click_favorite']\n",
    "\n",
    "rel_act_list = ['click_response',\n",
    "                'preview_click_response',\n",
    "                'click_contacts',\n",
    "                'preview_click_contacts',\n",
    "                'click_phone',\n",
    "                'preview_click_phone']"
   ]
  },
  {
   "cell_type": "code",
   "execution_count": null,
   "id": "c64799ba",
   "metadata": {
    "id": "c64799ba"
   },
   "outputs": [],
   "source": []
  },
  {
   "cell_type": "code",
   "execution_count": 31,
   "id": "ec88cf2a",
   "metadata": {
    "colab": {
     "base_uri": "https://localhost:8080/",
     "height": 487
    },
    "id": "ec88cf2a",
    "outputId": "60a14154-808b-4ed7-e1bb-98cf49b5cfad"
   },
   "outputs": [
    {
     "data": {
      "text/html": [
       "<div>\n",
       "<style scoped>\n",
       "    .dataframe tbody tr th:only-of-type {\n",
       "        vertical-align: middle;\n",
       "    }\n",
       "\n",
       "    .dataframe tbody tr th {\n",
       "        vertical-align: top;\n",
       "    }\n",
       "\n",
       "    .dataframe thead th {\n",
       "        text-align: right;\n",
       "    }\n",
       "</style>\n",
       "<table border=\"1\" class=\"dataframe\">\n",
       "  <thead>\n",
       "    <tr style=\"text-align: right;\">\n",
       "      <th></th>\n",
       "      <th>common_id</th>\n",
       "      <th>event_date</th>\n",
       "      <th>event_timestamp</th>\n",
       "      <th>action_time</th>\n",
       "      <th>vacancy_id_</th>\n",
       "      <th>cookie_id</th>\n",
       "      <th>user_id</th>\n",
       "      <th>event_type</th>\n",
       "      <th>common_id_2</th>\n",
       "      <th>rating</th>\n",
       "    </tr>\n",
       "  </thead>\n",
       "  <tbody>\n",
       "    <tr>\n",
       "      <th>15</th>\n",
       "      <td>2</td>\n",
       "      <td>2022-09-05</td>\n",
       "      <td>1662374899</td>\n",
       "      <td>0.0</td>\n",
       "      <td>192850</td>\n",
       "      <td>0000d7508334414ca792c5ff66eb8c14</td>\n",
       "      <td>None</td>\n",
       "      <td>preview_click_vacancy</td>\n",
       "      <td>0000d7508334414ca792c5ff66eb8c14</td>\n",
       "      <td>0</td>\n",
       "    </tr>\n",
       "    <tr>\n",
       "      <th>16</th>\n",
       "      <td>2</td>\n",
       "      <td>2022-09-05</td>\n",
       "      <td>1662374899</td>\n",
       "      <td>498.0</td>\n",
       "      <td>192850</td>\n",
       "      <td>0000d7508334414ca792c5ff66eb8c14</td>\n",
       "      <td>None</td>\n",
       "      <td>show_vacancy</td>\n",
       "      <td>0000d7508334414ca792c5ff66eb8c14</td>\n",
       "      <td>0</td>\n",
       "    </tr>\n",
       "    <tr>\n",
       "      <th>17</th>\n",
       "      <td>2</td>\n",
       "      <td>2022-09-05</td>\n",
       "      <td>1662375397</td>\n",
       "      <td>1.0</td>\n",
       "      <td>230581</td>\n",
       "      <td>0000d7508334414ca792c5ff66eb8c14</td>\n",
       "      <td>None</td>\n",
       "      <td>preview_click_vacancy</td>\n",
       "      <td>0000d7508334414ca792c5ff66eb8c14</td>\n",
       "      <td>0</td>\n",
       "    </tr>\n",
       "    <tr>\n",
       "      <th>18</th>\n",
       "      <td>2</td>\n",
       "      <td>2022-09-05</td>\n",
       "      <td>1662375398</td>\n",
       "      <td>205.0</td>\n",
       "      <td>230581</td>\n",
       "      <td>0000d7508334414ca792c5ff66eb8c14</td>\n",
       "      <td>None</td>\n",
       "      <td>show_vacancy</td>\n",
       "      <td>0000d7508334414ca792c5ff66eb8c14</td>\n",
       "      <td>0</td>\n",
       "    </tr>\n",
       "    <tr>\n",
       "      <th>19</th>\n",
       "      <td>2</td>\n",
       "      <td>2022-09-05</td>\n",
       "      <td>1662375603</td>\n",
       "      <td>1.0</td>\n",
       "      <td>250327</td>\n",
       "      <td>0000d7508334414ca792c5ff66eb8c14</td>\n",
       "      <td>None</td>\n",
       "      <td>preview_click_vacancy</td>\n",
       "      <td>0000d7508334414ca792c5ff66eb8c14</td>\n",
       "      <td>0</td>\n",
       "    </tr>\n",
       "    <tr>\n",
       "      <th>...</th>\n",
       "      <td>...</td>\n",
       "      <td>...</td>\n",
       "      <td>...</td>\n",
       "      <td>...</td>\n",
       "      <td>...</td>\n",
       "      <td>...</td>\n",
       "      <td>...</td>\n",
       "      <td>...</td>\n",
       "      <td>...</td>\n",
       "      <td>...</td>\n",
       "    </tr>\n",
       "    <tr>\n",
       "      <th>12292571</th>\n",
       "      <td>367640</td>\n",
       "      <td>2022-09-26</td>\n",
       "      <td>1664169217</td>\n",
       "      <td>1.0</td>\n",
       "      <td>197828</td>\n",
       "      <td>ffffd6d4f2134dd6aa80ff71e942b508</td>\n",
       "      <td>82a5e80f91b144f596496d6d831b49d3</td>\n",
       "      <td>preview_click_vacancy</td>\n",
       "      <td>82a5e80f91b144f596496d6d831b49d3</td>\n",
       "      <td>0</td>\n",
       "    </tr>\n",
       "    <tr>\n",
       "      <th>12292572</th>\n",
       "      <td>367640</td>\n",
       "      <td>2022-09-26</td>\n",
       "      <td>1664169218</td>\n",
       "      <td>90.0</td>\n",
       "      <td>197828</td>\n",
       "      <td>ffffd6d4f2134dd6aa80ff71e942b508</td>\n",
       "      <td>82a5e80f91b144f596496d6d831b49d3</td>\n",
       "      <td>show_vacancy</td>\n",
       "      <td>82a5e80f91b144f596496d6d831b49d3</td>\n",
       "      <td>0</td>\n",
       "    </tr>\n",
       "    <tr>\n",
       "      <th>12292573</th>\n",
       "      <td>367640</td>\n",
       "      <td>2022-09-26</td>\n",
       "      <td>1664169308</td>\n",
       "      <td>210911.0</td>\n",
       "      <td>197828</td>\n",
       "      <td>ffffd6d4f2134dd6aa80ff71e942b508</td>\n",
       "      <td>82a5e80f91b144f596496d6d831b49d3</td>\n",
       "      <td>click_contacts</td>\n",
       "      <td>82a5e80f91b144f596496d6d831b49d3</td>\n",
       "      <td>1</td>\n",
       "    </tr>\n",
       "    <tr>\n",
       "      <th>12292574</th>\n",
       "      <td>367640</td>\n",
       "      <td>2022-09-28</td>\n",
       "      <td>1664380219</td>\n",
       "      <td>132.0</td>\n",
       "      <td>233452</td>\n",
       "      <td>ffffd6d4f2134dd6aa80ff71e942b508</td>\n",
       "      <td>82a5e80f91b144f596496d6d831b49d3</td>\n",
       "      <td>click_contacts</td>\n",
       "      <td>82a5e80f91b144f596496d6d831b49d3</td>\n",
       "      <td>1</td>\n",
       "    </tr>\n",
       "    <tr>\n",
       "      <th>12292575</th>\n",
       "      <td>367640</td>\n",
       "      <td>2022-09-28</td>\n",
       "      <td>1664380351</td>\n",
       "      <td>0.0</td>\n",
       "      <td>230870</td>\n",
       "      <td>ffffd6d4f2134dd6aa80ff71e942b508</td>\n",
       "      <td>82a5e80f91b144f596496d6d831b49d3</td>\n",
       "      <td>click_contacts</td>\n",
       "      <td>82a5e80f91b144f596496d6d831b49d3</td>\n",
       "      <td>1</td>\n",
       "    </tr>\n",
       "  </tbody>\n",
       "</table>\n",
       "<p>12292588 rows × 10 columns</p>\n",
       "</div>"
      ],
      "text/plain": [
       "          common_id  event_date  event_timestamp  action_time  vacancy_id_  \\\n",
       "15                2  2022-09-05       1662374899          0.0       192850   \n",
       "16                2  2022-09-05       1662374899        498.0       192850   \n",
       "17                2  2022-09-05       1662375397          1.0       230581   \n",
       "18                2  2022-09-05       1662375398        205.0       230581   \n",
       "19                2  2022-09-05       1662375603          1.0       250327   \n",
       "...             ...         ...              ...          ...          ...   \n",
       "12292571     367640  2022-09-26       1664169217          1.0       197828   \n",
       "12292572     367640  2022-09-26       1664169218         90.0       197828   \n",
       "12292573     367640  2022-09-26       1664169308     210911.0       197828   \n",
       "12292574     367640  2022-09-28       1664380219        132.0       233452   \n",
       "12292575     367640  2022-09-28       1664380351          0.0       230870   \n",
       "\n",
       "                                 cookie_id                           user_id  \\\n",
       "15        0000d7508334414ca792c5ff66eb8c14                              None   \n",
       "16        0000d7508334414ca792c5ff66eb8c14                              None   \n",
       "17        0000d7508334414ca792c5ff66eb8c14                              None   \n",
       "18        0000d7508334414ca792c5ff66eb8c14                              None   \n",
       "19        0000d7508334414ca792c5ff66eb8c14                              None   \n",
       "...                                    ...                               ...   \n",
       "12292571  ffffd6d4f2134dd6aa80ff71e942b508  82a5e80f91b144f596496d6d831b49d3   \n",
       "12292572  ffffd6d4f2134dd6aa80ff71e942b508  82a5e80f91b144f596496d6d831b49d3   \n",
       "12292573  ffffd6d4f2134dd6aa80ff71e942b508  82a5e80f91b144f596496d6d831b49d3   \n",
       "12292574  ffffd6d4f2134dd6aa80ff71e942b508  82a5e80f91b144f596496d6d831b49d3   \n",
       "12292575  ffffd6d4f2134dd6aa80ff71e942b508  82a5e80f91b144f596496d6d831b49d3   \n",
       "\n",
       "                     event_type                       common_id_2  rating  \n",
       "15        preview_click_vacancy  0000d7508334414ca792c5ff66eb8c14       0  \n",
       "16                 show_vacancy  0000d7508334414ca792c5ff66eb8c14       0  \n",
       "17        preview_click_vacancy  0000d7508334414ca792c5ff66eb8c14       0  \n",
       "18                 show_vacancy  0000d7508334414ca792c5ff66eb8c14       0  \n",
       "19        preview_click_vacancy  0000d7508334414ca792c5ff66eb8c14       0  \n",
       "...                         ...                               ...     ...  \n",
       "12292571  preview_click_vacancy  82a5e80f91b144f596496d6d831b49d3       0  \n",
       "12292572           show_vacancy  82a5e80f91b144f596496d6d831b49d3       0  \n",
       "12292573         click_contacts  82a5e80f91b144f596496d6d831b49d3       1  \n",
       "12292574         click_contacts  82a5e80f91b144f596496d6d831b49d3       1  \n",
       "12292575         click_contacts  82a5e80f91b144f596496d6d831b49d3       1  \n",
       "\n",
       "[12292588 rows x 10 columns]"
      ]
     },
     "execution_count": 31,
     "metadata": {},
     "output_type": "execute_result"
    }
   ],
   "source": [
    "# Создаем колонку с типом действия для рейтинга\n",
    "# 1 - целевое действие, 0 - остальные действия\n",
    "\n",
    "rating_column_name = 'rating'\n",
    "\n",
    "def check_is_purpose(event):\n",
    "    if event in rel_act_list:\n",
    "        return 1\n",
    "    else:\n",
    "        return 0\n",
    "\n",
    "train_df[rating_column_name] = train_df['event_type'].apply(check_is_purpose)\n",
    "train_df"
   ]
  },
  {
   "cell_type": "code",
   "execution_count": null,
   "id": "28a009dc",
   "metadata": {},
   "outputs": [],
   "source": []
  },
  {
   "cell_type": "markdown",
   "id": "6d05b9ad",
   "metadata": {},
   "source": [
    "**Для рейтинга 0-6**"
   ]
  },
  {
   "cell_type": "code",
   "execution_count": 32,
   "id": "4203b03f",
   "metadata": {},
   "outputs": [
    {
     "data": {
      "text/html": [
       "<div>\n",
       "<style scoped>\n",
       "    .dataframe tbody tr th:only-of-type {\n",
       "        vertical-align: middle;\n",
       "    }\n",
       "\n",
       "    .dataframe tbody tr th {\n",
       "        vertical-align: top;\n",
       "    }\n",
       "\n",
       "    .dataframe thead th {\n",
       "        text-align: right;\n",
       "    }\n",
       "</style>\n",
       "<table border=\"1\" class=\"dataframe\">\n",
       "  <thead>\n",
       "    <tr style=\"text-align: right;\">\n",
       "      <th></th>\n",
       "      <th>cookie_id</th>\n",
       "      <th>vacancy_id_</th>\n",
       "      <th>rating</th>\n",
       "    </tr>\n",
       "  </thead>\n",
       "  <tbody>\n",
       "    <tr>\n",
       "      <th>0</th>\n",
       "      <td>0000c4548c3944c08972bbdc1fa4eb85</td>\n",
       "      <td>137659</td>\n",
       "      <td>0</td>\n",
       "    </tr>\n",
       "    <tr>\n",
       "      <th>1</th>\n",
       "      <td>0000c4548c3944c08972bbdc1fa4eb85</td>\n",
       "      <td>153975</td>\n",
       "      <td>0</td>\n",
       "    </tr>\n",
       "    <tr>\n",
       "      <th>2</th>\n",
       "      <td>0000c4548c3944c08972bbdc1fa4eb85</td>\n",
       "      <td>174953</td>\n",
       "      <td>0</td>\n",
       "    </tr>\n",
       "    <tr>\n",
       "      <th>3</th>\n",
       "      <td>0000c4548c3944c08972bbdc1fa4eb85</td>\n",
       "      <td>176171</td>\n",
       "      <td>0</td>\n",
       "    </tr>\n",
       "    <tr>\n",
       "      <th>4</th>\n",
       "      <td>0000c4548c3944c08972bbdc1fa4eb85</td>\n",
       "      <td>182445</td>\n",
       "      <td>0</td>\n",
       "    </tr>\n",
       "    <tr>\n",
       "      <th>...</th>\n",
       "      <td>...</td>\n",
       "      <td>...</td>\n",
       "      <td>...</td>\n",
       "    </tr>\n",
       "    <tr>\n",
       "      <th>4678580</th>\n",
       "      <td>ffffdb17f45b4032b386d691d52e6c00</td>\n",
       "      <td>107125</td>\n",
       "      <td>1</td>\n",
       "    </tr>\n",
       "    <tr>\n",
       "      <th>4678581</th>\n",
       "      <td>ffffdb17f45b4032b386d691d52e6c00</td>\n",
       "      <td>107893</td>\n",
       "      <td>1</td>\n",
       "    </tr>\n",
       "    <tr>\n",
       "      <th>4678582</th>\n",
       "      <td>ffffdb17f45b4032b386d691d52e6c00</td>\n",
       "      <td>150843</td>\n",
       "      <td>1</td>\n",
       "    </tr>\n",
       "    <tr>\n",
       "      <th>4678583</th>\n",
       "      <td>ffffdb17f45b4032b386d691d52e6c00</td>\n",
       "      <td>160164</td>\n",
       "      <td>1</td>\n",
       "    </tr>\n",
       "    <tr>\n",
       "      <th>4678584</th>\n",
       "      <td>ffffdb17f45b4032b386d691d52e6c00</td>\n",
       "      <td>185412</td>\n",
       "      <td>1</td>\n",
       "    </tr>\n",
       "  </tbody>\n",
       "</table>\n",
       "<p>4678585 rows × 3 columns</p>\n",
       "</div>"
      ],
      "text/plain": [
       "                                cookie_id  vacancy_id_  rating\n",
       "0        0000c4548c3944c08972bbdc1fa4eb85       137659       0\n",
       "1        0000c4548c3944c08972bbdc1fa4eb85       153975       0\n",
       "2        0000c4548c3944c08972bbdc1fa4eb85       174953       0\n",
       "3        0000c4548c3944c08972bbdc1fa4eb85       176171       0\n",
       "4        0000c4548c3944c08972bbdc1fa4eb85       182445       0\n",
       "...                                   ...          ...     ...\n",
       "4678580  ffffdb17f45b4032b386d691d52e6c00       107125       1\n",
       "4678581  ffffdb17f45b4032b386d691d52e6c00       107893       1\n",
       "4678582  ffffdb17f45b4032b386d691d52e6c00       150843       1\n",
       "4678583  ffffdb17f45b4032b386d691d52e6c00       160164       1\n",
       "4678584  ffffdb17f45b4032b386d691d52e6c00       185412       1\n",
       "\n",
       "[4678585 rows x 3 columns]"
      ]
     },
     "execution_count": 32,
     "metadata": {},
     "output_type": "execute_result"
    }
   ],
   "source": [
    "train_df_short = train_df[[id_column_name, 'vacancy_id_', 'event_type', rating_column_name]]\n",
    "train_matrix_rating0_6 = train_df_short.drop_duplicates(keep='first', ignore_index=True).sort_values(by=[id_column_name, 'vacancy_id_'], ignore_index=True)\n",
    "train_matrix_rating0_6 = train_matrix_rating0_6.groupby(by=[id_column_name, 'vacancy_id_'], as_index=False).agg({rating_column_name: 'sum'})\n",
    "train_matrix_rating0_6"
   ]
  },
  {
   "cell_type": "code",
   "execution_count": 33,
   "id": "cfd668bb",
   "metadata": {},
   "outputs": [
    {
     "data": {
      "text/plain": [
       "'min rating = 0, max rating = 6'"
      ]
     },
     "execution_count": 33,
     "metadata": {},
     "output_type": "execute_result"
    }
   ],
   "source": [
    "f'min rating = {train_matrix_rating0_6[rating_column_name].min()}, max rating = {train_matrix_rating0_6[rating_column_name].max()}'"
   ]
  },
  {
   "cell_type": "code",
   "execution_count": null,
   "id": "230de73f",
   "metadata": {},
   "outputs": [],
   "source": []
  },
  {
   "cell_type": "code",
   "execution_count": 34,
   "id": "a6f3fc0c",
   "metadata": {},
   "outputs": [],
   "source": [
    "# Вспомогательные функции\n",
    "\n",
    "def get_predictions(cookie_id, model_info, initial_set, n_predict = 5):\n",
    "    # Получим все вакансии с которыми взаимодействовал cookie_id:\n",
    "    interacted_items = train_matrix_rating0_6[train_matrix_rating0_6['cookie_id'] == cookie_id]['vacancy_id_'].unique()\n",
    "    \n",
    "    # Удалим из мешка вакансии с которыми контактировал юзер:\n",
    "    items_to_predict = np.setdiff1d(initial_set, interacted_items)\n",
    "    \n",
    "    model = model_info[0]\n",
    "    model_type = model_info[1]  \n",
    "    \n",
    "    # получим топ-n вакансий для данного юзера:\n",
    "    if model_type == 'surprise':\n",
    "        top_n_vacancies = get_predictions_surprise(cookie_id, model, items_to_predict, n_predict)\n",
    "    \n",
    "    if model_type == 'implicit':\n",
    "        filtered_set = train_matrix_rating0_6[~train_matrix_rating0_6['vacancy_id_'].isin(items_to_predict)]['vacancy_id_'].unique()\n",
    "        top_n_vacancies = get_predictions_implicit(cookie_id, model, filtered_set, model_info[2], n_predict)\n",
    "    \n",
    "    return top_n_vacancies\n",
    "\n",
    "\n",
    "def get_predictions_surprise(user_id, model, vac_set, n_predict = 5):\n",
    "    # Создадим тест датасет для данного юзера:\n",
    "    test_set = [[user_id, item, 4.] for item in vac_set]        \n",
    "    \n",
    "    predictions = model.test(test_set)\n",
    "    top_n = sorted(predictions, key=lambda x: x.est, reverse=True)[:n_predict]\n",
    "    return [pred.iid for pred in top_n]\n",
    "\n",
    "\n",
    "def get_predictions_implicit(user_id, model, filtered_set, impl_set, n_predict = 5):\n",
    "    user_item = impl_set[0]\n",
    "    id_cat_code = impl_set[1][user_id]\n",
    "    vac_cat_codes = impl_set[2]\n",
    "    cat_vac_codes = impl_set[3]\n",
    "    filter_items = np.array([vac_cat_codes[i] for i in filtered_set])\n",
    "    ids, scores = model.recommend(id_cat_code,\n",
    "                                  user_item[id_cat_code],\n",
    "                                  N=n_predict,\n",
    "                                  filter_items=filter_items,\n",
    "                                  filter_already_liked_items=True)\n",
    "    return [cat_vac_codes[i] for i in ids]    \n",
    "\n",
    "\n",
    "def calc_correct_recomend_number(predict_col, vac_col):\n",
    "    \"\"\"Функция для определения количества совпадающих вакансий в двух списках\"\"\"\n",
    "    return len(set(predict_col) & set(vac_col))\n",
    "\n",
    "\n",
    "def get_prec_n(res_df, num_corr_column, n_predict = 5):\n",
    "    \"\"\"Функция для расчета precision@n метрики\"\"\"\n",
    "    corr_recommend = res_df[num_corr_column].sum()\n",
    "    prec_5 = corr_recommend / (n_predict * res_df.shape[0])\n",
    "    return {'num_corr_recomend': corr_recommend, f'precision@{n_predict}': prec_5}"
   ]
  },
  {
   "cell_type": "code",
   "execution_count": 35,
   "id": "260044d1",
   "metadata": {},
   "outputs": [],
   "source": [
    "# Импортируем tqdm для progress bar\n",
    "from tqdm.auto import tqdm\n",
    "\n",
    "def get_res_df(models_dict, set_dict, n_predict = 5):\n",
    "    res_dict = {}\n",
    "    for model_name in tqdm(models_dict):        \n",
    "        for set_name in tqdm(set_dict):        \n",
    "            # Создаем столбец с предсказаниями\n",
    "            predict_col_name = f'predict_id_{model_name}_{set_name}_n_{n_pred}'            \n",
    "            test_df_with_pred[predict_col_name] = test_df_with_pred['cookie_id'].apply(get_predictions,\n",
    "                                                                                       model_info = models_dict[model_name],\n",
    "                                                                                       initial_set = set_dict[set_name],\n",
    "                                                                                       n_predict = n_pred)                  \n",
    "            \n",
    "            # Создаем столбец с количеством правильных предсказаний для каждого id\n",
    "            num_corr_col_name = f'num_corr_{model_name}_{set_name}_n_{n_pred}'        \n",
    "            test_df_with_pred[num_corr_col_name] = test_df_with_pred.apply(\n",
    "                lambda x: calc_correct_recomend_number(x[predict_col_name], x['vacancy_id_']), axis=1\n",
    "            )\n",
    "            \n",
    "            # Считаем precision@n метрику\n",
    "            res_dict[model_name+'_'+set_name] = get_prec_n(test_df_with_pred,\n",
    "                                                           num_corr_column = num_corr_col_name,\n",
    "                                                           n_predict = n_pred)\n",
    "    return pd.DataFrame.from_dict(res_dict, orient='index')"
   ]
  },
  {
   "cell_type": "markdown",
   "id": "de38d769",
   "metadata": {},
   "source": [
    "## Часть Implicit"
   ]
  },
  {
   "cell_type": "code",
   "execution_count": 36,
   "id": "ed84b8ec",
   "metadata": {
    "id": "ed84b8ec"
   },
   "outputs": [],
   "source": [
    "col_names ={\n",
    "    'id_col_name': id_column_name,\n",
    "    'vac_col_name': 'vacancy_id_',\n",
    "    'rating_col_name': rating_column_name\n",
    "}"
   ]
  },
  {
   "cell_type": "code",
   "execution_count": 37,
   "id": "1a37b804",
   "metadata": {
    "id": "1a37b804"
   },
   "outputs": [],
   "source": [
    "def transform_into_sparse_matrix(input_df, col_names):\n",
    "    input_df_fixed = input_df.copy()\n",
    "    input_df_fixed[col_names['id_col_name']] = input_df_fixed[col_names['id_col_name']].astype('category')\n",
    "    input_df_fixed[col_names['vac_col_name']] = input_df_fixed[col_names['vac_col_name']].astype('category')\n",
    "    input_df_fixed[col_names['rating_col_name']] = input_df_fixed[col_names['rating_col_name']].astype('uint8')\n",
    "    user_item_matrix = csr_matrix((input_df_fixed[col_names['rating_col_name']], \n",
    "                                (input_df_fixed[col_names['id_col_name']].cat.codes, \n",
    "                                 input_df_fixed[col_names['vac_col_name']].cat.codes)))\n",
    "    id_cat_codes = dict(zip(input_df_fixed[col_names['id_col_name']], input_df_fixed[col_names['id_col_name']].cat.codes))\n",
    "    vac_cat_codes = dict(zip(input_df_fixed[col_names['vac_col_name']], input_df_fixed[col_names['vac_col_name']].cat.codes))\n",
    "    cat_vac_codes = dict(zip(input_df_fixed[col_names['vac_col_name']].cat.codes, input_df_fixed[col_names['vac_col_name']]))\n",
    "    return (user_item_matrix, id_cat_codes, vac_cat_codes, cat_vac_codes)\n"
   ]
  },
  {
   "cell_type": "code",
   "execution_count": 38,
   "id": "6a933dad",
   "metadata": {
    "id": "6a933dad"
   },
   "outputs": [],
   "source": [
    "Impl_rat06_set = transform_into_sparse_matrix(train_matrix_rating0_6, col_names)"
   ]
  },
  {
   "cell_type": "code",
   "execution_count": 39,
   "id": "e69cb38b",
   "metadata": {},
   "outputs": [
    {
     "data": {
      "text/plain": [
       "140242"
      ]
     },
     "execution_count": 39,
     "metadata": {},
     "output_type": "execute_result"
    }
   ],
   "source": [
    "# Создание списка неактульных вакансий, с которомы давно не было взаимодействий\n",
    "# 78 973 вакансии не были провзаимодействованы за последние 2 недели рассматриваемого периода (prec = 0.031)\n",
    "# 99 046 вакансии не были провзаимодействованы за последнюю неделю (prec = 0.033)\n",
    "# 117 944 вакансии не были провзаимодействованы за последние 3 дня (prec = 0.036)\n",
    "# 127 405 вакансии не были провзаимодействованы за последние 2 дня (prec = 0.038)\n",
    "# 140 242 вакансии не были провзаимодействованы за последний 1 день - 0.04\n",
    "non_valid_vacs = []\n",
    "for vac, group in train_df.groupby('vacancy_id_'):\n",
    "    max_date = group['event_date'].max()\n",
    "    if max_date <= '2022-09-30':\n",
    "        non_valid_vacs.append(vac)\n",
    "len(non_valid_vacs)"
   ]
  },
  {
   "cell_type": "code",
   "execution_count": 40,
   "id": "184c4c2c",
   "metadata": {},
   "outputs": [
    {
     "data": {
      "text/plain": [
       "19925"
      ]
     },
     "execution_count": 40,
     "metadata": {},
     "output_type": "execute_result"
    }
   ],
   "source": [
    "valid_vacs = train_matrix_rating0_6[~train_matrix_rating0_6['vacancy_id_'].isin(non_valid_vacs)]['vacancy_id_'].unique()\n",
    "len(valid_vacs)"
   ]
  },
  {
   "cell_type": "code",
   "execution_count": null,
   "id": "02c31a31",
   "metadata": {},
   "outputs": [],
   "source": [
    "# Задаем словари с моделями и датасетами чтобы перебрать их все\n",
    "set_dict_Impl = {\n",
    "    'non_val_vacs': valid_vacs\n",
    "}"
   ]
  },
  {
   "cell_type": "code",
   "execution_count": null,
   "id": "6eaca196",
   "metadata": {},
   "outputs": [],
   "source": [
    "# Копируем датасет чтобы не менять изначальный\n",
    "\n",
    "test_df_with_pred = test_df.copy()"
   ]
  },
  {
   "cell_type": "code",
   "execution_count": 41,
   "id": "97a17ef6",
   "metadata": {},
   "outputs": [],
   "source": [
    "parameters = {'factors': np.arange(50, 250, 50),\n",
    "             'regularization': np.arange(0.01, 0.1, 0.02),\n",
    "             'iterations': np.arange(10, 20, 5)}"
   ]
  },
  {
   "cell_type": "code",
   "execution_count": 42,
   "id": "980dbd32",
   "metadata": {},
   "outputs": [
    {
     "data": {
      "application/vnd.jupyter.widget-view+json": {
       "model_id": "64b40651ba06405d8ae8bd226a38b811",
       "version_major": 2,
       "version_minor": 0
      },
      "text/plain": [
       "  0%|          | 0/15 [00:00<?, ?it/s]"
      ]
     },
     "metadata": {},
     "output_type": "display_data"
    },
    {
     "data": {
      "application/vnd.jupyter.widget-view+json": {
       "model_id": "001e248e355c47bfba440d8ea2f1064d",
       "version_major": 2,
       "version_minor": 0
      },
      "text/plain": [
       "  0%|          | 0/15 [00:00<?, ?it/s]"
      ]
     },
     "metadata": {},
     "output_type": "display_data"
    },
    {
     "data": {
      "application/vnd.jupyter.widget-view+json": {
       "model_id": "9b8854ce48ab4de6ab65f99899b5d231",
       "version_major": 2,
       "version_minor": 0
      },
      "text/plain": [
       "  0%|          | 0/15 [00:00<?, ?it/s]"
      ]
     },
     "metadata": {},
     "output_type": "display_data"
    },
    {
     "data": {
      "application/vnd.jupyter.widget-view+json": {
       "model_id": "aeb29812a4204550933c82b3b682b6e5",
       "version_major": 2,
       "version_minor": 0
      },
      "text/plain": [
       "  0%|          | 0/15 [00:00<?, ?it/s]"
      ]
     },
     "metadata": {},
     "output_type": "display_data"
    }
   ],
   "source": [
    "models_dict_Impl = {}\n",
    "\n",
    "for factor in parameters['factors']:\n",
    "    models_dict_Impl[f\"Impl_ALS_rat06_fac_{factor}\"] = list()\n",
    "    models_dict_Impl[f\"Impl_ALS_rat06_fac_{factor}\"].append(AlternatingLeastSquares(factors=factor,\n",
    "                                                                                  regularization=0.05,\n",
    "                                                                                  calculate_training_loss=True,\n",
    "                                                                                  random_state=random_state_value))\n",
    "    models_dict_Impl[f\"Impl_ALS_rat06_fac_{factor}\"].append('implicit')\n",
    "    models_dict_Impl[f\"Impl_ALS_rat06_fac_{factor}\"].append(Impl_rat06_set)\n",
    "    models_dict_Impl[f\"Impl_ALS_rat06_fac_{factor}\"][0].fit(Impl_rat06_set[0])"
   ]
  },
  {
   "cell_type": "code",
   "execution_count": null,
   "id": "ccb90ed5",
   "metadata": {},
   "outputs": [],
   "source": [
    "n_pred = 5\n",
    "\n",
    "res_df = get_res_df(models_dict_Impl, set_dict_Impl, n_predict = n_pred)\n",
    "res_df"
   ]
  },
  {
   "cell_type": "code",
   "execution_count": null,
   "id": "3a0ef3dd",
   "metadata": {},
   "outputs": [],
   "source": [
    "pd.set_option('display.max_rows', None)\n",
    "res_df.sort_values(by=['precision@5'], ascending=False)"
   ]
  },
  {
   "cell_type": "code",
   "execution_count": null,
   "id": "8900f0c1",
   "metadata": {},
   "outputs": [],
   "source": []
  },
  {
   "cell_type": "code",
   "execution_count": 43,
   "id": "1c9bb3b3",
   "metadata": {},
   "outputs": [
    {
     "data": {
      "application/vnd.jupyter.widget-view+json": {
       "model_id": "0bf59290b11b4025919b6b5f8c0f6d1e",
       "version_major": 2,
       "version_minor": 0
      },
      "text/plain": [
       "  0%|          | 0/15 [00:00<?, ?it/s]"
      ]
     },
     "metadata": {},
     "output_type": "display_data"
    },
    {
     "data": {
      "application/vnd.jupyter.widget-view+json": {
       "model_id": "37327892bdd84cc8bb646d94e0c2f1d6",
       "version_major": 2,
       "version_minor": 0
      },
      "text/plain": [
       "  0%|          | 0/15 [00:00<?, ?it/s]"
      ]
     },
     "metadata": {},
     "output_type": "display_data"
    },
    {
     "data": {
      "application/vnd.jupyter.widget-view+json": {
       "model_id": "4eb37d9bfda544819013f23421c070ab",
       "version_major": 2,
       "version_minor": 0
      },
      "text/plain": [
       "  0%|          | 0/15 [00:00<?, ?it/s]"
      ]
     },
     "metadata": {},
     "output_type": "display_data"
    },
    {
     "data": {
      "application/vnd.jupyter.widget-view+json": {
       "model_id": "eea75d34f41d44bc97bad8c9cd3db58b",
       "version_major": 2,
       "version_minor": 0
      },
      "text/plain": [
       "  0%|          | 0/15 [00:00<?, ?it/s]"
      ]
     },
     "metadata": {},
     "output_type": "display_data"
    },
    {
     "data": {
      "application/vnd.jupyter.widget-view+json": {
       "model_id": "05bf4a002b804c178464d0a6f640d4c2",
       "version_major": 2,
       "version_minor": 0
      },
      "text/plain": [
       "  0%|          | 0/15 [00:00<?, ?it/s]"
      ]
     },
     "metadata": {},
     "output_type": "display_data"
    },
    {
     "data": {
      "application/vnd.jupyter.widget-view+json": {
       "model_id": "fbb651e2e620486392898f7c66ef0998",
       "version_major": 2,
       "version_minor": 0
      },
      "text/plain": [
       "  0%|          | 0/15 [00:00<?, ?it/s]"
      ]
     },
     "metadata": {},
     "output_type": "display_data"
    },
    {
     "data": {
      "application/vnd.jupyter.widget-view+json": {
       "model_id": "3706716ad5104b8d90ddbb7652bd227d",
       "version_major": 2,
       "version_minor": 0
      },
      "text/plain": [
       "  0%|          | 0/15 [00:00<?, ?it/s]"
      ]
     },
     "metadata": {},
     "output_type": "display_data"
    },
    {
     "data": {
      "application/vnd.jupyter.widget-view+json": {
       "model_id": "447d84ec473445ad81361da8fdc677b8",
       "version_major": 2,
       "version_minor": 0
      },
      "text/plain": [
       "  0%|          | 0/15 [00:00<?, ?it/s]"
      ]
     },
     "metadata": {},
     "output_type": "display_data"
    },
    {
     "data": {
      "application/vnd.jupyter.widget-view+json": {
       "model_id": "2d1e156c83a14c3c9f141801feff2e99",
       "version_major": 2,
       "version_minor": 0
      },
      "text/plain": [
       "  0%|          | 0/15 [00:00<?, ?it/s]"
      ]
     },
     "metadata": {},
     "output_type": "display_data"
    }
   ],
   "source": [
    "models_dict_Impl = {}\n",
    "\n",
    "for reg_val in parameters['regularization']:\n",
    "    models_dict_Impl[f\"Impl_ALS_rat06_reg_{reg_val}\"] = list()\n",
    "    models_dict_Impl[f\"Impl_ALS_rat06_reg_{reg_val}\"].append(AlternatingLeastSquares(factors=100,\n",
    "                                                                                     regularization=reg_val,\n",
    "                                                                                     calculate_training_loss=True,\n",
    "                                                                                     random_state=random_state_value))\n",
    "    models_dict_Impl[f\"Impl_ALS_rat06_reg_{reg_val}\"].append('implicit')\n",
    "    models_dict_Impl[f\"Impl_ALS_rat06_reg_{reg_val}\"].append(Impl_rat06_set)\n",
    "    models_dict_Impl[f\"Impl_ALS_rat06_reg_{reg_val}\"][0].fit(Impl_rat06_set[0])"
   ]
  },
  {
   "cell_type": "code",
   "execution_count": null,
   "id": "21ea81a7",
   "metadata": {},
   "outputs": [],
   "source": [
    "n_pred = 5\n",
    "\n",
    "res_df = get_res_df(models_dict_Impl, set_dict_Impl, n_predict = n_pred)\n",
    "res_df"
   ]
  },
  {
   "cell_type": "code",
   "execution_count": null,
   "id": "14448872",
   "metadata": {},
   "outputs": [],
   "source": [
    "pd.set_option('display.max_rows', None)\n",
    "res_df.sort_values(by=['precision@5'], ascending=False)"
   ]
  },
  {
   "cell_type": "code",
   "execution_count": null,
   "id": "92eb2cf8",
   "metadata": {},
   "outputs": [],
   "source": []
  },
  {
   "cell_type": "code",
   "execution_count": 44,
   "id": "d0082904",
   "metadata": {},
   "outputs": [
    {
     "data": {
      "application/vnd.jupyter.widget-view+json": {
       "model_id": "dc31be43e35a45a09505c3fd529424b3",
       "version_major": 2,
       "version_minor": 0
      },
      "text/plain": [
       "  0%|          | 0/10 [00:00<?, ?it/s]"
      ]
     },
     "metadata": {},
     "output_type": "display_data"
    },
    {
     "data": {
      "application/vnd.jupyter.widget-view+json": {
       "model_id": "8348da442c9e4fac8c0705782fff154d",
       "version_major": 2,
       "version_minor": 0
      },
      "text/plain": [
       "  0%|          | 0/11 [00:00<?, ?it/s]"
      ]
     },
     "metadata": {},
     "output_type": "display_data"
    },
    {
     "data": {
      "application/vnd.jupyter.widget-view+json": {
       "model_id": "64a55e2244fc4ff79fa302974d5cd0ce",
       "version_major": 2,
       "version_minor": 0
      },
      "text/plain": [
       "  0%|          | 0/12 [00:00<?, ?it/s]"
      ]
     },
     "metadata": {},
     "output_type": "display_data"
    },
    {
     "data": {
      "application/vnd.jupyter.widget-view+json": {
       "model_id": "d2f33282617a40d9849fb791f5d905f3",
       "version_major": 2,
       "version_minor": 0
      },
      "text/plain": [
       "  0%|          | 0/13 [00:00<?, ?it/s]"
      ]
     },
     "metadata": {},
     "output_type": "display_data"
    },
    {
     "data": {
      "application/vnd.jupyter.widget-view+json": {
       "model_id": "7c7116d18603492ba8c4fe5384c8edfa",
       "version_major": 2,
       "version_minor": 0
      },
      "text/plain": [
       "  0%|          | 0/14 [00:00<?, ?it/s]"
      ]
     },
     "metadata": {},
     "output_type": "display_data"
    },
    {
     "data": {
      "application/vnd.jupyter.widget-view+json": {
       "model_id": "365f621a4fac43f8807869611a891e11",
       "version_major": 2,
       "version_minor": 0
      },
      "text/plain": [
       "  0%|          | 0/15 [00:00<?, ?it/s]"
      ]
     },
     "metadata": {},
     "output_type": "display_data"
    },
    {
     "data": {
      "application/vnd.jupyter.widget-view+json": {
       "model_id": "8fc4a1aad1104259a02a68d4055d8618",
       "version_major": 2,
       "version_minor": 0
      },
      "text/plain": [
       "  0%|          | 0/16 [00:00<?, ?it/s]"
      ]
     },
     "metadata": {},
     "output_type": "display_data"
    },
    {
     "data": {
      "application/vnd.jupyter.widget-view+json": {
       "model_id": "80a461c22d564e4a82da274ddec2646e",
       "version_major": 2,
       "version_minor": 0
      },
      "text/plain": [
       "  0%|          | 0/17 [00:00<?, ?it/s]"
      ]
     },
     "metadata": {},
     "output_type": "display_data"
    },
    {
     "data": {
      "application/vnd.jupyter.widget-view+json": {
       "model_id": "a2bb79d4c8fc42108cd27619aac6598c",
       "version_major": 2,
       "version_minor": 0
      },
      "text/plain": [
       "  0%|          | 0/18 [00:00<?, ?it/s]"
      ]
     },
     "metadata": {},
     "output_type": "display_data"
    },
    {
     "data": {
      "application/vnd.jupyter.widget-view+json": {
       "model_id": "9111125b4853456e91d04a65f576b566",
       "version_major": 2,
       "version_minor": 0
      },
      "text/plain": [
       "  0%|          | 0/19 [00:00<?, ?it/s]"
      ]
     },
     "metadata": {},
     "output_type": "display_data"
    }
   ],
   "source": [
    "models_dict_Impl = {}\n",
    "\n",
    "for iter_val in parameters['iterations']:\n",
    "    models_dict_Impl[f\"Impl_ALS_rat06_iter_{iter_val}\"] = list()\n",
    "    models_dict_Impl[f\"Impl_ALS_rat06_iter_{iter_val}\"].append(AlternatingLeastSquares(factors=100,\n",
    "                                                                                       regularization=0.05,\n",
    "                                                                                       iterations=iter_val,\n",
    "                                                                                       calculate_training_loss=True,\n",
    "                                                                                       random_state=random_state_value))\n",
    "    models_dict_Impl[f\"Impl_ALS_rat06_iter_{iter_val}\"].append('implicit')\n",
    "    models_dict_Impl[f\"Impl_ALS_rat06_iter_{iter_val}\"].append(Impl_rat06_set)\n",
    "    models_dict_Impl[f\"Impl_ALS_rat06_iter_{iter_val}\"][0].fit(Impl_rat06_set[0])"
   ]
  },
  {
   "cell_type": "code",
   "execution_count": null,
   "id": "225576e1",
   "metadata": {},
   "outputs": [],
   "source": [
    "n_pred = 5\n",
    "\n",
    "res_df = get_res_df(models_dict_Impl, set_dict_Impl, n_predict = n_pred)\n",
    "res_df"
   ]
  },
  {
   "cell_type": "code",
   "execution_count": null,
   "id": "10f07af1",
   "metadata": {},
   "outputs": [],
   "source": [
    "pd.set_option('display.max_rows', None)\n",
    "res_df.sort_values(by=['precision@5'], ascending=False)"
   ]
  },
  {
   "cell_type": "code",
   "execution_count": null,
   "id": "bbb81bba",
   "metadata": {},
   "outputs": [],
   "source": []
  }
 ],
 "metadata": {
  "accelerator": "GPU",
  "colab": {
   "provenance": []
  },
  "gpuClass": "standard",
  "kernelspec": {
   "display_name": "Python 3",
   "language": "python",
   "name": "python3"
  },
  "language_info": {
   "codemirror_mode": {
    "name": "ipython",
    "version": 3
   },
   "file_extension": ".py",
   "mimetype": "text/x-python",
   "name": "python",
   "nbconvert_exporter": "python",
   "pygments_lexer": "ipython3",
   "version": "3.9.16"
  },
  "widgets": {
   "application/vnd.jupyter.widget-state+json": {
    "0580aae22c2f434e8510e9b7fef152bf": {
     "model_module": "@jupyter-widgets/base",
     "model_module_version": "1.2.0",
     "model_name": "LayoutModel",
     "state": {
      "_model_module": "@jupyter-widgets/base",
      "_model_module_version": "1.2.0",
      "_model_name": "LayoutModel",
      "_view_count": null,
      "_view_module": "@jupyter-widgets/base",
      "_view_module_version": "1.2.0",
      "_view_name": "LayoutView",
      "align_content": null,
      "align_items": null,
      "align_self": null,
      "border": null,
      "bottom": null,
      "display": null,
      "flex": null,
      "flex_flow": null,
      "grid_area": null,
      "grid_auto_columns": null,
      "grid_auto_flow": null,
      "grid_auto_rows": null,
      "grid_column": null,
      "grid_gap": null,
      "grid_row": null,
      "grid_template_areas": null,
      "grid_template_columns": null,
      "grid_template_rows": null,
      "height": null,
      "justify_content": null,
      "justify_items": null,
      "left": null,
      "margin": null,
      "max_height": null,
      "max_width": null,
      "min_height": null,
      "min_width": null,
      "object_fit": null,
      "object_position": null,
      "order": null,
      "overflow": null,
      "overflow_x": null,
      "overflow_y": null,
      "padding": null,
      "right": null,
      "top": null,
      "visibility": null,
      "width": null
     }
    },
    "06d8bb4ad65341738c9e132f6b0c8ce3": {
     "model_module": "@jupyter-widgets/controls",
     "model_module_version": "1.5.0",
     "model_name": "DescriptionStyleModel",
     "state": {
      "_model_module": "@jupyter-widgets/controls",
      "_model_module_version": "1.5.0",
      "_model_name": "DescriptionStyleModel",
      "_view_count": null,
      "_view_module": "@jupyter-widgets/base",
      "_view_module_version": "1.2.0",
      "_view_name": "StyleView",
      "description_width": ""
     }
    },
    "12925a468fc040d8a637cbb51d2b733e": {
     "model_module": "@jupyter-widgets/controls",
     "model_module_version": "1.5.0",
     "model_name": "DescriptionStyleModel",
     "state": {
      "_model_module": "@jupyter-widgets/controls",
      "_model_module_version": "1.5.0",
      "_model_name": "DescriptionStyleModel",
      "_view_count": null,
      "_view_module": "@jupyter-widgets/base",
      "_view_module_version": "1.2.0",
      "_view_name": "StyleView",
      "description_width": ""
     }
    },
    "150536bb9c2541c18078ccfa1b0ddadb": {
     "model_module": "@jupyter-widgets/controls",
     "model_module_version": "1.5.0",
     "model_name": "DescriptionStyleModel",
     "state": {
      "_model_module": "@jupyter-widgets/controls",
      "_model_module_version": "1.5.0",
      "_model_name": "DescriptionStyleModel",
      "_view_count": null,
      "_view_module": "@jupyter-widgets/base",
      "_view_module_version": "1.2.0",
      "_view_name": "StyleView",
      "description_width": ""
     }
    },
    "19a136fdee0b4b55a63e8ee3bc2169f2": {
     "model_module": "@jupyter-widgets/controls",
     "model_module_version": "1.5.0",
     "model_name": "HTMLModel",
     "state": {
      "_dom_classes": [],
      "_model_module": "@jupyter-widgets/controls",
      "_model_module_version": "1.5.0",
      "_model_name": "HTMLModel",
      "_view_count": null,
      "_view_module": "@jupyter-widgets/controls",
      "_view_module_version": "1.5.0",
      "_view_name": "HTMLView",
      "description": "",
      "description_tooltip": null,
      "layout": "IPY_MODEL_7fdf97895014474685f0e441b0395cc7",
      "placeholder": "​",
      "style": "IPY_MODEL_68f588f40b64452fb46089b10d621eb3",
      "value": " 0/1 [19:56&lt;?, ?it/s]"
     }
    },
    "1a53f5a4470e4625aafdc32d4afa773d": {
     "model_module": "@jupyter-widgets/base",
     "model_module_version": "1.2.0",
     "model_name": "LayoutModel",
     "state": {
      "_model_module": "@jupyter-widgets/base",
      "_model_module_version": "1.2.0",
      "_model_name": "LayoutModel",
      "_view_count": null,
      "_view_module": "@jupyter-widgets/base",
      "_view_module_version": "1.2.0",
      "_view_name": "LayoutView",
      "align_content": null,
      "align_items": null,
      "align_self": null,
      "border": null,
      "bottom": null,
      "display": null,
      "flex": null,
      "flex_flow": null,
      "grid_area": null,
      "grid_auto_columns": null,
      "grid_auto_flow": null,
      "grid_auto_rows": null,
      "grid_column": null,
      "grid_gap": null,
      "grid_row": null,
      "grid_template_areas": null,
      "grid_template_columns": null,
      "grid_template_rows": null,
      "height": null,
      "justify_content": null,
      "justify_items": null,
      "left": null,
      "margin": null,
      "max_height": null,
      "max_width": null,
      "min_height": null,
      "min_width": null,
      "object_fit": null,
      "object_position": null,
      "order": null,
      "overflow": null,
      "overflow_x": null,
      "overflow_y": null,
      "padding": null,
      "right": null,
      "top": null,
      "visibility": null,
      "width": null
     }
    },
    "1a7a3a786bde4200b67369537416869e": {
     "model_module": "@jupyter-widgets/controls",
     "model_module_version": "1.5.0",
     "model_name": "ProgressStyleModel",
     "state": {
      "_model_module": "@jupyter-widgets/controls",
      "_model_module_version": "1.5.0",
      "_model_name": "ProgressStyleModel",
      "_view_count": null,
      "_view_module": "@jupyter-widgets/base",
      "_view_module_version": "1.2.0",
      "_view_name": "StyleView",
      "bar_color": null,
      "description_width": ""
     }
    },
    "1fc004fb053b44e1a864142e5b3e9d45": {
     "model_module": "@jupyter-widgets/controls",
     "model_module_version": "1.5.0",
     "model_name": "FloatProgressModel",
     "state": {
      "_dom_classes": [],
      "_model_module": "@jupyter-widgets/controls",
      "_model_module_version": "1.5.0",
      "_model_name": "FloatProgressModel",
      "_view_count": null,
      "_view_module": "@jupyter-widgets/controls",
      "_view_module_version": "1.5.0",
      "_view_name": "ProgressView",
      "bar_style": "success",
      "description": "",
      "description_tooltip": null,
      "layout": "IPY_MODEL_70c63422894644c4b6f692324ff9abf5",
      "max": 15,
      "min": 0,
      "orientation": "horizontal",
      "style": "IPY_MODEL_e17bbaf31f9a4e538902c58ef7e227e9",
      "value": 15
     }
    },
    "4b1f6a28b4ae4f04be66369bd78acc12": {
     "model_module": "@jupyter-widgets/controls",
     "model_module_version": "1.5.0",
     "model_name": "HTMLModel",
     "state": {
      "_dom_classes": [],
      "_model_module": "@jupyter-widgets/controls",
      "_model_module_version": "1.5.0",
      "_model_name": "HTMLModel",
      "_view_count": null,
      "_view_module": "@jupyter-widgets/controls",
      "_view_module_version": "1.5.0",
      "_view_name": "HTMLView",
      "description": "",
      "description_tooltip": null,
      "layout": "IPY_MODEL_bf8c000e75db42e28c346a4d4e05e276",
      "placeholder": "​",
      "style": "IPY_MODEL_eaa2ca71823149d1b0136163c10750c3",
      "value": " 15/15 [00:06&lt;00:00,  3.66it/s, loss=0.000373]"
     }
    },
    "5cbe3df155cb45a19d83f82feac4ee5e": {
     "model_module": "@jupyter-widgets/controls",
     "model_module_version": "1.5.0",
     "model_name": "ProgressStyleModel",
     "state": {
      "_model_module": "@jupyter-widgets/controls",
      "_model_module_version": "1.5.0",
      "_model_name": "ProgressStyleModel",
      "_view_count": null,
      "_view_module": "@jupyter-widgets/base",
      "_view_module_version": "1.2.0",
      "_view_name": "StyleView",
      "bar_color": null,
      "description_width": ""
     }
    },
    "601187ff82424b7cac5c1e25b161836c": {
     "model_module": "@jupyter-widgets/base",
     "model_module_version": "1.2.0",
     "model_name": "LayoutModel",
     "state": {
      "_model_module": "@jupyter-widgets/base",
      "_model_module_version": "1.2.0",
      "_model_name": "LayoutModel",
      "_view_count": null,
      "_view_module": "@jupyter-widgets/base",
      "_view_module_version": "1.2.0",
      "_view_name": "LayoutView",
      "align_content": null,
      "align_items": null,
      "align_self": null,
      "border": null,
      "bottom": null,
      "display": null,
      "flex": null,
      "flex_flow": null,
      "grid_area": null,
      "grid_auto_columns": null,
      "grid_auto_flow": null,
      "grid_auto_rows": null,
      "grid_column": null,
      "grid_gap": null,
      "grid_row": null,
      "grid_template_areas": null,
      "grid_template_columns": null,
      "grid_template_rows": null,
      "height": null,
      "justify_content": null,
      "justify_items": null,
      "left": null,
      "margin": null,
      "max_height": null,
      "max_width": null,
      "min_height": null,
      "min_width": null,
      "object_fit": null,
      "object_position": null,
      "order": null,
      "overflow": null,
      "overflow_x": null,
      "overflow_y": null,
      "padding": null,
      "right": null,
      "top": null,
      "visibility": null,
      "width": null
     }
    },
    "68f588f40b64452fb46089b10d621eb3": {
     "model_module": "@jupyter-widgets/controls",
     "model_module_version": "1.5.0",
     "model_name": "DescriptionStyleModel",
     "state": {
      "_model_module": "@jupyter-widgets/controls",
      "_model_module_version": "1.5.0",
      "_model_name": "DescriptionStyleModel",
      "_view_count": null,
      "_view_module": "@jupyter-widgets/base",
      "_view_module_version": "1.2.0",
      "_view_name": "StyleView",
      "description_width": ""
     }
    },
    "70c63422894644c4b6f692324ff9abf5": {
     "model_module": "@jupyter-widgets/base",
     "model_module_version": "1.2.0",
     "model_name": "LayoutModel",
     "state": {
      "_model_module": "@jupyter-widgets/base",
      "_model_module_version": "1.2.0",
      "_model_name": "LayoutModel",
      "_view_count": null,
      "_view_module": "@jupyter-widgets/base",
      "_view_module_version": "1.2.0",
      "_view_name": "LayoutView",
      "align_content": null,
      "align_items": null,
      "align_self": null,
      "border": null,
      "bottom": null,
      "display": null,
      "flex": null,
      "flex_flow": null,
      "grid_area": null,
      "grid_auto_columns": null,
      "grid_auto_flow": null,
      "grid_auto_rows": null,
      "grid_column": null,
      "grid_gap": null,
      "grid_row": null,
      "grid_template_areas": null,
      "grid_template_columns": null,
      "grid_template_rows": null,
      "height": null,
      "justify_content": null,
      "justify_items": null,
      "left": null,
      "margin": null,
      "max_height": null,
      "max_width": null,
      "min_height": null,
      "min_width": null,
      "object_fit": null,
      "object_position": null,
      "order": null,
      "overflow": null,
      "overflow_x": null,
      "overflow_y": null,
      "padding": null,
      "right": null,
      "top": null,
      "visibility": null,
      "width": null
     }
    },
    "7c814ba72ef541f2a12b3c16a01b9d1b": {
     "model_module": "@jupyter-widgets/base",
     "model_module_version": "1.2.0",
     "model_name": "LayoutModel",
     "state": {
      "_model_module": "@jupyter-widgets/base",
      "_model_module_version": "1.2.0",
      "_model_name": "LayoutModel",
      "_view_count": null,
      "_view_module": "@jupyter-widgets/base",
      "_view_module_version": "1.2.0",
      "_view_name": "LayoutView",
      "align_content": null,
      "align_items": null,
      "align_self": null,
      "border": null,
      "bottom": null,
      "display": null,
      "flex": null,
      "flex_flow": null,
      "grid_area": null,
      "grid_auto_columns": null,
      "grid_auto_flow": null,
      "grid_auto_rows": null,
      "grid_column": null,
      "grid_gap": null,
      "grid_row": null,
      "grid_template_areas": null,
      "grid_template_columns": null,
      "grid_template_rows": null,
      "height": null,
      "justify_content": null,
      "justify_items": null,
      "left": null,
      "margin": null,
      "max_height": null,
      "max_width": null,
      "min_height": null,
      "min_width": null,
      "object_fit": null,
      "object_position": null,
      "order": null,
      "overflow": null,
      "overflow_x": null,
      "overflow_y": null,
      "padding": null,
      "right": null,
      "top": null,
      "visibility": null,
      "width": null
     }
    },
    "7f6ca7244c4741c2939d31ab4250aa3d": {
     "model_module": "@jupyter-widgets/controls",
     "model_module_version": "1.5.0",
     "model_name": "HBoxModel",
     "state": {
      "_dom_classes": [],
      "_model_module": "@jupyter-widgets/controls",
      "_model_module_version": "1.5.0",
      "_model_name": "HBoxModel",
      "_view_count": null,
      "_view_module": "@jupyter-widgets/controls",
      "_view_module_version": "1.5.0",
      "_view_name": "HBoxView",
      "box_style": "",
      "children": [
       "IPY_MODEL_b753c7afad6f4ebdb2ba003b4092a671",
       "IPY_MODEL_dd7d621bb172449496f0c05bd4d015e4",
       "IPY_MODEL_19a136fdee0b4b55a63e8ee3bc2169f2"
      ],
      "layout": "IPY_MODEL_f8a7f80741b84ca4a7448b3961e278aa"
     }
    },
    "7fdf97895014474685f0e441b0395cc7": {
     "model_module": "@jupyter-widgets/base",
     "model_module_version": "1.2.0",
     "model_name": "LayoutModel",
     "state": {
      "_model_module": "@jupyter-widgets/base",
      "_model_module_version": "1.2.0",
      "_model_name": "LayoutModel",
      "_view_count": null,
      "_view_module": "@jupyter-widgets/base",
      "_view_module_version": "1.2.0",
      "_view_name": "LayoutView",
      "align_content": null,
      "align_items": null,
      "align_self": null,
      "border": null,
      "bottom": null,
      "display": null,
      "flex": null,
      "flex_flow": null,
      "grid_area": null,
      "grid_auto_columns": null,
      "grid_auto_flow": null,
      "grid_auto_rows": null,
      "grid_column": null,
      "grid_gap": null,
      "grid_row": null,
      "grid_template_areas": null,
      "grid_template_columns": null,
      "grid_template_rows": null,
      "height": null,
      "justify_content": null,
      "justify_items": null,
      "left": null,
      "margin": null,
      "max_height": null,
      "max_width": null,
      "min_height": null,
      "min_width": null,
      "object_fit": null,
      "object_position": null,
      "order": null,
      "overflow": null,
      "overflow_x": null,
      "overflow_y": null,
      "padding": null,
      "right": null,
      "top": null,
      "visibility": null,
      "width": null
     }
    },
    "82235ecd0ac74ff89e26acb8a8ddbb40": {
     "model_module": "@jupyter-widgets/controls",
     "model_module_version": "1.5.0",
     "model_name": "HTMLModel",
     "state": {
      "_dom_classes": [],
      "_model_module": "@jupyter-widgets/controls",
      "_model_module_version": "1.5.0",
      "_model_name": "HTMLModel",
      "_view_count": null,
      "_view_module": "@jupyter-widgets/controls",
      "_view_module_version": "1.5.0",
      "_view_name": "HTMLView",
      "description": "",
      "description_tooltip": null,
      "layout": "IPY_MODEL_601187ff82424b7cac5c1e25b161836c",
      "placeholder": "​",
      "style": "IPY_MODEL_9b953497879648d884713cffb42cbff6",
      "value": "100%"
     }
    },
    "93239b2a423d47f2acccb5c8d421d4f5": {
     "model_module": "@jupyter-widgets/base",
     "model_module_version": "1.2.0",
     "model_name": "LayoutModel",
     "state": {
      "_model_module": "@jupyter-widgets/base",
      "_model_module_version": "1.2.0",
      "_model_name": "LayoutModel",
      "_view_count": null,
      "_view_module": "@jupyter-widgets/base",
      "_view_module_version": "1.2.0",
      "_view_name": "LayoutView",
      "align_content": null,
      "align_items": null,
      "align_self": null,
      "border": null,
      "bottom": null,
      "display": null,
      "flex": null,
      "flex_flow": null,
      "grid_area": null,
      "grid_auto_columns": null,
      "grid_auto_flow": null,
      "grid_auto_rows": null,
      "grid_column": null,
      "grid_gap": null,
      "grid_row": null,
      "grid_template_areas": null,
      "grid_template_columns": null,
      "grid_template_rows": null,
      "height": null,
      "justify_content": null,
      "justify_items": null,
      "left": null,
      "margin": null,
      "max_height": null,
      "max_width": null,
      "min_height": null,
      "min_width": null,
      "object_fit": null,
      "object_position": null,
      "order": null,
      "overflow": null,
      "overflow_x": null,
      "overflow_y": null,
      "padding": null,
      "right": null,
      "top": null,
      "visibility": null,
      "width": null
     }
    },
    "9b953497879648d884713cffb42cbff6": {
     "model_module": "@jupyter-widgets/controls",
     "model_module_version": "1.5.0",
     "model_name": "DescriptionStyleModel",
     "state": {
      "_model_module": "@jupyter-widgets/controls",
      "_model_module_version": "1.5.0",
      "_model_name": "DescriptionStyleModel",
      "_view_count": null,
      "_view_module": "@jupyter-widgets/base",
      "_view_module_version": "1.2.0",
      "_view_name": "StyleView",
      "description_width": ""
     }
    },
    "9d1d83535b4444f98c9acd1b6207f77c": {
     "model_module": "@jupyter-widgets/base",
     "model_module_version": "1.2.0",
     "model_name": "LayoutModel",
     "state": {
      "_model_module": "@jupyter-widgets/base",
      "_model_module_version": "1.2.0",
      "_model_name": "LayoutModel",
      "_view_count": null,
      "_view_module": "@jupyter-widgets/base",
      "_view_module_version": "1.2.0",
      "_view_name": "LayoutView",
      "align_content": null,
      "align_items": null,
      "align_self": null,
      "border": null,
      "bottom": null,
      "display": null,
      "flex": null,
      "flex_flow": null,
      "grid_area": null,
      "grid_auto_columns": null,
      "grid_auto_flow": null,
      "grid_auto_rows": null,
      "grid_column": null,
      "grid_gap": null,
      "grid_row": null,
      "grid_template_areas": null,
      "grid_template_columns": null,
      "grid_template_rows": null,
      "height": null,
      "justify_content": null,
      "justify_items": null,
      "left": null,
      "margin": null,
      "max_height": null,
      "max_width": null,
      "min_height": null,
      "min_width": null,
      "object_fit": null,
      "object_position": null,
      "order": null,
      "overflow": null,
      "overflow_x": null,
      "overflow_y": null,
      "padding": null,
      "right": null,
      "top": null,
      "visibility": null,
      "width": null
     }
    },
    "b73735b5ccff4688a92335b4a00056af": {
     "model_module": "@jupyter-widgets/controls",
     "model_module_version": "1.5.0",
     "model_name": "HBoxModel",
     "state": {
      "_dom_classes": [],
      "_model_module": "@jupyter-widgets/controls",
      "_model_module_version": "1.5.0",
      "_model_name": "HBoxModel",
      "_view_count": null,
      "_view_module": "@jupyter-widgets/controls",
      "_view_module_version": "1.5.0",
      "_view_name": "HBoxView",
      "box_style": "",
      "children": [
       "IPY_MODEL_d8a7b6e6f65d467e8ec932edcbf71766",
       "IPY_MODEL_d3c5f72dd03640daab1a15958ea60cfb",
       "IPY_MODEL_bb9ce4704de64f67a440dcdb335f73b9"
      ],
      "layout": "IPY_MODEL_9d1d83535b4444f98c9acd1b6207f77c"
     }
    },
    "b753c7afad6f4ebdb2ba003b4092a671": {
     "model_module": "@jupyter-widgets/controls",
     "model_module_version": "1.5.0",
     "model_name": "HTMLModel",
     "state": {
      "_dom_classes": [],
      "_model_module": "@jupyter-widgets/controls",
      "_model_module_version": "1.5.0",
      "_model_name": "HTMLModel",
      "_view_count": null,
      "_view_module": "@jupyter-widgets/controls",
      "_view_module_version": "1.5.0",
      "_view_name": "HTMLView",
      "description": "",
      "description_tooltip": null,
      "layout": "IPY_MODEL_93239b2a423d47f2acccb5c8d421d4f5",
      "placeholder": "​",
      "style": "IPY_MODEL_06d8bb4ad65341738c9e132f6b0c8ce3",
      "value": "  0%"
     }
    },
    "baa80372437d47b0a7fdc7ca8e5fc1c5": {
     "model_module": "@jupyter-widgets/controls",
     "model_module_version": "1.5.0",
     "model_name": "HBoxModel",
     "state": {
      "_dom_classes": [],
      "_model_module": "@jupyter-widgets/controls",
      "_model_module_version": "1.5.0",
      "_model_name": "HBoxModel",
      "_view_count": null,
      "_view_module": "@jupyter-widgets/controls",
      "_view_module_version": "1.5.0",
      "_view_name": "HBoxView",
      "box_style": "",
      "children": [
       "IPY_MODEL_82235ecd0ac74ff89e26acb8a8ddbb40",
       "IPY_MODEL_1fc004fb053b44e1a864142e5b3e9d45",
       "IPY_MODEL_4b1f6a28b4ae4f04be66369bd78acc12"
      ],
      "layout": "IPY_MODEL_0580aae22c2f434e8510e9b7fef152bf"
     }
    },
    "bb9ce4704de64f67a440dcdb335f73b9": {
     "model_module": "@jupyter-widgets/controls",
     "model_module_version": "1.5.0",
     "model_name": "HTMLModel",
     "state": {
      "_dom_classes": [],
      "_model_module": "@jupyter-widgets/controls",
      "_model_module_version": "1.5.0",
      "_model_name": "HTMLModel",
      "_view_count": null,
      "_view_module": "@jupyter-widgets/controls",
      "_view_module_version": "1.5.0",
      "_view_name": "HTMLView",
      "description": "",
      "description_tooltip": null,
      "layout": "IPY_MODEL_1a53f5a4470e4625aafdc32d4afa773d",
      "placeholder": "​",
      "style": "IPY_MODEL_150536bb9c2541c18078ccfa1b0ddadb",
      "value": " 0/1 [19:56&lt;?, ?it/s]"
     }
    },
    "bf8c000e75db42e28c346a4d4e05e276": {
     "model_module": "@jupyter-widgets/base",
     "model_module_version": "1.2.0",
     "model_name": "LayoutModel",
     "state": {
      "_model_module": "@jupyter-widgets/base",
      "_model_module_version": "1.2.0",
      "_model_name": "LayoutModel",
      "_view_count": null,
      "_view_module": "@jupyter-widgets/base",
      "_view_module_version": "1.2.0",
      "_view_name": "LayoutView",
      "align_content": null,
      "align_items": null,
      "align_self": null,
      "border": null,
      "bottom": null,
      "display": null,
      "flex": null,
      "flex_flow": null,
      "grid_area": null,
      "grid_auto_columns": null,
      "grid_auto_flow": null,
      "grid_auto_rows": null,
      "grid_column": null,
      "grid_gap": null,
      "grid_row": null,
      "grid_template_areas": null,
      "grid_template_columns": null,
      "grid_template_rows": null,
      "height": null,
      "justify_content": null,
      "justify_items": null,
      "left": null,
      "margin": null,
      "max_height": null,
      "max_width": null,
      "min_height": null,
      "min_width": null,
      "object_fit": null,
      "object_position": null,
      "order": null,
      "overflow": null,
      "overflow_x": null,
      "overflow_y": null,
      "padding": null,
      "right": null,
      "top": null,
      "visibility": null,
      "width": null
     }
    },
    "d3c5f72dd03640daab1a15958ea60cfb": {
     "model_module": "@jupyter-widgets/controls",
     "model_module_version": "1.5.0",
     "model_name": "FloatProgressModel",
     "state": {
      "_dom_classes": [],
      "_model_module": "@jupyter-widgets/controls",
      "_model_module_version": "1.5.0",
      "_model_name": "FloatProgressModel",
      "_view_count": null,
      "_view_module": "@jupyter-widgets/controls",
      "_view_module_version": "1.5.0",
      "_view_name": "ProgressView",
      "bar_style": "danger",
      "description": "",
      "description_tooltip": null,
      "layout": "IPY_MODEL_e7072528e67647eda3ed0bb0fbd7d296",
      "max": 1,
      "min": 0,
      "orientation": "horizontal",
      "style": "IPY_MODEL_1a7a3a786bde4200b67369537416869e",
      "value": 0
     }
    },
    "d8a7b6e6f65d467e8ec932edcbf71766": {
     "model_module": "@jupyter-widgets/controls",
     "model_module_version": "1.5.0",
     "model_name": "HTMLModel",
     "state": {
      "_dom_classes": [],
      "_model_module": "@jupyter-widgets/controls",
      "_model_module_version": "1.5.0",
      "_model_name": "HTMLModel",
      "_view_count": null,
      "_view_module": "@jupyter-widgets/controls",
      "_view_module_version": "1.5.0",
      "_view_name": "HTMLView",
      "description": "",
      "description_tooltip": null,
      "layout": "IPY_MODEL_7c814ba72ef541f2a12b3c16a01b9d1b",
      "placeholder": "​",
      "style": "IPY_MODEL_12925a468fc040d8a637cbb51d2b733e",
      "value": "  0%"
     }
    },
    "dd7d621bb172449496f0c05bd4d015e4": {
     "model_module": "@jupyter-widgets/controls",
     "model_module_version": "1.5.0",
     "model_name": "FloatProgressModel",
     "state": {
      "_dom_classes": [],
      "_model_module": "@jupyter-widgets/controls",
      "_model_module_version": "1.5.0",
      "_model_name": "FloatProgressModel",
      "_view_count": null,
      "_view_module": "@jupyter-widgets/controls",
      "_view_module_version": "1.5.0",
      "_view_name": "ProgressView",
      "bar_style": "danger",
      "description": "",
      "description_tooltip": null,
      "layout": "IPY_MODEL_f9bc8a144ae947a18aa40211088aff01",
      "max": 1,
      "min": 0,
      "orientation": "horizontal",
      "style": "IPY_MODEL_5cbe3df155cb45a19d83f82feac4ee5e",
      "value": 0
     }
    },
    "e17bbaf31f9a4e538902c58ef7e227e9": {
     "model_module": "@jupyter-widgets/controls",
     "model_module_version": "1.5.0",
     "model_name": "ProgressStyleModel",
     "state": {
      "_model_module": "@jupyter-widgets/controls",
      "_model_module_version": "1.5.0",
      "_model_name": "ProgressStyleModel",
      "_view_count": null,
      "_view_module": "@jupyter-widgets/base",
      "_view_module_version": "1.2.0",
      "_view_name": "StyleView",
      "bar_color": null,
      "description_width": ""
     }
    },
    "e7072528e67647eda3ed0bb0fbd7d296": {
     "model_module": "@jupyter-widgets/base",
     "model_module_version": "1.2.0",
     "model_name": "LayoutModel",
     "state": {
      "_model_module": "@jupyter-widgets/base",
      "_model_module_version": "1.2.0",
      "_model_name": "LayoutModel",
      "_view_count": null,
      "_view_module": "@jupyter-widgets/base",
      "_view_module_version": "1.2.0",
      "_view_name": "LayoutView",
      "align_content": null,
      "align_items": null,
      "align_self": null,
      "border": null,
      "bottom": null,
      "display": null,
      "flex": null,
      "flex_flow": null,
      "grid_area": null,
      "grid_auto_columns": null,
      "grid_auto_flow": null,
      "grid_auto_rows": null,
      "grid_column": null,
      "grid_gap": null,
      "grid_row": null,
      "grid_template_areas": null,
      "grid_template_columns": null,
      "grid_template_rows": null,
      "height": null,
      "justify_content": null,
      "justify_items": null,
      "left": null,
      "margin": null,
      "max_height": null,
      "max_width": null,
      "min_height": null,
      "min_width": null,
      "object_fit": null,
      "object_position": null,
      "order": null,
      "overflow": null,
      "overflow_x": null,
      "overflow_y": null,
      "padding": null,
      "right": null,
      "top": null,
      "visibility": null,
      "width": null
     }
    },
    "eaa2ca71823149d1b0136163c10750c3": {
     "model_module": "@jupyter-widgets/controls",
     "model_module_version": "1.5.0",
     "model_name": "DescriptionStyleModel",
     "state": {
      "_model_module": "@jupyter-widgets/controls",
      "_model_module_version": "1.5.0",
      "_model_name": "DescriptionStyleModel",
      "_view_count": null,
      "_view_module": "@jupyter-widgets/base",
      "_view_module_version": "1.2.0",
      "_view_name": "StyleView",
      "description_width": ""
     }
    },
    "f8a7f80741b84ca4a7448b3961e278aa": {
     "model_module": "@jupyter-widgets/base",
     "model_module_version": "1.2.0",
     "model_name": "LayoutModel",
     "state": {
      "_model_module": "@jupyter-widgets/base",
      "_model_module_version": "1.2.0",
      "_model_name": "LayoutModel",
      "_view_count": null,
      "_view_module": "@jupyter-widgets/base",
      "_view_module_version": "1.2.0",
      "_view_name": "LayoutView",
      "align_content": null,
      "align_items": null,
      "align_self": null,
      "border": null,
      "bottom": null,
      "display": null,
      "flex": null,
      "flex_flow": null,
      "grid_area": null,
      "grid_auto_columns": null,
      "grid_auto_flow": null,
      "grid_auto_rows": null,
      "grid_column": null,
      "grid_gap": null,
      "grid_row": null,
      "grid_template_areas": null,
      "grid_template_columns": null,
      "grid_template_rows": null,
      "height": null,
      "justify_content": null,
      "justify_items": null,
      "left": null,
      "margin": null,
      "max_height": null,
      "max_width": null,
      "min_height": null,
      "min_width": null,
      "object_fit": null,
      "object_position": null,
      "order": null,
      "overflow": null,
      "overflow_x": null,
      "overflow_y": null,
      "padding": null,
      "right": null,
      "top": null,
      "visibility": null,
      "width": null
     }
    },
    "f9bc8a144ae947a18aa40211088aff01": {
     "model_module": "@jupyter-widgets/base",
     "model_module_version": "1.2.0",
     "model_name": "LayoutModel",
     "state": {
      "_model_module": "@jupyter-widgets/base",
      "_model_module_version": "1.2.0",
      "_model_name": "LayoutModel",
      "_view_count": null,
      "_view_module": "@jupyter-widgets/base",
      "_view_module_version": "1.2.0",
      "_view_name": "LayoutView",
      "align_content": null,
      "align_items": null,
      "align_self": null,
      "border": null,
      "bottom": null,
      "display": null,
      "flex": null,
      "flex_flow": null,
      "grid_area": null,
      "grid_auto_columns": null,
      "grid_auto_flow": null,
      "grid_auto_rows": null,
      "grid_column": null,
      "grid_gap": null,
      "grid_row": null,
      "grid_template_areas": null,
      "grid_template_columns": null,
      "grid_template_rows": null,
      "height": null,
      "justify_content": null,
      "justify_items": null,
      "left": null,
      "margin": null,
      "max_height": null,
      "max_width": null,
      "min_height": null,
      "min_width": null,
      "object_fit": null,
      "object_position": null,
      "order": null,
      "overflow": null,
      "overflow_x": null,
      "overflow_y": null,
      "padding": null,
      "right": null,
      "top": null,
      "visibility": null,
      "width": null
     }
    }
   }
  }
 },
 "nbformat": 4,
 "nbformat_minor": 5
}
