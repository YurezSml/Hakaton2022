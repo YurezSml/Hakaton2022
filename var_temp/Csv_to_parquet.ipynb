{
 "cells": [
  {
   "cell_type": "code",
   "execution_count": 1,
   "id": "fdb75005",
   "metadata": {},
   "outputs": [],
   "source": [
    "import pandas as pd"
   ]
  },
  {
   "cell_type": "code",
   "execution_count": 17,
   "id": "da145200",
   "metadata": {},
   "outputs": [
    {
     "data": {
      "text/html": [
       "<div>\n",
       "<style scoped>\n",
       "    .dataframe tbody tr th:only-of-type {\n",
       "        vertical-align: middle;\n",
       "    }\n",
       "\n",
       "    .dataframe tbody tr th {\n",
       "        vertical-align: top;\n",
       "    }\n",
       "\n",
       "    .dataframe thead th {\n",
       "        text-align: right;\n",
       "    }\n",
       "</style>\n",
       "<table border=\"1\" class=\"dataframe\">\n",
       "  <thead>\n",
       "    <tr style=\"text-align: right;\">\n",
       "      <th></th>\n",
       "      <th>cookie_id</th>\n",
       "      <th>predictions</th>\n",
       "    </tr>\n",
       "  </thead>\n",
       "  <tbody>\n",
       "    <tr>\n",
       "      <th>0</th>\n",
       "      <td>0018914ba3e54011b28fa715583d3354</td>\n",
       "      <td>[138634, 190928, 209422, 153970, 117525]</td>\n",
       "    </tr>\n",
       "    <tr>\n",
       "      <th>1</th>\n",
       "      <td>0035c298d8c64f368ae730a9cca9bb20</td>\n",
       "      <td>[193331, 164588, 207156, 212325, 149024]</td>\n",
       "    </tr>\n",
       "    <tr>\n",
       "      <th>2</th>\n",
       "      <td>00956458877448ec9fba87fb97443fdf</td>\n",
       "      <td>[171332, 154356, 217683, 116900, 256132]</td>\n",
       "    </tr>\n",
       "    <tr>\n",
       "      <th>3</th>\n",
       "      <td>0099387c921b41e7bae6c99dd8254b60</td>\n",
       "      <td>[103881, 246509, 153970, 144097, 173337]</td>\n",
       "    </tr>\n",
       "    <tr>\n",
       "      <th>4</th>\n",
       "      <td>009f65e8ae99413a8da94a491320580a</td>\n",
       "      <td>[138634, 181745, 153970, 137702, 154411]</td>\n",
       "    </tr>\n",
       "    <tr>\n",
       "      <th>...</th>\n",
       "      <td>...</td>\n",
       "      <td>...</td>\n",
       "    </tr>\n",
       "    <tr>\n",
       "      <th>3081</th>\n",
       "      <td>ffadd195859444d2ade2479b0611c5c1</td>\n",
       "      <td>[158242, 207423, 217683, 105907, 108242]</td>\n",
       "    </tr>\n",
       "    <tr>\n",
       "      <th>3082</th>\n",
       "      <td>ffbc08b528c64f22996873fc63872202</td>\n",
       "      <td>[181745, 203404, 154411, 244077, 115977]</td>\n",
       "    </tr>\n",
       "    <tr>\n",
       "      <th>3083</th>\n",
       "      <td>ffdeaf3c34544529880aebf17c103f6c</td>\n",
       "      <td>[230707, 240744, 115977, 207423, 237341]</td>\n",
       "    </tr>\n",
       "    <tr>\n",
       "      <th>3084</th>\n",
       "      <td>ffefa79a74804ee69e6c131e0d05b948</td>\n",
       "      <td>[220718, 253678, 246509, 101462, 246285]</td>\n",
       "    </tr>\n",
       "    <tr>\n",
       "      <th>3085</th>\n",
       "      <td>fff0c04c0cd54c67bb5fd79ae7b1145b</td>\n",
       "      <td>[159495, 115589, 163708, 156861, 210229]</td>\n",
       "    </tr>\n",
       "  </tbody>\n",
       "</table>\n",
       "<p>3086 rows × 2 columns</p>\n",
       "</div>"
      ],
      "text/plain": [
       "                             cookie_id  \\\n",
       "0     0018914ba3e54011b28fa715583d3354   \n",
       "1     0035c298d8c64f368ae730a9cca9bb20   \n",
       "2     00956458877448ec9fba87fb97443fdf   \n",
       "3     0099387c921b41e7bae6c99dd8254b60   \n",
       "4     009f65e8ae99413a8da94a491320580a   \n",
       "...                                ...   \n",
       "3081  ffadd195859444d2ade2479b0611c5c1   \n",
       "3082  ffbc08b528c64f22996873fc63872202   \n",
       "3083  ffdeaf3c34544529880aebf17c103f6c   \n",
       "3084  ffefa79a74804ee69e6c131e0d05b948   \n",
       "3085  fff0c04c0cd54c67bb5fd79ae7b1145b   \n",
       "\n",
       "                                   predictions  \n",
       "0     [138634, 190928, 209422, 153970, 117525]  \n",
       "1     [193331, 164588, 207156, 212325, 149024]  \n",
       "2     [171332, 154356, 217683, 116900, 256132]  \n",
       "3     [103881, 246509, 153970, 144097, 173337]  \n",
       "4     [138634, 181745, 153970, 137702, 154411]  \n",
       "...                                        ...  \n",
       "3081  [158242, 207423, 217683, 105907, 108242]  \n",
       "3082  [181745, 203404, 154411, 244077, 115977]  \n",
       "3083  [230707, 240744, 115977, 207423, 237341]  \n",
       "3084  [220718, 253678, 246509, 101462, 246285]  \n",
       "3085  [159495, 115589, 163708, 156861, 210229]  \n",
       "\n",
       "[3086 rows x 2 columns]"
      ]
     },
     "execution_count": 17,
     "metadata": {},
     "output_type": "execute_result"
    }
   ],
   "source": [
    "# Загружаем датасет\n",
    "\n",
    "df_1 = pd.read_csv(\"result.csv\", converters={\"predictions\": lambda x: x.strip(\"[]\").split(\", \")})\n",
    "df_1"
   ]
  },
  {
   "cell_type": "code",
   "execution_count": 18,
   "id": "1348ed9c",
   "metadata": {},
   "outputs": [],
   "source": [
    "def convert_pred_to_int(pred_list):\n",
    "    return [int(x) for x in pred_list]"
   ]
  },
  {
   "cell_type": "code",
   "execution_count": 19,
   "id": "a23de3b6",
   "metadata": {},
   "outputs": [],
   "source": [
    "df_1['predictions'] = df_1['predictions'].apply(convert_pred_to_int)"
   ]
  },
  {
   "cell_type": "code",
   "execution_count": 20,
   "id": "3bceb585",
   "metadata": {},
   "outputs": [],
   "source": [
    "# Сохраняем дополненные датасеты\n",
    "\n",
    "df_1.to_parquet(\"test_private_sample_submission_mfti_old.parquet\", compression='BROTLI')"
   ]
  },
  {
   "cell_type": "code",
   "execution_count": 21,
   "id": "27b8a3da",
   "metadata": {},
   "outputs": [
    {
     "data": {
      "text/html": [
       "<div>\n",
       "<style scoped>\n",
       "    .dataframe tbody tr th:only-of-type {\n",
       "        vertical-align: middle;\n",
       "    }\n",
       "\n",
       "    .dataframe tbody tr th {\n",
       "        vertical-align: top;\n",
       "    }\n",
       "\n",
       "    .dataframe thead th {\n",
       "        text-align: right;\n",
       "    }\n",
       "</style>\n",
       "<table border=\"1\" class=\"dataframe\">\n",
       "  <thead>\n",
       "    <tr style=\"text-align: right;\">\n",
       "      <th></th>\n",
       "      <th>cookie_id</th>\n",
       "      <th>predictions</th>\n",
       "    </tr>\n",
       "  </thead>\n",
       "  <tbody>\n",
       "    <tr>\n",
       "      <th>0</th>\n",
       "      <td>0018914ba3e54011b28fa715583d3354</td>\n",
       "      <td>[138634, 190928, 209422, 153970, 117525]</td>\n",
       "    </tr>\n",
       "    <tr>\n",
       "      <th>1</th>\n",
       "      <td>0035c298d8c64f368ae730a9cca9bb20</td>\n",
       "      <td>[193331, 164588, 207156, 212325, 149024]</td>\n",
       "    </tr>\n",
       "    <tr>\n",
       "      <th>2</th>\n",
       "      <td>00956458877448ec9fba87fb97443fdf</td>\n",
       "      <td>[171332, 154356, 217683, 116900, 256132]</td>\n",
       "    </tr>\n",
       "    <tr>\n",
       "      <th>3</th>\n",
       "      <td>0099387c921b41e7bae6c99dd8254b60</td>\n",
       "      <td>[103881, 246509, 153970, 144097, 173337]</td>\n",
       "    </tr>\n",
       "    <tr>\n",
       "      <th>4</th>\n",
       "      <td>009f65e8ae99413a8da94a491320580a</td>\n",
       "      <td>[138634, 181745, 153970, 137702, 154411]</td>\n",
       "    </tr>\n",
       "    <tr>\n",
       "      <th>...</th>\n",
       "      <td>...</td>\n",
       "      <td>...</td>\n",
       "    </tr>\n",
       "    <tr>\n",
       "      <th>3081</th>\n",
       "      <td>ffadd195859444d2ade2479b0611c5c1</td>\n",
       "      <td>[158242, 207423, 217683, 105907, 108242]</td>\n",
       "    </tr>\n",
       "    <tr>\n",
       "      <th>3082</th>\n",
       "      <td>ffbc08b528c64f22996873fc63872202</td>\n",
       "      <td>[181745, 203404, 154411, 244077, 115977]</td>\n",
       "    </tr>\n",
       "    <tr>\n",
       "      <th>3083</th>\n",
       "      <td>ffdeaf3c34544529880aebf17c103f6c</td>\n",
       "      <td>[230707, 240744, 115977, 207423, 237341]</td>\n",
       "    </tr>\n",
       "    <tr>\n",
       "      <th>3084</th>\n",
       "      <td>ffefa79a74804ee69e6c131e0d05b948</td>\n",
       "      <td>[220718, 253678, 246509, 101462, 246285]</td>\n",
       "    </tr>\n",
       "    <tr>\n",
       "      <th>3085</th>\n",
       "      <td>fff0c04c0cd54c67bb5fd79ae7b1145b</td>\n",
       "      <td>[159495, 115589, 163708, 156861, 210229]</td>\n",
       "    </tr>\n",
       "  </tbody>\n",
       "</table>\n",
       "<p>3086 rows × 2 columns</p>\n",
       "</div>"
      ],
      "text/plain": [
       "                             cookie_id  \\\n",
       "0     0018914ba3e54011b28fa715583d3354   \n",
       "1     0035c298d8c64f368ae730a9cca9bb20   \n",
       "2     00956458877448ec9fba87fb97443fdf   \n",
       "3     0099387c921b41e7bae6c99dd8254b60   \n",
       "4     009f65e8ae99413a8da94a491320580a   \n",
       "...                                ...   \n",
       "3081  ffadd195859444d2ade2479b0611c5c1   \n",
       "3082  ffbc08b528c64f22996873fc63872202   \n",
       "3083  ffdeaf3c34544529880aebf17c103f6c   \n",
       "3084  ffefa79a74804ee69e6c131e0d05b948   \n",
       "3085  fff0c04c0cd54c67bb5fd79ae7b1145b   \n",
       "\n",
       "                                   predictions  \n",
       "0     [138634, 190928, 209422, 153970, 117525]  \n",
       "1     [193331, 164588, 207156, 212325, 149024]  \n",
       "2     [171332, 154356, 217683, 116900, 256132]  \n",
       "3     [103881, 246509, 153970, 144097, 173337]  \n",
       "4     [138634, 181745, 153970, 137702, 154411]  \n",
       "...                                        ...  \n",
       "3081  [158242, 207423, 217683, 105907, 108242]  \n",
       "3082  [181745, 203404, 154411, 244077, 115977]  \n",
       "3083  [230707, 240744, 115977, 207423, 237341]  \n",
       "3084  [220718, 253678, 246509, 101462, 246285]  \n",
       "3085  [159495, 115589, 163708, 156861, 210229]  \n",
       "\n",
       "[3086 rows x 2 columns]"
      ]
     },
     "execution_count": 21,
     "metadata": {},
     "output_type": "execute_result"
    }
   ],
   "source": [
    "df = pd.read_parquet(\"test_private_sample_submission_mfti_old.parquet\")\n",
    "df"
   ]
  },
  {
   "cell_type": "code",
   "execution_count": 22,
   "id": "a30930b0",
   "metadata": {},
   "outputs": [
    {
     "data": {
      "text/plain": [
       "138634"
      ]
     },
     "execution_count": 22,
     "metadata": {},
     "output_type": "execute_result"
    }
   ],
   "source": [
    "df['predictions'][0][0]"
   ]
  },
  {
   "cell_type": "code",
   "execution_count": 23,
   "id": "724de053",
   "metadata": {},
   "outputs": [
    {
     "data": {
      "text/plain": [
       "138634"
      ]
     },
     "execution_count": 23,
     "metadata": {},
     "output_type": "execute_result"
    }
   ],
   "source": [
    "df_1['predictions'][0][0]"
   ]
  },
  {
   "cell_type": "code",
   "execution_count": null,
   "id": "d9b63bc6",
   "metadata": {},
   "outputs": [],
   "source": []
  }
 ],
 "metadata": {
  "kernelspec": {
   "display_name": "Python 3",
   "language": "python",
   "name": "python3"
  },
  "language_info": {
   "codemirror_mode": {
    "name": "ipython",
    "version": 3
   },
   "file_extension": ".py",
   "mimetype": "text/x-python",
   "name": "python",
   "nbconvert_exporter": "python",
   "pygments_lexer": "ipython3",
   "version": "3.9.16"
  }
 },
 "nbformat": 4,
 "nbformat_minor": 5
}
