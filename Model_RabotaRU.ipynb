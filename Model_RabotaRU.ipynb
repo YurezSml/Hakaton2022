{
 "cells": [
  {
   "cell_type": "code",
   "execution_count": 5,
   "id": "8d49194d",
   "metadata": {},
   "outputs": [],
   "source": [
    "import numpy as np\n",
    "import pandas as pd\n",
    "import matplotlib.pyplot as plt\n",
    "%matplotlib inline"
   ]
  },
  {
   "cell_type": "code",
   "execution_count": 6,
   "id": "a482a812",
   "metadata": {},
   "outputs": [],
   "source": [
    "from surprise import Dataset\n",
    "from surprise import Reader\n",
    "from surprise import SVD\n",
    "from surprise.model_selection import cross_validate"
   ]
  },
  {
   "cell_type": "markdown",
   "id": "3aa003de",
   "metadata": {},
   "source": [
    "**Загружаем датасет**"
   ]
  },
  {
   "cell_type": "code",
   "execution_count": 7,
   "id": "a77567f5",
   "metadata": {},
   "outputs": [
    {
     "data": {
      "text/html": [
       "<div>\n",
       "<style scoped>\n",
       "    .dataframe tbody tr th:only-of-type {\n",
       "        vertical-align: middle;\n",
       "    }\n",
       "\n",
       "    .dataframe tbody tr th {\n",
       "        vertical-align: top;\n",
       "    }\n",
       "\n",
       "    .dataframe thead th {\n",
       "        text-align: right;\n",
       "    }\n",
       "</style>\n",
       "<table border=\"1\" class=\"dataframe\">\n",
       "  <thead>\n",
       "    <tr style=\"text-align: right;\">\n",
       "      <th></th>\n",
       "      <th>cookie_id</th>\n",
       "      <th>vacancy_id_</th>\n",
       "      <th>rating</th>\n",
       "    </tr>\n",
       "  </thead>\n",
       "  <tbody>\n",
       "    <tr>\n",
       "      <th>0</th>\n",
       "      <td>0000c4548c3944c08972bbdc1fa4eb85</td>\n",
       "      <td>137659</td>\n",
       "      <td>0</td>\n",
       "    </tr>\n",
       "    <tr>\n",
       "      <th>1</th>\n",
       "      <td>0000c4548c3944c08972bbdc1fa4eb85</td>\n",
       "      <td>153975</td>\n",
       "      <td>0</td>\n",
       "    </tr>\n",
       "    <tr>\n",
       "      <th>2</th>\n",
       "      <td>0000c4548c3944c08972bbdc1fa4eb85</td>\n",
       "      <td>174953</td>\n",
       "      <td>0</td>\n",
       "    </tr>\n",
       "    <tr>\n",
       "      <th>3</th>\n",
       "      <td>0000c4548c3944c08972bbdc1fa4eb85</td>\n",
       "      <td>176171</td>\n",
       "      <td>0</td>\n",
       "    </tr>\n",
       "    <tr>\n",
       "      <th>4</th>\n",
       "      <td>0000c4548c3944c08972bbdc1fa4eb85</td>\n",
       "      <td>182445</td>\n",
       "      <td>0</td>\n",
       "    </tr>\n",
       "    <tr>\n",
       "      <th>...</th>\n",
       "      <td>...</td>\n",
       "      <td>...</td>\n",
       "      <td>...</td>\n",
       "    </tr>\n",
       "    <tr>\n",
       "      <th>4651701</th>\n",
       "      <td>ffffdb17f45b4032b386d691d52e6c00</td>\n",
       "      <td>107125</td>\n",
       "      <td>1</td>\n",
       "    </tr>\n",
       "    <tr>\n",
       "      <th>4651702</th>\n",
       "      <td>ffffdb17f45b4032b386d691d52e6c00</td>\n",
       "      <td>107893</td>\n",
       "      <td>1</td>\n",
       "    </tr>\n",
       "    <tr>\n",
       "      <th>4651703</th>\n",
       "      <td>ffffdb17f45b4032b386d691d52e6c00</td>\n",
       "      <td>150843</td>\n",
       "      <td>1</td>\n",
       "    </tr>\n",
       "    <tr>\n",
       "      <th>4651704</th>\n",
       "      <td>ffffdb17f45b4032b386d691d52e6c00</td>\n",
       "      <td>160164</td>\n",
       "      <td>1</td>\n",
       "    </tr>\n",
       "    <tr>\n",
       "      <th>4651705</th>\n",
       "      <td>ffffdb17f45b4032b386d691d52e6c00</td>\n",
       "      <td>185412</td>\n",
       "      <td>1</td>\n",
       "    </tr>\n",
       "  </tbody>\n",
       "</table>\n",
       "<p>4651706 rows × 3 columns</p>\n",
       "</div>"
      ],
      "text/plain": [
       "                                cookie_id  vacancy_id_  rating\n",
       "0        0000c4548c3944c08972bbdc1fa4eb85       137659       0\n",
       "1        0000c4548c3944c08972bbdc1fa4eb85       153975       0\n",
       "2        0000c4548c3944c08972bbdc1fa4eb85       174953       0\n",
       "3        0000c4548c3944c08972bbdc1fa4eb85       176171       0\n",
       "4        0000c4548c3944c08972bbdc1fa4eb85       182445       0\n",
       "...                                   ...          ...     ...\n",
       "4651701  ffffdb17f45b4032b386d691d52e6c00       107125       1\n",
       "4651702  ffffdb17f45b4032b386d691d52e6c00       107893       1\n",
       "4651703  ffffdb17f45b4032b386d691d52e6c00       150843       1\n",
       "4651704  ffffdb17f45b4032b386d691d52e6c00       160164       1\n",
       "4651705  ffffdb17f45b4032b386d691d52e6c00       185412       1\n",
       "\n",
       "[4651706 rows x 3 columns]"
      ]
     },
     "execution_count": 7,
     "metadata": {},
     "output_type": "execute_result"
    }
   ],
   "source": [
    "ratings_data = pd.read_csv('./rabota_test.csv')\n",
    "ratings_data"
   ]
  },
  {
   "cell_type": "code",
   "execution_count": 8,
   "id": "ccfdf23d",
   "metadata": {},
   "outputs": [],
   "source": [
    "reader = Reader(rating_scale=(1, 5))\n",
    "data = Dataset.load_from_df(ratings_data[['cookie_id', 'vacancy_id_', 'rating']], reader)"
   ]
  },
  {
   "cell_type": "markdown",
   "id": "26bf9c2b",
   "metadata": {},
   "source": [
    "**Обучаем модель**"
   ]
  },
  {
   "cell_type": "code",
   "execution_count": 9,
   "id": "91db6c5c",
   "metadata": {},
   "outputs": [
    {
     "name": "stdout",
     "output_type": "stream",
     "text": [
      "Processing epoch 0\n",
      "Processing epoch 1\n",
      "Processing epoch 2\n",
      "Processing epoch 3\n",
      "Processing epoch 4\n",
      "Processing epoch 5\n",
      "Processing epoch 6\n",
      "Processing epoch 7\n",
      "Processing epoch 8\n",
      "Processing epoch 9\n",
      "Processing epoch 0\n",
      "Processing epoch 1\n",
      "Processing epoch 2\n",
      "Processing epoch 3\n",
      "Processing epoch 4\n",
      "Processing epoch 5\n",
      "Processing epoch 6\n",
      "Processing epoch 7\n",
      "Processing epoch 8\n",
      "Processing epoch 9\n",
      "Processing epoch 0\n",
      "Processing epoch 1\n",
      "Processing epoch 2\n",
      "Processing epoch 3\n",
      "Processing epoch 4\n",
      "Processing epoch 5\n",
      "Processing epoch 6\n",
      "Processing epoch 7\n",
      "Processing epoch 8\n",
      "Processing epoch 9\n",
      "Evaluating RMSE, MAE of algorithm SVD on 3 split(s).\n",
      "\n",
      "                  Fold 1  Fold 2  Fold 3  Mean    Std     \n",
      "RMSE (testset)    1.0432  1.0398  1.0453  1.0428  0.0023  \n",
      "MAE (testset)     0.9105  0.9104  0.9114  0.9107  0.0004  \n",
      "Fit time          32.57   30.45   30.21   31.08   1.06    \n",
      "Test time         20.97   17.94   22.04   20.32   1.74    \n"
     ]
    },
    {
     "data": {
      "text/plain": [
       "{'test_rmse': array([1.04319032, 1.03977983, 1.04530311]),\n",
       " 'test_mae': array([0.91049776, 0.91037315, 0.91135305]),\n",
       " 'fit_time': (32.56586933135986, 30.454617500305176, 30.213212490081787),\n",
       " 'test_time': (20.97262406349182, 17.939523458480835, 22.04299283027649)}"
      ]
     },
     "execution_count": 9,
     "metadata": {},
     "output_type": "execute_result"
    }
   ],
   "source": [
    "svd = SVD(verbose=True, n_epochs=10)\n",
    "cross_validate(svd, data, measures=['RMSE', 'MAE'], cv=3, verbose=True)"
   ]
  },
  {
   "cell_type": "code",
   "execution_count": 10,
   "id": "b32b918d",
   "metadata": {},
   "outputs": [
    {
     "name": "stdout",
     "output_type": "stream",
     "text": [
      "Processing epoch 0\n",
      "Processing epoch 1\n",
      "Processing epoch 2\n",
      "Processing epoch 3\n",
      "Processing epoch 4\n",
      "Processing epoch 5\n",
      "Processing epoch 6\n",
      "Processing epoch 7\n",
      "Processing epoch 8\n",
      "Processing epoch 9\n"
     ]
    },
    {
     "data": {
      "text/plain": [
       "<surprise.prediction_algorithms.matrix_factorization.SVD at 0x21cdf87be20>"
      ]
     },
     "execution_count": 10,
     "metadata": {},
     "output_type": "execute_result"
    }
   ],
   "source": [
    "trainset = data.build_full_trainset()\n",
    "svd.fit(trainset)"
   ]
  },
  {
   "cell_type": "markdown",
   "id": "caf833a6",
   "metadata": {},
   "source": [
    "**Тестовое предсказание**"
   ]
  },
  {
   "cell_type": "code",
   "execution_count": 13,
   "id": "eae56744",
   "metadata": {},
   "outputs": [
    {
     "data": {
      "text/plain": [
       "1"
      ]
     },
     "execution_count": 13,
     "metadata": {},
     "output_type": "execute_result"
    }
   ],
   "source": [
    "svd.predict(uid='000cd76cd33f43d4a1ac1d16d10f8bf7', iid=222177).est"
   ]
  },
  {
   "cell_type": "code",
   "execution_count": null,
   "id": "a6ea8d21",
   "metadata": {},
   "outputs": [],
   "source": []
  },
  {
   "cell_type": "markdown",
   "id": "2c8d9efd",
   "metadata": {},
   "source": [
    "**Пока задал тестовый список cookie_id и тестовый список вакансий в get_vacancy_list_for_user на основе mfti_public**"
   ]
  },
  {
   "cell_type": "code",
   "execution_count": 13,
   "id": "8bb5084d",
   "metadata": {},
   "outputs": [],
   "source": [
    "user_id_list_test_list = ['0000c4548c3944c08972bbdc1fa4eb85',\n",
    "                          '0000d7508334414ca792c5ff66eb8c14',\n",
    "                          'ffff8283d29644e69ad6d08cc3ca7fb7']"
   ]
  },
  {
   "cell_type": "code",
   "execution_count": 17,
   "id": "a3b05ae4",
   "metadata": {},
   "outputs": [],
   "source": [
    "def get_vacancy_list_for_user(user_id):\n",
    "    \"\"\"\n",
    "    Returns list of vacancies for user_id, exclude those user interacted with \n",
    "    \"\"\"\n",
    "    res_list=[]\n",
    "    res_list_test = [174953,\n",
    "                     176171,\n",
    "                     187529,\n",
    "                     153975,\n",
    "                     137659,\n",
    "                     182445,\n",
    "                     209629,\n",
    "                     250729,\n",
    "                     135961,\n",
    "                     138688,\n",
    "                     138502,\n",
    "                     243795]\n",
    "    res_list = res_list_test\n",
    "    return res_list\n",
    "\n",
    "\n",
    "def get_recommendations(user_id_list, model, number_of_vacancies=5):\n",
    "    \"\"\"\n",
    "    Returns list with 'number_of_vacancies' vacancies for each user_id in user_id_list\n",
    "    \"\"\"    \n",
    "    res_dict = {}\n",
    "    for user_id in user_id_list:\n",
    "        vacancies_id_list = get_vacancy_list_for_user(user_id)\n",
    "        vacancies_ratings = []\n",
    "        for vacancy_id in vacancies_id_list:\n",
    "            vacancies_ratings.append(model.predict(uid=user_id, iid=vacancy_id).est)\n",
    "        sorted_vacancies = [vacancies_id_list for _, vacancies_id_list in sorted(zip(vacancies_ratings, vacancies_id_list))]\n",
    "        res_dict[user_id] = sorted_vacancies[:number_of_vacancies]\n",
    "    return res_dict"
   ]
  },
  {
   "cell_type": "code",
   "execution_count": 20,
   "id": "fd41b81f",
   "metadata": {},
   "outputs": [
    {
     "data": {
      "text/plain": [
       "{'0000c4548c3944c08972bbdc1fa4eb85': [135961, 137659, 138502, 138688, 153975],\n",
       " '0000d7508334414ca792c5ff66eb8c14': [135961, 137659, 138502, 138688, 153975],\n",
       " 'ffff8283d29644e69ad6d08cc3ca7fb7': [135961, 137659, 138502, 138688, 153975]}"
      ]
     },
     "execution_count": 20,
     "metadata": {},
     "output_type": "execute_result"
    }
   ],
   "source": [
    "get_recommendations(user_id_list_test_list, svd)"
   ]
  },
  {
   "cell_type": "code",
   "execution_count": null,
   "id": "109b3d6b",
   "metadata": {},
   "outputs": [],
   "source": []
  },
  {
   "cell_type": "code",
   "execution_count": 21,
   "id": "7cfac51e",
   "metadata": {},
   "outputs": [
    {
     "data": {
      "text/plain": [
       "{'0000c4548c3944c08972bbdc1fa4eb85': [135961, 137659, 138502],\n",
       " '0000d7508334414ca792c5ff66eb8c14': [135961, 137659, 138502],\n",
       " 'ffff8283d29644e69ad6d08cc3ca7fb7': [135961, 137659, 138502]}"
      ]
     },
     "execution_count": 21,
     "metadata": {},
     "output_type": "execute_result"
    }
   ],
   "source": [
    "get_recommendations(user_id_list_test_list, svd, number_of_vacancies=3)"
   ]
  },
  {
   "cell_type": "code",
   "execution_count": null,
   "id": "ef4fea22",
   "metadata": {},
   "outputs": [],
   "source": []
  }
 ],
 "metadata": {
  "kernelspec": {
   "display_name": "Python 3",
   "language": "python",
   "name": "python3"
  },
  "language_info": {
   "codemirror_mode": {
    "name": "ipython",
    "version": 3
   },
   "file_extension": ".py",
   "mimetype": "text/x-python",
   "name": "python",
   "nbconvert_exporter": "python",
   "pygments_lexer": "ipython3",
   "version": "3.9.13"
  }
 },
 "nbformat": 4,
 "nbformat_minor": 5
}
